{
  "nbformat": 4,
  "nbformat_minor": 0,
  "metadata": {
    "colab": {
      "provenance": [],
      "mount_file_id": "1RsJdL2cm0V7udisxFRF-Sefwu_b19mOn",
      "authorship_tag": "ABX9TyPn5BJLUL6pivhwMvfwXBcl",
      "include_colab_link": true
    },
    "kernelspec": {
      "name": "python3",
      "display_name": "Python 3"
    },
    "language_info": {
      "name": "python"
    }
  },
  "cells": [
    {
      "cell_type": "markdown",
      "metadata": {
        "id": "view-in-github",
        "colab_type": "text"
      },
      "source": [
        "<a href=\"https://colab.research.google.com/github/gurusurya946/FML/blob/main/Instagram.ipynb\" target=\"_parent\"><img src=\"https://colab.research.google.com/assets/colab-badge.svg\" alt=\"Open In Colab\"/></a>"
      ]
    },
    {
      "cell_type": "code",
      "execution_count": 32,
      "metadata": {
        "id": "vnnhg8p2ObX5"
      },
      "outputs": [],
      "source": [
        "import numpy as np\n",
        "import pandas as pd\n",
        "import matplotlib.pyplot as plt\n",
        "from sklearn.linear_model import LogisticRegression\n",
        "from sklearn.metrics import classification_report,confusion_matrix\n",
        "from sklearn.model_selection import train_test_split\n",
        "     "
      ]
    },
    {
      "cell_type": "code",
      "source": [
        "data=pd.read_csv('/content/Dataset_master.xlsx - Instagram Ads Logistic Regressi.csv')"
      ],
      "metadata": {
        "id": "NbhQimWBPQ5S"
      },
      "execution_count": 33,
      "outputs": []
    },
    {
      "cell_type": "code",
      "source": [
        "data.head()"
      ],
      "metadata": {
        "colab": {
          "base_uri": "https://localhost:8080/",
          "height": 206
        },
        "id": "1PrnQFiBPZZH",
        "outputId": "5bf5d64f-e269-42f2-d243-bc40236d5dfb"
      },
      "execution_count": 34,
      "outputs": [
        {
          "output_type": "execute_result",
          "data": {
            "text/plain": [
              "   Age  Mobile Phone  Purchased\n",
              "0   15          6334          0\n",
              "1   28          6667          0\n",
              "2   20         14334          0\n",
              "3   21         19000          0\n",
              "4   15         25334          0"
            ],
            "text/html": [
              "\n",
              "  <div id=\"df-22065a83-db8b-45da-80b0-fa05b5e94cba\">\n",
              "    <div class=\"colab-df-container\">\n",
              "      <div>\n",
              "<style scoped>\n",
              "    .dataframe tbody tr th:only-of-type {\n",
              "        vertical-align: middle;\n",
              "    }\n",
              "\n",
              "    .dataframe tbody tr th {\n",
              "        vertical-align: top;\n",
              "    }\n",
              "\n",
              "    .dataframe thead th {\n",
              "        text-align: right;\n",
              "    }\n",
              "</style>\n",
              "<table border=\"1\" class=\"dataframe\">\n",
              "  <thead>\n",
              "    <tr style=\"text-align: right;\">\n",
              "      <th></th>\n",
              "      <th>Age</th>\n",
              "      <th>Mobile Phone</th>\n",
              "      <th>Purchased</th>\n",
              "    </tr>\n",
              "  </thead>\n",
              "  <tbody>\n",
              "    <tr>\n",
              "      <th>0</th>\n",
              "      <td>15</td>\n",
              "      <td>6334</td>\n",
              "      <td>0</td>\n",
              "    </tr>\n",
              "    <tr>\n",
              "      <th>1</th>\n",
              "      <td>28</td>\n",
              "      <td>6667</td>\n",
              "      <td>0</td>\n",
              "    </tr>\n",
              "    <tr>\n",
              "      <th>2</th>\n",
              "      <td>20</td>\n",
              "      <td>14334</td>\n",
              "      <td>0</td>\n",
              "    </tr>\n",
              "    <tr>\n",
              "      <th>3</th>\n",
              "      <td>21</td>\n",
              "      <td>19000</td>\n",
              "      <td>0</td>\n",
              "    </tr>\n",
              "    <tr>\n",
              "      <th>4</th>\n",
              "      <td>15</td>\n",
              "      <td>25334</td>\n",
              "      <td>0</td>\n",
              "    </tr>\n",
              "  </tbody>\n",
              "</table>\n",
              "</div>\n",
              "      <button class=\"colab-df-convert\" onclick=\"convertToInteractive('df-22065a83-db8b-45da-80b0-fa05b5e94cba')\"\n",
              "              title=\"Convert this dataframe to an interactive table.\"\n",
              "              style=\"display:none;\">\n",
              "        \n",
              "  <svg xmlns=\"http://www.w3.org/2000/svg\" height=\"24px\"viewBox=\"0 0 24 24\"\n",
              "       width=\"24px\">\n",
              "    <path d=\"M0 0h24v24H0V0z\" fill=\"none\"/>\n",
              "    <path d=\"M18.56 5.44l.94 2.06.94-2.06 2.06-.94-2.06-.94-.94-2.06-.94 2.06-2.06.94zm-11 1L8.5 8.5l.94-2.06 2.06-.94-2.06-.94L8.5 2.5l-.94 2.06-2.06.94zm10 10l.94 2.06.94-2.06 2.06-.94-2.06-.94-.94-2.06-.94 2.06-2.06.94z\"/><path d=\"M17.41 7.96l-1.37-1.37c-.4-.4-.92-.59-1.43-.59-.52 0-1.04.2-1.43.59L10.3 9.45l-7.72 7.72c-.78.78-.78 2.05 0 2.83L4 21.41c.39.39.9.59 1.41.59.51 0 1.02-.2 1.41-.59l7.78-7.78 2.81-2.81c.8-.78.8-2.07 0-2.86zM5.41 20L4 18.59l7.72-7.72 1.47 1.35L5.41 20z\"/>\n",
              "  </svg>\n",
              "      </button>\n",
              "      \n",
              "  <style>\n",
              "    .colab-df-container {\n",
              "      display:flex;\n",
              "      flex-wrap:wrap;\n",
              "      gap: 12px;\n",
              "    }\n",
              "\n",
              "    .colab-df-convert {\n",
              "      background-color: #E8F0FE;\n",
              "      border: none;\n",
              "      border-radius: 50%;\n",
              "      cursor: pointer;\n",
              "      display: none;\n",
              "      fill: #1967D2;\n",
              "      height: 32px;\n",
              "      padding: 0 0 0 0;\n",
              "      width: 32px;\n",
              "    }\n",
              "\n",
              "    .colab-df-convert:hover {\n",
              "      background-color: #E2EBFA;\n",
              "      box-shadow: 0px 1px 2px rgba(60, 64, 67, 0.3), 0px 1px 3px 1px rgba(60, 64, 67, 0.15);\n",
              "      fill: #174EA6;\n",
              "    }\n",
              "\n",
              "    [theme=dark] .colab-df-convert {\n",
              "      background-color: #3B4455;\n",
              "      fill: #D2E3FC;\n",
              "    }\n",
              "\n",
              "    [theme=dark] .colab-df-convert:hover {\n",
              "      background-color: #434B5C;\n",
              "      box-shadow: 0px 1px 3px 1px rgba(0, 0, 0, 0.15);\n",
              "      filter: drop-shadow(0px 1px 2px rgba(0, 0, 0, 0.3));\n",
              "      fill: #FFFFFF;\n",
              "    }\n",
              "  </style>\n",
              "\n",
              "      <script>\n",
              "        const buttonEl =\n",
              "          document.querySelector('#df-22065a83-db8b-45da-80b0-fa05b5e94cba button.colab-df-convert');\n",
              "        buttonEl.style.display =\n",
              "          google.colab.kernel.accessAllowed ? 'block' : 'none';\n",
              "\n",
              "        async function convertToInteractive(key) {\n",
              "          const element = document.querySelector('#df-22065a83-db8b-45da-80b0-fa05b5e94cba');\n",
              "          const dataTable =\n",
              "            await google.colab.kernel.invokeFunction('convertToInteractive',\n",
              "                                                     [key], {});\n",
              "          if (!dataTable) return;\n",
              "\n",
              "          const docLinkHtml = 'Like what you see? Visit the ' +\n",
              "            '<a target=\"_blank\" href=https://colab.research.google.com/notebooks/data_table.ipynb>data table notebook</a>'\n",
              "            + ' to learn more about interactive tables.';\n",
              "          element.innerHTML = '';\n",
              "          dataTable['output_type'] = 'display_data';\n",
              "          await google.colab.output.renderOutput(dataTable, element);\n",
              "          const docLink = document.createElement('div');\n",
              "          docLink.innerHTML = docLinkHtml;\n",
              "          element.appendChild(docLink);\n",
              "        }\n",
              "      </script>\n",
              "    </div>\n",
              "  </div>\n",
              "  "
            ]
          },
          "metadata": {},
          "execution_count": 34
        }
      ]
    },
    {
      "cell_type": "code",
      "source": [
        "data.isnull().sum()"
      ],
      "metadata": {
        "colab": {
          "base_uri": "https://localhost:8080/"
        },
        "id": "CNbf_WQbPeMg",
        "outputId": "87d03a6b-ac1c-4212-f734-e9d76babca73"
      },
      "execution_count": 35,
      "outputs": [
        {
          "output_type": "execute_result",
          "data": {
            "text/plain": [
              "Age             0\n",
              "Mobile Phone    0\n",
              "Purchased       0\n",
              "dtype: int64"
            ]
          },
          "metadata": {},
          "execution_count": 35
        }
      ]
    },
    {
      "cell_type": "code",
      "source": [
        "data.describe()"
      ],
      "metadata": {
        "colab": {
          "base_uri": "https://localhost:8080/",
          "height": 300
        },
        "id": "HGgL4LJqPl7R",
        "outputId": "8e4c70a2-58bc-4c08-993c-f713fe55a298"
      },
      "execution_count": 36,
      "outputs": [
        {
          "output_type": "execute_result",
          "data": {
            "text/plain": [
              "              Age  Mobile Phone   Purchased\n",
              "count  199.000000    199.000000  199.000000\n",
              "mean    29.829146  25568.145729    0.371859\n",
              "std      8.481171  11958.465019    0.484520\n",
              "min     14.000000   5000.000000    0.000000\n",
              "25%     23.000000  16833.500000    0.000000\n",
              "50%     29.000000  24667.000000    0.000000\n",
              "75%     36.000000  32167.000000    1.000000\n",
              "max     48.000000  50000.000000    1.000000"
            ],
            "text/html": [
              "\n",
              "  <div id=\"df-6131f196-d8a6-4e38-bfef-a2d2b00ee2a3\">\n",
              "    <div class=\"colab-df-container\">\n",
              "      <div>\n",
              "<style scoped>\n",
              "    .dataframe tbody tr th:only-of-type {\n",
              "        vertical-align: middle;\n",
              "    }\n",
              "\n",
              "    .dataframe tbody tr th {\n",
              "        vertical-align: top;\n",
              "    }\n",
              "\n",
              "    .dataframe thead th {\n",
              "        text-align: right;\n",
              "    }\n",
              "</style>\n",
              "<table border=\"1\" class=\"dataframe\">\n",
              "  <thead>\n",
              "    <tr style=\"text-align: right;\">\n",
              "      <th></th>\n",
              "      <th>Age</th>\n",
              "      <th>Mobile Phone</th>\n",
              "      <th>Purchased</th>\n",
              "    </tr>\n",
              "  </thead>\n",
              "  <tbody>\n",
              "    <tr>\n",
              "      <th>count</th>\n",
              "      <td>199.000000</td>\n",
              "      <td>199.000000</td>\n",
              "      <td>199.000000</td>\n",
              "    </tr>\n",
              "    <tr>\n",
              "      <th>mean</th>\n",
              "      <td>29.829146</td>\n",
              "      <td>25568.145729</td>\n",
              "      <td>0.371859</td>\n",
              "    </tr>\n",
              "    <tr>\n",
              "      <th>std</th>\n",
              "      <td>8.481171</td>\n",
              "      <td>11958.465019</td>\n",
              "      <td>0.484520</td>\n",
              "    </tr>\n",
              "    <tr>\n",
              "      <th>min</th>\n",
              "      <td>14.000000</td>\n",
              "      <td>5000.000000</td>\n",
              "      <td>0.000000</td>\n",
              "    </tr>\n",
              "    <tr>\n",
              "      <th>25%</th>\n",
              "      <td>23.000000</td>\n",
              "      <td>16833.500000</td>\n",
              "      <td>0.000000</td>\n",
              "    </tr>\n",
              "    <tr>\n",
              "      <th>50%</th>\n",
              "      <td>29.000000</td>\n",
              "      <td>24667.000000</td>\n",
              "      <td>0.000000</td>\n",
              "    </tr>\n",
              "    <tr>\n",
              "      <th>75%</th>\n",
              "      <td>36.000000</td>\n",
              "      <td>32167.000000</td>\n",
              "      <td>1.000000</td>\n",
              "    </tr>\n",
              "    <tr>\n",
              "      <th>max</th>\n",
              "      <td>48.000000</td>\n",
              "      <td>50000.000000</td>\n",
              "      <td>1.000000</td>\n",
              "    </tr>\n",
              "  </tbody>\n",
              "</table>\n",
              "</div>\n",
              "      <button class=\"colab-df-convert\" onclick=\"convertToInteractive('df-6131f196-d8a6-4e38-bfef-a2d2b00ee2a3')\"\n",
              "              title=\"Convert this dataframe to an interactive table.\"\n",
              "              style=\"display:none;\">\n",
              "        \n",
              "  <svg xmlns=\"http://www.w3.org/2000/svg\" height=\"24px\"viewBox=\"0 0 24 24\"\n",
              "       width=\"24px\">\n",
              "    <path d=\"M0 0h24v24H0V0z\" fill=\"none\"/>\n",
              "    <path d=\"M18.56 5.44l.94 2.06.94-2.06 2.06-.94-2.06-.94-.94-2.06-.94 2.06-2.06.94zm-11 1L8.5 8.5l.94-2.06 2.06-.94-2.06-.94L8.5 2.5l-.94 2.06-2.06.94zm10 10l.94 2.06.94-2.06 2.06-.94-2.06-.94-.94-2.06-.94 2.06-2.06.94z\"/><path d=\"M17.41 7.96l-1.37-1.37c-.4-.4-.92-.59-1.43-.59-.52 0-1.04.2-1.43.59L10.3 9.45l-7.72 7.72c-.78.78-.78 2.05 0 2.83L4 21.41c.39.39.9.59 1.41.59.51 0 1.02-.2 1.41-.59l7.78-7.78 2.81-2.81c.8-.78.8-2.07 0-2.86zM5.41 20L4 18.59l7.72-7.72 1.47 1.35L5.41 20z\"/>\n",
              "  </svg>\n",
              "      </button>\n",
              "      \n",
              "  <style>\n",
              "    .colab-df-container {\n",
              "      display:flex;\n",
              "      flex-wrap:wrap;\n",
              "      gap: 12px;\n",
              "    }\n",
              "\n",
              "    .colab-df-convert {\n",
              "      background-color: #E8F0FE;\n",
              "      border: none;\n",
              "      border-radius: 50%;\n",
              "      cursor: pointer;\n",
              "      display: none;\n",
              "      fill: #1967D2;\n",
              "      height: 32px;\n",
              "      padding: 0 0 0 0;\n",
              "      width: 32px;\n",
              "    }\n",
              "\n",
              "    .colab-df-convert:hover {\n",
              "      background-color: #E2EBFA;\n",
              "      box-shadow: 0px 1px 2px rgba(60, 64, 67, 0.3), 0px 1px 3px 1px rgba(60, 64, 67, 0.15);\n",
              "      fill: #174EA6;\n",
              "    }\n",
              "\n",
              "    [theme=dark] .colab-df-convert {\n",
              "      background-color: #3B4455;\n",
              "      fill: #D2E3FC;\n",
              "    }\n",
              "\n",
              "    [theme=dark] .colab-df-convert:hover {\n",
              "      background-color: #434B5C;\n",
              "      box-shadow: 0px 1px 3px 1px rgba(0, 0, 0, 0.15);\n",
              "      filter: drop-shadow(0px 1px 2px rgba(0, 0, 0, 0.3));\n",
              "      fill: #FFFFFF;\n",
              "    }\n",
              "  </style>\n",
              "\n",
              "      <script>\n",
              "        const buttonEl =\n",
              "          document.querySelector('#df-6131f196-d8a6-4e38-bfef-a2d2b00ee2a3 button.colab-df-convert');\n",
              "        buttonEl.style.display =\n",
              "          google.colab.kernel.accessAllowed ? 'block' : 'none';\n",
              "\n",
              "        async function convertToInteractive(key) {\n",
              "          const element = document.querySelector('#df-6131f196-d8a6-4e38-bfef-a2d2b00ee2a3');\n",
              "          const dataTable =\n",
              "            await google.colab.kernel.invokeFunction('convertToInteractive',\n",
              "                                                     [key], {});\n",
              "          if (!dataTable) return;\n",
              "\n",
              "          const docLinkHtml = 'Like what you see? Visit the ' +\n",
              "            '<a target=\"_blank\" href=https://colab.research.google.com/notebooks/data_table.ipynb>data table notebook</a>'\n",
              "            + ' to learn more about interactive tables.';\n",
              "          element.innerHTML = '';\n",
              "          dataTable['output_type'] = 'display_data';\n",
              "          await google.colab.output.renderOutput(dataTable, element);\n",
              "          const docLink = document.createElement('div');\n",
              "          docLink.innerHTML = docLinkHtml;\n",
              "          element.appendChild(docLink);\n",
              "        }\n",
              "      </script>\n",
              "    </div>\n",
              "  </div>\n",
              "  "
            ]
          },
          "metadata": {},
          "execution_count": 36
        }
      ]
    },
    {
      "cell_type": "code",
      "source": [
        "X=data.drop('Purchased',axis=1).values\n",
        "y=data['Purchased'].values\n",
        "print(y)"
      ],
      "metadata": {
        "colab": {
          "base_uri": "https://localhost:8080/"
        },
        "id": "yFgvXzijPqax",
        "outputId": "d4dff98f-9819-4c59-ebca-c6fc19dcd863"
      },
      "execution_count": 37,
      "outputs": [
        {
          "output_type": "stream",
          "name": "stdout",
          "text": [
            "[0 0 0 0 0 0 0 1 0 0 0 0 0 0 0 0 1 0 0 0 0 0 0 0 0 0 0 0 0 0 0 1 0 0 0 0 0\n",
            " 0 0 1 0 0 0 0 1 0 0 0 0 0 0 0 0 0 0 0 0 1 0 0 0 0 0 0 0 0 0 0 0 0 0 0 0 0\n",
            " 0 0 0 0 0 0 0 0 0 1 0 1 0 1 0 1 0 1 1 0 0 1 0 0 0 1 0 1 1 1 0 0 1 1 0 1 1\n",
            " 0 1 1 0 0 1 1 0 1 1 0 0 1 0 1 0 0 1 1 1 0 0 1 1 1 0 1 1 0 1 0 0 1 1 1 1 1\n",
            " 0 1 1 1 1 0 1 1 0 1 0 1 0 1 1 1 1 0 0 1 1 1 1 0 1 0 1 0 1 1 0 1 0 1 1 0 1\n",
            " 1 0 1 0 1 0 0 1 0 0 1 1 1 0]\n"
          ]
        }
      ]
    },
    {
      "cell_type": "code",
      "source": [
        "X_train, X_test, y_train, y_test = train_test_split(X, y, test_size=0.1, random_state=42)\n",
        "     "
      ],
      "metadata": {
        "id": "o34cFMXYP6J1"
      },
      "execution_count": 38,
      "outputs": []
    },
    {
      "cell_type": "code",
      "source": [
        "X_train.reshape(-1,1)\n",
        "y_train.reshape(-1,1)\n",
        "reg=LogisticRegression(C=0.5)\n",
        "reg.fit(X_train,y_train)"
      ],
      "metadata": {
        "colab": {
          "base_uri": "https://localhost:8080/",
          "height": 74
        },
        "id": "4tBGJ9jgQEol",
        "outputId": "9bc9bff3-a4e4-4697-ef4f-5a9b13267df1"
      },
      "execution_count": 39,
      "outputs": [
        {
          "output_type": "execute_result",
          "data": {
            "text/plain": [
              "LogisticRegression(C=0.5)"
            ],
            "text/html": [
              "<style>#sk-container-id-3 {color: black;background-color: white;}#sk-container-id-3 pre{padding: 0;}#sk-container-id-3 div.sk-toggleable {background-color: white;}#sk-container-id-3 label.sk-toggleable__label {cursor: pointer;display: block;width: 100%;margin-bottom: 0;padding: 0.3em;box-sizing: border-box;text-align: center;}#sk-container-id-3 label.sk-toggleable__label-arrow:before {content: \"▸\";float: left;margin-right: 0.25em;color: #696969;}#sk-container-id-3 label.sk-toggleable__label-arrow:hover:before {color: black;}#sk-container-id-3 div.sk-estimator:hover label.sk-toggleable__label-arrow:before {color: black;}#sk-container-id-3 div.sk-toggleable__content {max-height: 0;max-width: 0;overflow: hidden;text-align: left;background-color: #f0f8ff;}#sk-container-id-3 div.sk-toggleable__content pre {margin: 0.2em;color: black;border-radius: 0.25em;background-color: #f0f8ff;}#sk-container-id-3 input.sk-toggleable__control:checked~div.sk-toggleable__content {max-height: 200px;max-width: 100%;overflow: auto;}#sk-container-id-3 input.sk-toggleable__control:checked~label.sk-toggleable__label-arrow:before {content: \"▾\";}#sk-container-id-3 div.sk-estimator input.sk-toggleable__control:checked~label.sk-toggleable__label {background-color: #d4ebff;}#sk-container-id-3 div.sk-label input.sk-toggleable__control:checked~label.sk-toggleable__label {background-color: #d4ebff;}#sk-container-id-3 input.sk-hidden--visually {border: 0;clip: rect(1px 1px 1px 1px);clip: rect(1px, 1px, 1px, 1px);height: 1px;margin: -1px;overflow: hidden;padding: 0;position: absolute;width: 1px;}#sk-container-id-3 div.sk-estimator {font-family: monospace;background-color: #f0f8ff;border: 1px dotted black;border-radius: 0.25em;box-sizing: border-box;margin-bottom: 0.5em;}#sk-container-id-3 div.sk-estimator:hover {background-color: #d4ebff;}#sk-container-id-3 div.sk-parallel-item::after {content: \"\";width: 100%;border-bottom: 1px solid gray;flex-grow: 1;}#sk-container-id-3 div.sk-label:hover label.sk-toggleable__label {background-color: #d4ebff;}#sk-container-id-3 div.sk-serial::before {content: \"\";position: absolute;border-left: 1px solid gray;box-sizing: border-box;top: 0;bottom: 0;left: 50%;z-index: 0;}#sk-container-id-3 div.sk-serial {display: flex;flex-direction: column;align-items: center;background-color: white;padding-right: 0.2em;padding-left: 0.2em;position: relative;}#sk-container-id-3 div.sk-item {position: relative;z-index: 1;}#sk-container-id-3 div.sk-parallel {display: flex;align-items: stretch;justify-content: center;background-color: white;position: relative;}#sk-container-id-3 div.sk-item::before, #sk-container-id-3 div.sk-parallel-item::before {content: \"\";position: absolute;border-left: 1px solid gray;box-sizing: border-box;top: 0;bottom: 0;left: 50%;z-index: -1;}#sk-container-id-3 div.sk-parallel-item {display: flex;flex-direction: column;z-index: 1;position: relative;background-color: white;}#sk-container-id-3 div.sk-parallel-item:first-child::after {align-self: flex-end;width: 50%;}#sk-container-id-3 div.sk-parallel-item:last-child::after {align-self: flex-start;width: 50%;}#sk-container-id-3 div.sk-parallel-item:only-child::after {width: 0;}#sk-container-id-3 div.sk-dashed-wrapped {border: 1px dashed gray;margin: 0 0.4em 0.5em 0.4em;box-sizing: border-box;padding-bottom: 0.4em;background-color: white;}#sk-container-id-3 div.sk-label label {font-family: monospace;font-weight: bold;display: inline-block;line-height: 1.2em;}#sk-container-id-3 div.sk-label-container {text-align: center;}#sk-container-id-3 div.sk-container {/* jupyter's `normalize.less` sets `[hidden] { display: none; }` but bootstrap.min.css set `[hidden] { display: none !important; }` so we also need the `!important` here to be able to override the default hidden behavior on the sphinx rendered scikit-learn.org. See: https://github.com/scikit-learn/scikit-learn/issues/21755 */display: inline-block !important;position: relative;}#sk-container-id-3 div.sk-text-repr-fallback {display: none;}</style><div id=\"sk-container-id-3\" class=\"sk-top-container\"><div class=\"sk-text-repr-fallback\"><pre>LogisticRegression(C=0.5)</pre><b>In a Jupyter environment, please rerun this cell to show the HTML representation or trust the notebook. <br />On GitHub, the HTML representation is unable to render, please try loading this page with nbviewer.org.</b></div><div class=\"sk-container\" hidden><div class=\"sk-item\"><div class=\"sk-estimator sk-toggleable\"><input class=\"sk-toggleable__control sk-hidden--visually\" id=\"sk-estimator-id-3\" type=\"checkbox\" checked><label for=\"sk-estimator-id-3\" class=\"sk-toggleable__label sk-toggleable__label-arrow\">LogisticRegression</label><div class=\"sk-toggleable__content\"><pre>LogisticRegression(C=0.5)</pre></div></div></div></div></div>"
            ]
          },
          "metadata": {},
          "execution_count": 39
        }
      ]
    },
    {
      "cell_type": "code",
      "source": [
        "reg.coef_"
      ],
      "metadata": {
        "colab": {
          "base_uri": "https://localhost:8080/"
        },
        "id": "KGGhD8kdQKng",
        "outputId": "3c9901ca-6796-4f96-edbe-d5bba7a56c60"
      },
      "execution_count": 40,
      "outputs": [
        {
          "output_type": "execute_result",
          "data": {
            "text/plain": [
              "array([[3.03171874e-01, 1.37996088e-04]])"
            ]
          },
          "metadata": {},
          "execution_count": 40
        }
      ]
    },
    {
      "cell_type": "code",
      "source": [
        "reg.intercept_scaling"
      ],
      "metadata": {
        "colab": {
          "base_uri": "https://localhost:8080/"
        },
        "id": "9g7KQz5RQOzq",
        "outputId": "a9844326-b32e-40f9-d8f8-a5bce9024aea"
      },
      "execution_count": 41,
      "outputs": [
        {
          "output_type": "execute_result",
          "data": {
            "text/plain": [
              "1"
            ]
          },
          "metadata": {},
          "execution_count": 41
        }
      ]
    },
    {
      "cell_type": "code",
      "source": [
        "reg.predict_proba(X_train)"
      ],
      "metadata": {
        "colab": {
          "base_uri": "https://localhost:8080/"
        },
        "id": "4WhhNA5QQSOy",
        "outputId": "6f88a481-71a2-4d3b-e03e-0514bb087c90"
      },
      "execution_count": 42,
      "outputs": [
        {
          "output_type": "execute_result",
          "data": {
            "text/plain": [
              "array([[5.56864006e-01, 4.43135994e-01],\n",
              "       [8.34914957e-01, 1.65085043e-01],\n",
              "       [2.49876503e-01, 7.50123497e-01],\n",
              "       [6.29223513e-02, 9.37077649e-01],\n",
              "       [9.98693234e-01, 1.30676574e-03],\n",
              "       [3.62627116e-02, 9.63737288e-01],\n",
              "       [3.44798941e-02, 9.65520106e-01],\n",
              "       [9.03402870e-01, 9.65971305e-02],\n",
              "       [9.98471782e-01, 1.52821823e-03],\n",
              "       [1.85236579e-02, 9.81476342e-01],\n",
              "       [6.72554208e-01, 3.27445792e-01],\n",
              "       [9.99725653e-01, 2.74346974e-04],\n",
              "       [6.36695036e-02, 9.36330496e-01],\n",
              "       [1.94799840e-01, 8.05200160e-01],\n",
              "       [7.38774261e-01, 2.61225739e-01],\n",
              "       [9.81033494e-01, 1.89665062e-02],\n",
              "       [7.87417514e-01, 2.12582486e-01],\n",
              "       [3.91028155e-03, 9.96089718e-01],\n",
              "       [9.50295717e-01, 4.97042832e-02],\n",
              "       [9.99259682e-01, 7.40317938e-04],\n",
              "       [8.34914957e-01, 1.65085043e-01],\n",
              "       [9.95068262e-01, 4.93173795e-03],\n",
              "       [9.97646187e-01, 2.35381299e-03],\n",
              "       [6.23058215e-02, 9.37694178e-01],\n",
              "       [7.69746587e-01, 2.30253413e-01],\n",
              "       [9.74644305e-01, 2.53556947e-02],\n",
              "       [9.99416568e-01, 5.83432373e-04],\n",
              "       [2.29685581e-01, 7.70314419e-01],\n",
              "       [9.26244641e-01, 7.37553588e-02],\n",
              "       [8.70486597e-01, 1.29513403e-01],\n",
              "       [8.76492622e-01, 1.23507378e-01],\n",
              "       [9.90804177e-01, 9.19582302e-03],\n",
              "       [9.49097524e-01, 5.09024755e-02],\n",
              "       [3.02845734e-01, 6.97154266e-01],\n",
              "       [9.28080059e-01, 7.19199406e-02],\n",
              "       [6.37144342e-01, 3.62855658e-01],\n",
              "       [3.00126441e-03, 9.96998736e-01],\n",
              "       [7.77813826e-01, 2.22186174e-01],\n",
              "       [3.58271763e-01, 6.41728237e-01],\n",
              "       [7.03293215e-02, 9.29670679e-01],\n",
              "       [1.58785797e-02, 9.84121420e-01],\n",
              "       [6.49138129e-01, 3.50861871e-01],\n",
              "       [5.64076138e-01, 4.35923862e-01],\n",
              "       [9.98785446e-01, 1.21455423e-03],\n",
              "       [2.74526001e-01, 7.25473999e-01],\n",
              "       [9.95736468e-01, 4.26353212e-03],\n",
              "       [9.91535755e-01, 8.46424454e-03],\n",
              "       [8.71431418e-01, 1.28568582e-01],\n",
              "       [1.98096910e-01, 8.01903090e-01],\n",
              "       [7.40796361e-01, 2.59203639e-01],\n",
              "       [9.21699051e-01, 7.83009488e-02],\n",
              "       [7.91585769e-01, 2.08414231e-01],\n",
              "       [9.99052727e-01, 9.47273152e-04],\n",
              "       [7.75993183e-01, 2.24006817e-01],\n",
              "       [5.07444389e-01, 4.92555611e-01],\n",
              "       [9.99561843e-01, 4.38157058e-04],\n",
              "       [8.00746676e-01, 1.99253324e-01],\n",
              "       [6.04677895e-01, 3.95322105e-01],\n",
              "       [7.99065404e-01, 2.00934596e-01],\n",
              "       [9.96573965e-01, 3.42603460e-03],\n",
              "       [9.42906633e-01, 5.70933672e-02],\n",
              "       [9.96134292e-01, 3.86570822e-03],\n",
              "       [1.12521133e-01, 8.87478867e-01],\n",
              "       [2.12064969e-02, 9.78793503e-01],\n",
              "       [2.21294639e-01, 7.78705361e-01],\n",
              "       [9.99592730e-01, 4.07269827e-04],\n",
              "       [9.02297547e-01, 9.77024530e-02],\n",
              "       [9.90804177e-01, 9.19582302e-03],\n",
              "       [1.36130695e-01, 8.63869305e-01],\n",
              "       [1.65803035e-01, 8.34196965e-01],\n",
              "       [9.64780849e-01, 3.52191513e-02],\n",
              "       [9.70286533e-01, 2.97134668e-02],\n",
              "       [9.39440107e-01, 6.05598934e-02],\n",
              "       [8.87997106e-01, 1.12002894e-01],\n",
              "       [9.70225999e-01, 2.97740014e-02],\n",
              "       [6.79886227e-01, 3.20113773e-01],\n",
              "       [6.68406610e-01, 3.31593390e-01],\n",
              "       [9.96566796e-01, 3.43320387e-03],\n",
              "       [9.96538389e-01, 3.46161104e-03],\n",
              "       [5.82477380e-01, 4.17522620e-01],\n",
              "       [5.89780066e-02, 9.41021993e-01],\n",
              "       [8.30839944e-01, 1.69160056e-01],\n",
              "       [1.74522958e-02, 9.82547704e-01],\n",
              "       [9.81494603e-01, 1.85053966e-02],\n",
              "       [9.72096874e-01, 2.79031258e-02],\n",
              "       [4.13231865e-02, 9.58676814e-01],\n",
              "       [3.63573239e-01, 6.36426761e-01],\n",
              "       [9.99749737e-01, 2.50262992e-04],\n",
              "       [9.36764172e-01, 6.32358282e-02],\n",
              "       [1.01240882e-02, 9.89875912e-01],\n",
              "       [9.96213833e-01, 3.78616698e-03],\n",
              "       [7.86770647e-02, 9.21322935e-01],\n",
              "       [9.99060520e-01, 9.39480054e-04],\n",
              "       [2.64652187e-01, 7.35347813e-01],\n",
              "       [6.28381977e-03, 9.93716180e-01],\n",
              "       [9.98386547e-01, 1.61345288e-03],\n",
              "       [7.50704577e-01, 2.49295423e-01],\n",
              "       [6.82138139e-01, 3.17861861e-01],\n",
              "       [8.45849000e-01, 1.54151000e-01],\n",
              "       [5.78927889e-01, 4.21072111e-01],\n",
              "       [9.68034888e-01, 3.19651121e-02],\n",
              "       [9.95610354e-01, 4.38964599e-03],\n",
              "       [3.86120299e-01, 6.13879701e-01],\n",
              "       [2.45204712e-01, 7.54795288e-01],\n",
              "       [9.68678611e-01, 3.13213894e-02],\n",
              "       [6.68406610e-01, 3.31593390e-01],\n",
              "       [9.81494603e-01, 1.85053966e-02],\n",
              "       [6.78511552e-01, 3.21488448e-01],\n",
              "       [5.93102696e-01, 4.06897304e-01],\n",
              "       [5.87035735e-01, 4.12964265e-01],\n",
              "       [9.97626363e-01, 2.37363703e-03],\n",
              "       [6.26913438e-01, 3.73086562e-01],\n",
              "       [9.18307368e-01, 8.16926317e-02],\n",
              "       [9.48996091e-01, 5.10039088e-02],\n",
              "       [1.24987923e-01, 8.75012077e-01],\n",
              "       [9.91214761e-01, 8.78523944e-03],\n",
              "       [9.23043216e-01, 7.69567838e-02],\n",
              "       [9.71001197e-01, 2.89988028e-02],\n",
              "       [9.93767271e-03, 9.90062327e-01],\n",
              "       [5.49104494e-01, 4.50895506e-01],\n",
              "       [1.34936034e-02, 9.86506397e-01],\n",
              "       [6.92940199e-01, 3.07059801e-01],\n",
              "       [9.75755493e-01, 2.42445074e-02],\n",
              "       [9.85421441e-01, 1.45785595e-02],\n",
              "       [9.81494603e-01, 1.85053966e-02],\n",
              "       [3.17624990e-01, 6.82375010e-01],\n",
              "       [1.77084355e-01, 8.22915645e-01],\n",
              "       [9.77910800e-02, 9.02208920e-01],\n",
              "       [1.36130695e-01, 8.63869305e-01],\n",
              "       [6.64201927e-01, 3.35798073e-01],\n",
              "       [9.21699051e-01, 7.83009488e-02],\n",
              "       [7.45359650e-02, 9.25464035e-01],\n",
              "       [9.97834635e-01, 2.16536459e-03],\n",
              "       [9.99349605e-01, 6.50395303e-04],\n",
              "       [9.91963288e-01, 8.03671207e-03],\n",
              "       [7.83879629e-01, 2.16120371e-01],\n",
              "       [6.68406610e-01, 3.31593390e-01],\n",
              "       [9.12483157e-01, 8.75168432e-02],\n",
              "       [9.99654718e-01, 3.45282235e-04],\n",
              "       [9.99993978e-03, 9.90000060e-01],\n",
              "       [3.82110848e-02, 9.61788915e-01],\n",
              "       [9.11142307e-01, 8.88576934e-02],\n",
              "       [5.78227842e-02, 9.42177216e-01],\n",
              "       [9.01752170e-01, 9.82478297e-02],\n",
              "       [9.67843381e-01, 3.21566194e-02],\n",
              "       [3.19461894e-03, 9.96805381e-01],\n",
              "       [7.18957305e-01, 2.81042695e-01],\n",
              "       [7.39675897e-02, 9.26032410e-01],\n",
              "       [9.89843726e-01, 1.01562738e-02],\n",
              "       [9.62811353e-01, 3.71886467e-02],\n",
              "       [1.87156006e-02, 9.81284399e-01],\n",
              "       [9.84746343e-01, 1.52536573e-02],\n",
              "       [4.83391407e-01, 5.16608593e-01],\n",
              "       [5.93608813e-01, 4.06391187e-01],\n",
              "       [7.35543337e-01, 2.64456663e-01],\n",
              "       [1.42650671e-01, 8.57349329e-01],\n",
              "       [6.53401764e-01, 3.46598236e-01],\n",
              "       [6.55776800e-01, 3.44223200e-01],\n",
              "       [8.12955998e-02, 9.18704400e-01],\n",
              "       [9.86686330e-01, 1.33136698e-02],\n",
              "       [8.39761624e-01, 1.60238376e-01],\n",
              "       [1.03652237e-01, 8.96347763e-01],\n",
              "       [5.43958489e-02, 9.45604151e-01],\n",
              "       [4.82897988e-01, 5.17102012e-01],\n",
              "       [3.95140963e-03, 9.96048590e-01],\n",
              "       [8.14155808e-04, 9.99185844e-01],\n",
              "       [3.69642840e-03, 9.96303572e-01],\n",
              "       [3.66559732e-03, 9.96334403e-01],\n",
              "       [9.97392661e-01, 2.60733882e-03],\n",
              "       [6.68406610e-01, 3.31593390e-01],\n",
              "       [5.18924070e-01, 4.81075930e-01],\n",
              "       [9.48996091e-01, 5.10039088e-02],\n",
              "       [9.06641785e-01, 9.33582152e-02],\n",
              "       [9.83540196e-01, 1.64598042e-02],\n",
              "       [3.61178014e-01, 6.38821986e-01],\n",
              "       [9.82311032e-01, 1.76889682e-02],\n",
              "       [3.62793206e-03, 9.96372068e-01],\n",
              "       [7.90542992e-01, 2.09457008e-01],\n",
              "       [1.54282077e-01, 8.45717923e-01]])"
            ]
          },
          "metadata": {},
          "execution_count": 42
        }
      ]
    },
    {
      "cell_type": "code",
      "source": [
        "y_predict=reg.predict(X_test)\n",
        "print(y_predict)"
      ],
      "metadata": {
        "colab": {
          "base_uri": "https://localhost:8080/"
        },
        "id": "Uh190IUmQXlL",
        "outputId": "1538e6ad-4693-41eb-d2ec-ac5a4afe43a3"
      },
      "execution_count": 43,
      "outputs": [
        {
          "output_type": "stream",
          "name": "stdout",
          "text": [
            "[1 0 0 1 0 1 0 0 1 0 0 0 0 0 0 1 0 0 0 1]\n"
          ]
        }
      ]
    },
    {
      "cell_type": "code",
      "source": [
        "reg.score(X_test, y_test)"
      ],
      "metadata": {
        "colab": {
          "base_uri": "https://localhost:8080/"
        },
        "id": "YIRtIiR3Qbc5",
        "outputId": "88a53085-a188-4db3-b401-cef6b5488a76"
      },
      "execution_count": 44,
      "outputs": [
        {
          "output_type": "execute_result",
          "data": {
            "text/plain": [
              "0.9"
            ]
          },
          "metadata": {},
          "execution_count": 44
        }
      ]
    },
    {
      "cell_type": "code",
      "source": [
        "confusion_matrix(y_test,y_predict)"
      ],
      "metadata": {
        "colab": {
          "base_uri": "https://localhost:8080/"
        },
        "id": "EVZlcyO0Qfuv",
        "outputId": "d99f1d92-074d-48a3-c81d-0210cc379c5e"
      },
      "execution_count": 45,
      "outputs": [
        {
          "output_type": "execute_result",
          "data": {
            "text/plain": [
              "array([[13,  1],\n",
              "       [ 1,  5]])"
            ]
          },
          "metadata": {},
          "execution_count": 45
        }
      ]
    },
    {
      "cell_type": "code",
      "source": [
        "print(classification_report(y_test, y_predict))"
      ],
      "metadata": {
        "colab": {
          "base_uri": "https://localhost:8080/"
        },
        "id": "_LDGoHmPQkX0",
        "outputId": "42e762e3-1450-4fd4-b732-44aea09aefb0"
      },
      "execution_count": 46,
      "outputs": [
        {
          "output_type": "stream",
          "name": "stdout",
          "text": [
            "              precision    recall  f1-score   support\n",
            "\n",
            "           0       0.93      0.93      0.93        14\n",
            "           1       0.83      0.83      0.83         6\n",
            "\n",
            "    accuracy                           0.90        20\n",
            "   macro avg       0.88      0.88      0.88        20\n",
            "weighted avg       0.90      0.90      0.90        20\n",
            "\n"
          ]
        }
      ]
    },
    {
      "cell_type": "code",
      "source": [
        "cm=confusion_matrix(y_test,y_predict)\n",
        "fig, ax = plt.subplots(figsize=(8, 8))\n",
        "ax.imshow(cm)\n",
        "ax.grid(False)\n",
        "ax.xaxis.set(ticks=(0, 1), ticklabels=('Predicted 0s', 'Predicted 1s'))\n",
        "ax.yaxis.set(ticks=(0, 1), ticklabels=('Actual 0s', 'Actual 1s'))\n",
        "ax.set_ylim(1.5, -0.5)\n",
        "for i in range(2):\n",
        "    for j in range(2):\n",
        "        ax.text(j, i, cm[i, j], ha='center', va='center', color='red')\n",
        "plt.show()"
      ],
      "metadata": {
        "colab": {
          "base_uri": "https://localhost:8080/",
          "height": 676
        },
        "id": "SqDVDl8VQ_QB",
        "outputId": "6c0635dd-67f8-4419-d39e-d3238b121d9a"
      },
      "execution_count": 47,
      "outputs": [
        {
          "output_type": "display_data",
          "data": {
            "text/plain": [
              "<Figure size 800x800 with 1 Axes>"
            ],
            "image/png": "[encoded data removed]"
          },
          "metadata": {}
        }
      ]
    }
  ]
}