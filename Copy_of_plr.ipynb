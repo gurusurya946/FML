{
  "nbformat": 4,
  "nbformat_minor": 0,
  "metadata": {
    "colab": {
      "provenance": [],
      "toc_visible": true,
      "mount_file_id": "1obfk77DQVK9ci7Ia_gXSek32xBXI4y65",
      "authorship_tag": "ABX9TyNE64FfMpEoMEnsCz2fuzHa",
      "include_colab_link": true
    },
    "kernelspec": {
      "name": "python3",
      "display_name": "Python 3"
    },
    "language_info": {
      "name": "python"
    }
  },
  "cells": [
    {
      "cell_type": "markdown",
      "metadata": {
        "id": "view-in-github",
        "colab_type": "text"
      },
      "source": [
        "<a href=\"https://colab.research.google.com/github/gurusurya946/FML/blob/main/Copy_of_plr.ipynb\" target=\"_parent\"><img src=\"https://colab.research.google.com/assets/colab-badge.svg\" alt=\"Open In Colab\"/></a>"
      ]
    },
    {
      "cell_type": "code",
      "execution_count": null,
      "metadata": {
        "id": "hdO0b_37I5oI"
      },
      "outputs": [],
      "source": [
        "import numpy as np\n",
        "import pandas as pd\n",
        "import matplotlib.pyplot as plt\n",
        "from sklearn.linear_model import LogisticRegression\n",
        "from sklearn.metrics import classification_report,confusion_matrix\n",
        "from sklearn.model_selection import train_test_split"
      ]
    },
    {
      "cell_type": "code",
      "source": [
        "from google.colab import drive\n",
        "drive.mount('/content/drive')"
      ],
      "metadata": {
        "id": "-KeprBPXdSL6",
        "outputId": "6479bc3e-7877-494a-cdab-152b4064779d",
        "colab": {
          "base_uri": "https://localhost:8080/"
        }
      },
      "execution_count": null,
      "outputs": [
        {
          "output_type": "stream",
          "name": "stdout",
          "text": [
            "Drive already mounted at /content/drive; to attempt to forcibly remount, call drive.mount(\"/content/drive\", force_remount=True).\n"
          ]
        }
      ]
    },
    {
      "cell_type": "code",
      "source": [
        "data=pd.read_csv('penguins.csv')"
      ],
      "metadata": {
        "id": "mVAkE94xJto9"
      },
      "execution_count": null,
      "outputs": []
    },
    {
      "cell_type": "code",
      "source": [
        "data.head()"
      ],
      "metadata": {
        "colab": {
          "base_uri": "https://localhost:8080/",
          "height": 206
        },
        "id": "SEnrJLa6K936",
        "outputId": "095cd909-9c0d-4b93-d234-4e6d713a1542"
      },
      "execution_count": null,
      "outputs": [
        {
          "output_type": "execute_result",
          "data": {
            "text/plain": [
              "   rowid species     island  bill_length_mm  bill_depth_mm  flipper_length_mm  \\\n",
              "0      1  Adelie  Torgersen            39.1           18.7              181.0   \n",
              "1      2  Adelie  Torgersen            39.5           17.4              186.0   \n",
              "2      3  Adelie  Torgersen            40.3           18.0              195.0   \n",
              "3      4  Adelie  Torgersen             NaN            NaN                NaN   \n",
              "4      5  Adelie  Torgersen            36.7           19.3              193.0   \n",
              "\n",
              "   body_mass_g     sex  year  \n",
              "0       3750.0    male  2007  \n",
              "1       3800.0  female  2007  \n",
              "2       3250.0  female  2007  \n",
              "3          NaN     NaN  2007  \n",
              "4       3450.0  female  2007  "
            ],
            "text/html": [
              "\n",
              "  <div id=\"df-05496292-3e21-47d3-9e95-49bbfbc06dc0\">\n",
              "    <div class=\"colab-df-container\">\n",
              "      <div>\n",
              "<style scoped>\n",
              "    .dataframe tbody tr th:only-of-type {\n",
              "        vertical-align: middle;\n",
              "    }\n",
              "\n",
              "    .dataframe tbody tr th {\n",
              "        vertical-align: top;\n",
              "    }\n",
              "\n",
              "    .dataframe thead th {\n",
              "        text-align: right;\n",
              "    }\n",
              "</style>\n",
              "<table border=\"1\" class=\"dataframe\">\n",
              "  <thead>\n",
              "    <tr style=\"text-align: right;\">\n",
              "      <th></th>\n",
              "      <th>rowid</th>\n",
              "      <th>species</th>\n",
              "      <th>island</th>\n",
              "      <th>bill_length_mm</th>\n",
              "      <th>bill_depth_mm</th>\n",
              "      <th>flipper_length_mm</th>\n",
              "      <th>body_mass_g</th>\n",
              "      <th>sex</th>\n",
              "      <th>year</th>\n",
              "    </tr>\n",
              "  </thead>\n",
              "  <tbody>\n",
              "    <tr>\n",
              "      <th>0</th>\n",
              "      <td>1</td>\n",
              "      <td>Adelie</td>\n",
              "      <td>Torgersen</td>\n",
              "      <td>39.1</td>\n",
              "      <td>18.7</td>\n",
              "      <td>181.0</td>\n",
              "      <td>3750.0</td>\n",
              "      <td>male</td>\n",
              "      <td>2007</td>\n",
              "    </tr>\n",
              "    <tr>\n",
              "      <th>1</th>\n",
              "      <td>2</td>\n",
              "      <td>Adelie</td>\n",
              "      <td>Torgersen</td>\n",
              "      <td>39.5</td>\n",
              "      <td>17.4</td>\n",
              "      <td>186.0</td>\n",
              "      <td>3800.0</td>\n",
              "      <td>female</td>\n",
              "      <td>2007</td>\n",
              "    </tr>\n",
              "    <tr>\n",
              "      <th>2</th>\n",
              "      <td>3</td>\n",
              "      <td>Adelie</td>\n",
              "      <td>Torgersen</td>\n",
              "      <td>40.3</td>\n",
              "      <td>18.0</td>\n",
              "      <td>195.0</td>\n",
              "      <td>3250.0</td>\n",
              "      <td>female</td>\n",
              "      <td>2007</td>\n",
              "    </tr>\n",
              "    <tr>\n",
              "      <th>3</th>\n",
              "      <td>4</td>\n",
              "      <td>Adelie</td>\n",
              "      <td>Torgersen</td>\n",
              "      <td>NaN</td>\n",
              "      <td>NaN</td>\n",
              "      <td>NaN</td>\n",
              "      <td>NaN</td>\n",
              "      <td>NaN</td>\n",
              "      <td>2007</td>\n",
              "    </tr>\n",
              "    <tr>\n",
              "      <th>4</th>\n",
              "      <td>5</td>\n",
              "      <td>Adelie</td>\n",
              "      <td>Torgersen</td>\n",
              "      <td>36.7</td>\n",
              "      <td>19.3</td>\n",
              "      <td>193.0</td>\n",
              "      <td>3450.0</td>\n",
              "      <td>female</td>\n",
              "      <td>2007</td>\n",
              "    </tr>\n",
              "  </tbody>\n",
              "</table>\n",
              "</div>\n",
              "      <button class=\"colab-df-convert\" onclick=\"convertToInteractive('df-05496292-3e21-47d3-9e95-49bbfbc06dc0')\"\n",
              "              title=\"Convert this dataframe to an interactive table.\"\n",
              "              style=\"display:none;\">\n",
              "        \n",
              "  <svg xmlns=\"http://www.w3.org/2000/svg\" height=\"24px\"viewBox=\"0 0 24 24\"\n",
              "       width=\"24px\">\n",
              "    <path d=\"M0 0h24v24H0V0z\" fill=\"none\"/>\n",
              "    <path d=\"M18.56 5.44l.94 2.06.94-2.06 2.06-.94-2.06-.94-.94-2.06-.94 2.06-2.06.94zm-11 1L8.5 8.5l.94-2.06 2.06-.94-2.06-.94L8.5 2.5l-.94 2.06-2.06.94zm10 10l.94 2.06.94-2.06 2.06-.94-2.06-.94-.94-2.06-.94 2.06-2.06.94z\"/><path d=\"M17.41 7.96l-1.37-1.37c-.4-.4-.92-.59-1.43-.59-.52 0-1.04.2-1.43.59L10.3 9.45l-7.72 7.72c-.78.78-.78 2.05 0 2.83L4 21.41c.39.39.9.59 1.41.59.51 0 1.02-.2 1.41-.59l7.78-7.78 2.81-2.81c.8-.78.8-2.07 0-2.86zM5.41 20L4 18.59l7.72-7.72 1.47 1.35L5.41 20z\"/>\n",
              "  </svg>\n",
              "      </button>\n",
              "      \n",
              "  <style>\n",
              "    .colab-df-container {\n",
              "      display:flex;\n",
              "      flex-wrap:wrap;\n",
              "      gap: 12px;\n",
              "    }\n",
              "\n",
              "    .colab-df-convert {\n",
              "      background-color: #E8F0FE;\n",
              "      border: none;\n",
              "      border-radius: 50%;\n",
              "      cursor: pointer;\n",
              "      display: none;\n",
              "      fill: #1967D2;\n",
              "      height: 32px;\n",
              "      padding: 0 0 0 0;\n",
              "      width: 32px;\n",
              "    }\n",
              "\n",
              "    .colab-df-convert:hover {\n",
              "      background-color: #E2EBFA;\n",
              "      box-shadow: 0px 1px 2px rgba(60, 64, 67, 0.3), 0px 1px 3px 1px rgba(60, 64, 67, 0.15);\n",
              "      fill: #174EA6;\n",
              "    }\n",
              "\n",
              "    [theme=dark] .colab-df-convert {\n",
              "      background-color: #3B4455;\n",
              "      fill: #D2E3FC;\n",
              "    }\n",
              "\n",
              "    [theme=dark] .colab-df-convert:hover {\n",
              "      background-color: #434B5C;\n",
              "      box-shadow: 0px 1px 3px 1px rgba(0, 0, 0, 0.15);\n",
              "      filter: drop-shadow(0px 1px 2px rgba(0, 0, 0, 0.3));\n",
              "      fill: #FFFFFF;\n",
              "    }\n",
              "  </style>\n",
              "\n",
              "      <script>\n",
              "        const buttonEl =\n",
              "          document.querySelector('#df-05496292-3e21-47d3-9e95-49bbfbc06dc0 button.colab-df-convert');\n",
              "        buttonEl.style.display =\n",
              "          google.colab.kernel.accessAllowed ? 'block' : 'none';\n",
              "\n",
              "        async function convertToInteractive(key) {\n",
              "          const element = document.querySelector('#df-05496292-3e21-47d3-9e95-49bbfbc06dc0');\n",
              "          const dataTable =\n",
              "            await google.colab.kernel.invokeFunction('convertToInteractive',\n",
              "                                                     [key], {});\n",
              "          if (!dataTable) return;\n",
              "\n",
              "          const docLinkHtml = 'Like what you see? Visit the ' +\n",
              "            '<a target=\"_blank\" href=https://colab.research.google.com/notebooks/data_table.ipynb>data table notebook</a>'\n",
              "            + ' to learn more about interactive tables.';\n",
              "          element.innerHTML = '';\n",
              "          dataTable['output_type'] = 'display_data';\n",
              "          await google.colab.output.renderOutput(dataTable, element);\n",
              "          const docLink = document.createElement('div');\n",
              "          docLink.innerHTML = docLinkHtml;\n",
              "          element.appendChild(docLink);\n",
              "        }\n",
              "      </script>\n",
              "    </div>\n",
              "  </div>\n",
              "  "
            ]
          },
          "metadata": {},
          "execution_count": 65
        }
      ]
    },
    {
      "cell_type": "code",
      "source": [
        "data.tail()"
      ],
      "metadata": {
        "colab": {
          "base_uri": "https://localhost:8080/",
          "height": 206
        },
        "id": "NgDrhls0LpLI",
        "outputId": "53abf4b4-711f-4fdc-caa8-15219651fba7"
      },
      "execution_count": null,
      "outputs": [
        {
          "output_type": "execute_result",
          "data": {
            "text/plain": [
              "     rowid    species island  bill_length_mm  bill_depth_mm  \\\n",
              "339    340  Chinstrap  Dream            55.8           19.8   \n",
              "340    341  Chinstrap  Dream            43.5           18.1   \n",
              "341    342  Chinstrap  Dream            49.6           18.2   \n",
              "342    343  Chinstrap  Dream            50.8           19.0   \n",
              "343    344  Chinstrap  Dream            50.2           18.7   \n",
              "\n",
              "     flipper_length_mm  body_mass_g     sex  year  \n",
              "339              207.0       4000.0    male  2009  \n",
              "340              202.0       3400.0  female  2009  \n",
              "341              193.0       3775.0    male  2009  \n",
              "342              210.0       4100.0    male  2009  \n",
              "343              198.0       3775.0  female  2009  "
            ],
            "text/html": [
              "\n",
              "  <div id=\"df-294dd1be-8a33-4c4c-888c-da657157dd29\">\n",
              "    <div class=\"colab-df-container\">\n",
              "      <div>\n",
              "<style scoped>\n",
              "    .dataframe tbody tr th:only-of-type {\n",
              "        vertical-align: middle;\n",
              "    }\n",
              "\n",
              "    .dataframe tbody tr th {\n",
              "        vertical-align: top;\n",
              "    }\n",
              "\n",
              "    .dataframe thead th {\n",
              "        text-align: right;\n",
              "    }\n",
              "</style>\n",
              "<table border=\"1\" class=\"dataframe\">\n",
              "  <thead>\n",
              "    <tr style=\"text-align: right;\">\n",
              "      <th></th>\n",
              "      <th>rowid</th>\n",
              "      <th>species</th>\n",
              "      <th>island</th>\n",
              "      <th>bill_length_mm</th>\n",
              "      <th>bill_depth_mm</th>\n",
              "      <th>flipper_length_mm</th>\n",
              "      <th>body_mass_g</th>\n",
              "      <th>sex</th>\n",
              "      <th>year</th>\n",
              "    </tr>\n",
              "  </thead>\n",
              "  <tbody>\n",
              "    <tr>\n",
              "      <th>339</th>\n",
              "      <td>340</td>\n",
              "      <td>Chinstrap</td>\n",
              "      <td>Dream</td>\n",
              "      <td>55.8</td>\n",
              "      <td>19.8</td>\n",
              "      <td>207.0</td>\n",
              "      <td>4000.0</td>\n",
              "      <td>male</td>\n",
              "      <td>2009</td>\n",
              "    </tr>\n",
              "    <tr>\n",
              "      <th>340</th>\n",
              "      <td>341</td>\n",
              "      <td>Chinstrap</td>\n",
              "      <td>Dream</td>\n",
              "      <td>43.5</td>\n",
              "      <td>18.1</td>\n",
              "      <td>202.0</td>\n",
              "      <td>3400.0</td>\n",
              "      <td>female</td>\n",
              "      <td>2009</td>\n",
              "    </tr>\n",
              "    <tr>\n",
              "      <th>341</th>\n",
              "      <td>342</td>\n",
              "      <td>Chinstrap</td>\n",
              "      <td>Dream</td>\n",
              "      <td>49.6</td>\n",
              "      <td>18.2</td>\n",
              "      <td>193.0</td>\n",
              "      <td>3775.0</td>\n",
              "      <td>male</td>\n",
              "      <td>2009</td>\n",
              "    </tr>\n",
              "    <tr>\n",
              "      <th>342</th>\n",
              "      <td>343</td>\n",
              "      <td>Chinstrap</td>\n",
              "      <td>Dream</td>\n",
              "      <td>50.8</td>\n",
              "      <td>19.0</td>\n",
              "      <td>210.0</td>\n",
              "      <td>4100.0</td>\n",
              "      <td>male</td>\n",
              "      <td>2009</td>\n",
              "    </tr>\n",
              "    <tr>\n",
              "      <th>343</th>\n",
              "      <td>344</td>\n",
              "      <td>Chinstrap</td>\n",
              "      <td>Dream</td>\n",
              "      <td>50.2</td>\n",
              "      <td>18.7</td>\n",
              "      <td>198.0</td>\n",
              "      <td>3775.0</td>\n",
              "      <td>female</td>\n",
              "      <td>2009</td>\n",
              "    </tr>\n",
              "  </tbody>\n",
              "</table>\n",
              "</div>\n",
              "      <button class=\"colab-df-convert\" onclick=\"convertToInteractive('df-294dd1be-8a33-4c4c-888c-da657157dd29')\"\n",
              "              title=\"Convert this dataframe to an interactive table.\"\n",
              "              style=\"display:none;\">\n",
              "        \n",
              "  <svg xmlns=\"http://www.w3.org/2000/svg\" height=\"24px\"viewBox=\"0 0 24 24\"\n",
              "       width=\"24px\">\n",
              "    <path d=\"M0 0h24v24H0V0z\" fill=\"none\"/>\n",
              "    <path d=\"M18.56 5.44l.94 2.06.94-2.06 2.06-.94-2.06-.94-.94-2.06-.94 2.06-2.06.94zm-11 1L8.5 8.5l.94-2.06 2.06-.94-2.06-.94L8.5 2.5l-.94 2.06-2.06.94zm10 10l.94 2.06.94-2.06 2.06-.94-2.06-.94-.94-2.06-.94 2.06-2.06.94z\"/><path d=\"M17.41 7.96l-1.37-1.37c-.4-.4-.92-.59-1.43-.59-.52 0-1.04.2-1.43.59L10.3 9.45l-7.72 7.72c-.78.78-.78 2.05 0 2.83L4 21.41c.39.39.9.59 1.41.59.51 0 1.02-.2 1.41-.59l7.78-7.78 2.81-2.81c.8-.78.8-2.07 0-2.86zM5.41 20L4 18.59l7.72-7.72 1.47 1.35L5.41 20z\"/>\n",
              "  </svg>\n",
              "      </button>\n",
              "      \n",
              "  <style>\n",
              "    .colab-df-container {\n",
              "      display:flex;\n",
              "      flex-wrap:wrap;\n",
              "      gap: 12px;\n",
              "    }\n",
              "\n",
              "    .colab-df-convert {\n",
              "      background-color: #E8F0FE;\n",
              "      border: none;\n",
              "      border-radius: 50%;\n",
              "      cursor: pointer;\n",
              "      display: none;\n",
              "      fill: #1967D2;\n",
              "      height: 32px;\n",
              "      padding: 0 0 0 0;\n",
              "      width: 32px;\n",
              "    }\n",
              "\n",
              "    .colab-df-convert:hover {\n",
              "      background-color: #E2EBFA;\n",
              "      box-shadow: 0px 1px 2px rgba(60, 64, 67, 0.3), 0px 1px 3px 1px rgba(60, 64, 67, 0.15);\n",
              "      fill: #174EA6;\n",
              "    }\n",
              "\n",
              "    [theme=dark] .colab-df-convert {\n",
              "      background-color: #3B4455;\n",
              "      fill: #D2E3FC;\n",
              "    }\n",
              "\n",
              "    [theme=dark] .colab-df-convert:hover {\n",
              "      background-color: #434B5C;\n",
              "      box-shadow: 0px 1px 3px 1px rgba(0, 0, 0, 0.15);\n",
              "      filter: drop-shadow(0px 1px 2px rgba(0, 0, 0, 0.3));\n",
              "      fill: #FFFFFF;\n",
              "    }\n",
              "  </style>\n",
              "\n",
              "      <script>\n",
              "        const buttonEl =\n",
              "          document.querySelector('#df-294dd1be-8a33-4c4c-888c-da657157dd29 button.colab-df-convert');\n",
              "        buttonEl.style.display =\n",
              "          google.colab.kernel.accessAllowed ? 'block' : 'none';\n",
              "\n",
              "        async function convertToInteractive(key) {\n",
              "          const element = document.querySelector('#df-294dd1be-8a33-4c4c-888c-da657157dd29');\n",
              "          const dataTable =\n",
              "            await google.colab.kernel.invokeFunction('convertToInteractive',\n",
              "                                                     [key], {});\n",
              "          if (!dataTable) return;\n",
              "\n",
              "          const docLinkHtml = 'Like what you see? Visit the ' +\n",
              "            '<a target=\"_blank\" href=https://colab.research.google.com/notebooks/data_table.ipynb>data table notebook</a>'\n",
              "            + ' to learn more about interactive tables.';\n",
              "          element.innerHTML = '';\n",
              "          dataTable['output_type'] = 'display_data';\n",
              "          await google.colab.output.renderOutput(dataTable, element);\n",
              "          const docLink = document.createElement('div');\n",
              "          docLink.innerHTML = docLinkHtml;\n",
              "          element.appendChild(docLink);\n",
              "        }\n",
              "      </script>\n",
              "    </div>\n",
              "  </div>\n",
              "  "
            ]
          },
          "metadata": {},
          "execution_count": 66
        }
      ]
    },
    {
      "cell_type": "code",
      "source": [
        "data.describe()"
      ],
      "metadata": {
        "colab": {
          "base_uri": "https://localhost:8080/",
          "height": 300
        },
        "id": "wHSXw5B4LxlQ",
        "outputId": "f79bd8d1-54a4-419d-f824-bae5f31e6134"
      },
      "execution_count": null,
      "outputs": [
        {
          "output_type": "execute_result",
          "data": {
            "text/plain": [
              "            rowid  bill_length_mm  bill_depth_mm  flipper_length_mm  \\\n",
              "count  344.000000      342.000000     342.000000         342.000000   \n",
              "mean   172.500000       43.921930      17.151170         200.915205   \n",
              "std     99.448479        5.459584       1.974793          14.061714   \n",
              "min      1.000000       32.100000      13.100000         172.000000   \n",
              "25%     86.750000       39.225000      15.600000         190.000000   \n",
              "50%    172.500000       44.450000      17.300000         197.000000   \n",
              "75%    258.250000       48.500000      18.700000         213.000000   \n",
              "max    344.000000       59.600000      21.500000         231.000000   \n",
              "\n",
              "       body_mass_g         year  \n",
              "count   342.000000   344.000000  \n",
              "mean   4201.754386  2008.029070  \n",
              "std     801.954536     0.818356  \n",
              "min    2700.000000  2007.000000  \n",
              "25%    3550.000000  2007.000000  \n",
              "50%    4050.000000  2008.000000  \n",
              "75%    4750.000000  2009.000000  \n",
              "max    6300.000000  2009.000000  "
            ],
            "text/html": [
              "\n",
              "  <div id=\"df-022df8ed-01e2-4ba7-872c-80594c8c52e5\">\n",
              "    <div class=\"colab-df-container\">\n",
              "      <div>\n",
              "<style scoped>\n",
              "    .dataframe tbody tr th:only-of-type {\n",
              "        vertical-align: middle;\n",
              "    }\n",
              "\n",
              "    .dataframe tbody tr th {\n",
              "        vertical-align: top;\n",
              "    }\n",
              "\n",
              "    .dataframe thead th {\n",
              "        text-align: right;\n",
              "    }\n",
              "</style>\n",
              "<table border=\"1\" class=\"dataframe\">\n",
              "  <thead>\n",
              "    <tr style=\"text-align: right;\">\n",
              "      <th></th>\n",
              "      <th>rowid</th>\n",
              "      <th>bill_length_mm</th>\n",
              "      <th>bill_depth_mm</th>\n",
              "      <th>flipper_length_mm</th>\n",
              "      <th>body_mass_g</th>\n",
              "      <th>year</th>\n",
              "    </tr>\n",
              "  </thead>\n",
              "  <tbody>\n",
              "    <tr>\n",
              "      <th>count</th>\n",
              "      <td>344.000000</td>\n",
              "      <td>342.000000</td>\n",
              "      <td>342.000000</td>\n",
              "      <td>342.000000</td>\n",
              "      <td>342.000000</td>\n",
              "      <td>344.000000</td>\n",
              "    </tr>\n",
              "    <tr>\n",
              "      <th>mean</th>\n",
              "      <td>172.500000</td>\n",
              "      <td>43.921930</td>\n",
              "      <td>17.151170</td>\n",
              "      <td>200.915205</td>\n",
              "      <td>4201.754386</td>\n",
              "      <td>2008.029070</td>\n",
              "    </tr>\n",
              "    <tr>\n",
              "      <th>std</th>\n",
              "      <td>99.448479</td>\n",
              "      <td>5.459584</td>\n",
              "      <td>1.974793</td>\n",
              "      <td>14.061714</td>\n",
              "      <td>801.954536</td>\n",
              "      <td>0.818356</td>\n",
              "    </tr>\n",
              "    <tr>\n",
              "      <th>min</th>\n",
              "      <td>1.000000</td>\n",
              "      <td>32.100000</td>\n",
              "      <td>13.100000</td>\n",
              "      <td>172.000000</td>\n",
              "      <td>2700.000000</td>\n",
              "      <td>2007.000000</td>\n",
              "    </tr>\n",
              "    <tr>\n",
              "      <th>25%</th>\n",
              "      <td>86.750000</td>\n",
              "      <td>39.225000</td>\n",
              "      <td>15.600000</td>\n",
              "      <td>190.000000</td>\n",
              "      <td>3550.000000</td>\n",
              "      <td>2007.000000</td>\n",
              "    </tr>\n",
              "    <tr>\n",
              "      <th>50%</th>\n",
              "      <td>172.500000</td>\n",
              "      <td>44.450000</td>\n",
              "      <td>17.300000</td>\n",
              "      <td>197.000000</td>\n",
              "      <td>4050.000000</td>\n",
              "      <td>2008.000000</td>\n",
              "    </tr>\n",
              "    <tr>\n",
              "      <th>75%</th>\n",
              "      <td>258.250000</td>\n",
              "      <td>48.500000</td>\n",
              "      <td>18.700000</td>\n",
              "      <td>213.000000</td>\n",
              "      <td>4750.000000</td>\n",
              "      <td>2009.000000</td>\n",
              "    </tr>\n",
              "    <tr>\n",
              "      <th>max</th>\n",
              "      <td>344.000000</td>\n",
              "      <td>59.600000</td>\n",
              "      <td>21.500000</td>\n",
              "      <td>231.000000</td>\n",
              "      <td>6300.000000</td>\n",
              "      <td>2009.000000</td>\n",
              "    </tr>\n",
              "  </tbody>\n",
              "</table>\n",
              "</div>\n",
              "      <button class=\"colab-df-convert\" onclick=\"convertToInteractive('df-022df8ed-01e2-4ba7-872c-80594c8c52e5')\"\n",
              "              title=\"Convert this dataframe to an interactive table.\"\n",
              "              style=\"display:none;\">\n",
              "        \n",
              "  <svg xmlns=\"http://www.w3.org/2000/svg\" height=\"24px\"viewBox=\"0 0 24 24\"\n",
              "       width=\"24px\">\n",
              "    <path d=\"M0 0h24v24H0V0z\" fill=\"none\"/>\n",
              "    <path d=\"M18.56 5.44l.94 2.06.94-2.06 2.06-.94-2.06-.94-.94-2.06-.94 2.06-2.06.94zm-11 1L8.5 8.5l.94-2.06 2.06-.94-2.06-.94L8.5 2.5l-.94 2.06-2.06.94zm10 10l.94 2.06.94-2.06 2.06-.94-2.06-.94-.94-2.06-.94 2.06-2.06.94z\"/><path d=\"M17.41 7.96l-1.37-1.37c-.4-.4-.92-.59-1.43-.59-.52 0-1.04.2-1.43.59L10.3 9.45l-7.72 7.72c-.78.78-.78 2.05 0 2.83L4 21.41c.39.39.9.59 1.41.59.51 0 1.02-.2 1.41-.59l7.78-7.78 2.81-2.81c.8-.78.8-2.07 0-2.86zM5.41 20L4 18.59l7.72-7.72 1.47 1.35L5.41 20z\"/>\n",
              "  </svg>\n",
              "      </button>\n",
              "      \n",
              "  <style>\n",
              "    .colab-df-container {\n",
              "      display:flex;\n",
              "      flex-wrap:wrap;\n",
              "      gap: 12px;\n",
              "    }\n",
              "\n",
              "    .colab-df-convert {\n",
              "      background-color: #E8F0FE;\n",
              "      border: none;\n",
              "      border-radius: 50%;\n",
              "      cursor: pointer;\n",
              "      display: none;\n",
              "      fill: #1967D2;\n",
              "      height: 32px;\n",
              "      padding: 0 0 0 0;\n",
              "      width: 32px;\n",
              "    }\n",
              "\n",
              "    .colab-df-convert:hover {\n",
              "      background-color: #E2EBFA;\n",
              "      box-shadow: 0px 1px 2px rgba(60, 64, 67, 0.3), 0px 1px 3px 1px rgba(60, 64, 67, 0.15);\n",
              "      fill: #174EA6;\n",
              "    }\n",
              "\n",
              "    [theme=dark] .colab-df-convert {\n",
              "      background-color: #3B4455;\n",
              "      fill: #D2E3FC;\n",
              "    }\n",
              "\n",
              "    [theme=dark] .colab-df-convert:hover {\n",
              "      background-color: #434B5C;\n",
              "      box-shadow: 0px 1px 3px 1px rgba(0, 0, 0, 0.15);\n",
              "      filter: drop-shadow(0px 1px 2px rgba(0, 0, 0, 0.3));\n",
              "      fill: #FFFFFF;\n",
              "    }\n",
              "  </style>\n",
              "\n",
              "      <script>\n",
              "        const buttonEl =\n",
              "          document.querySelector('#df-022df8ed-01e2-4ba7-872c-80594c8c52e5 button.colab-df-convert');\n",
              "        buttonEl.style.display =\n",
              "          google.colab.kernel.accessAllowed ? 'block' : 'none';\n",
              "\n",
              "        async function convertToInteractive(key) {\n",
              "          const element = document.querySelector('#df-022df8ed-01e2-4ba7-872c-80594c8c52e5');\n",
              "          const dataTable =\n",
              "            await google.colab.kernel.invokeFunction('convertToInteractive',\n",
              "                                                     [key], {});\n",
              "          if (!dataTable) return;\n",
              "\n",
              "          const docLinkHtml = 'Like what you see? Visit the ' +\n",
              "            '<a target=\"_blank\" href=https://colab.research.google.com/notebooks/data_table.ipynb>data table notebook</a>'\n",
              "            + ' to learn more about interactive tables.';\n",
              "          element.innerHTML = '';\n",
              "          dataTable['output_type'] = 'display_data';\n",
              "          await google.colab.output.renderOutput(dataTable, element);\n",
              "          const docLink = document.createElement('div');\n",
              "          docLink.innerHTML = docLinkHtml;\n",
              "          element.appendChild(docLink);\n",
              "        }\n",
              "      </script>\n",
              "    </div>\n",
              "  </div>\n",
              "  "
            ]
          },
          "metadata": {},
          "execution_count": 67
        }
      ]
    },
    {
      "cell_type": "code",
      "source": [
        "\n",
        "data.isnull().sum()"
      ],
      "metadata": {
        "colab": {
          "base_uri": "https://localhost:8080/"
        },
        "id": "6eCzx0Z5L19J",
        "outputId": "be3ce99f-f0cf-4140-cfe2-09b4e3fdb4f1"
      },
      "execution_count": null,
      "outputs": [
        {
          "output_type": "execute_result",
          "data": {
            "text/plain": [
              "rowid                 0\n",
              "species               0\n",
              "island                0\n",
              "bill_length_mm        2\n",
              "bill_depth_mm         2\n",
              "flipper_length_mm     2\n",
              "body_mass_g           2\n",
              "sex                  11\n",
              "year                  0\n",
              "dtype: int64"
            ]
          },
          "metadata": {},
          "execution_count": 68
        }
      ]
    },
    {
      "cell_type": "code",
      "source": [
        "z=data['island'].values\n",
        "print(z)"
      ],
      "metadata": {
        "id": "SSFzdWFdRbMF",
        "outputId": "441290de-c203-48b2-bdf6-4eedf2ad0967",
        "colab": {
          "base_uri": "https://localhost:8080/"
        }
      },
      "execution_count": null,
      "outputs": [
        {
          "output_type": "stream",
          "name": "stdout",
          "text": [
            "['Torgersen' 'Torgersen' 'Torgersen' 'Torgersen' 'Torgersen' 'Torgersen'\n",
            " 'Torgersen' 'Torgersen' 'Torgersen' 'Torgersen' 'Torgersen' 'Torgersen'\n",
            " 'Torgersen' 'Torgersen' 'Torgersen' 'Torgersen' 'Torgersen' 'Torgersen'\n",
            " 'Torgersen' 'Torgersen' 'Biscoe' 'Biscoe' 'Biscoe' 'Biscoe' 'Biscoe'\n",
            " 'Biscoe' 'Biscoe' 'Biscoe' 'Biscoe' 'Biscoe' 'Dream' 'Dream' 'Dream'\n",
            " 'Dream' 'Dream' 'Dream' 'Dream' 'Dream' 'Dream' 'Dream' 'Dream' 'Dream'\n",
            " 'Dream' 'Dream' 'Dream' 'Dream' 'Dream' 'Dream' 'Dream' 'Dream' 'Biscoe'\n",
            " 'Biscoe' 'Biscoe' 'Biscoe' 'Biscoe' 'Biscoe' 'Biscoe' 'Biscoe' 'Biscoe'\n",
            " 'Biscoe' 'Biscoe' 'Biscoe' 'Biscoe' 'Biscoe' 'Biscoe' 'Biscoe' 'Biscoe'\n",
            " 'Biscoe' 'Torgersen' 'Torgersen' 'Torgersen' 'Torgersen' 'Torgersen'\n",
            " 'Torgersen' 'Torgersen' 'Torgersen' 'Torgersen' 'Torgersen' 'Torgersen'\n",
            " 'Torgersen' 'Torgersen' 'Torgersen' 'Torgersen' 'Torgersen' 'Dream'\n",
            " 'Dream' 'Dream' 'Dream' 'Dream' 'Dream' 'Dream' 'Dream' 'Dream' 'Dream'\n",
            " 'Dream' 'Dream' 'Dream' 'Dream' 'Dream' 'Dream' 'Biscoe' 'Biscoe'\n",
            " 'Biscoe' 'Biscoe' 'Biscoe' 'Biscoe' 'Biscoe' 'Biscoe' 'Biscoe' 'Biscoe'\n",
            " 'Biscoe' 'Biscoe' 'Biscoe' 'Biscoe' 'Biscoe' 'Biscoe' 'Torgersen'\n",
            " 'Torgersen' 'Torgersen' 'Torgersen' 'Torgersen' 'Torgersen' 'Torgersen'\n",
            " 'Torgersen' 'Torgersen' 'Torgersen' 'Torgersen' 'Torgersen' 'Torgersen'\n",
            " 'Torgersen' 'Torgersen' 'Torgersen' 'Dream' 'Dream' 'Dream' 'Dream'\n",
            " 'Dream' 'Dream' 'Dream' 'Dream' 'Dream' 'Dream' 'Dream' 'Dream' 'Dream'\n",
            " 'Dream' 'Dream' 'Dream' 'Dream' 'Dream' 'Dream' 'Dream' 'Biscoe' 'Biscoe'\n",
            " 'Biscoe' 'Biscoe' 'Biscoe' 'Biscoe' 'Biscoe' 'Biscoe' 'Biscoe' 'Biscoe'\n",
            " 'Biscoe' 'Biscoe' 'Biscoe' 'Biscoe' 'Biscoe' 'Biscoe' 'Biscoe' 'Biscoe'\n",
            " 'Biscoe' 'Biscoe' 'Biscoe' 'Biscoe' 'Biscoe' 'Biscoe' 'Biscoe' 'Biscoe'\n",
            " 'Biscoe' 'Biscoe' 'Biscoe' 'Biscoe' 'Biscoe' 'Biscoe' 'Biscoe' 'Biscoe'\n",
            " 'Biscoe' 'Biscoe' 'Biscoe' 'Biscoe' 'Biscoe' 'Biscoe' 'Biscoe' 'Biscoe'\n",
            " 'Biscoe' 'Biscoe' 'Biscoe' 'Biscoe' 'Biscoe' 'Biscoe' 'Biscoe' 'Biscoe'\n",
            " 'Biscoe' 'Biscoe' 'Biscoe' 'Biscoe' 'Biscoe' 'Biscoe' 'Biscoe' 'Biscoe'\n",
            " 'Biscoe' 'Biscoe' 'Biscoe' 'Biscoe' 'Biscoe' 'Biscoe' 'Biscoe' 'Biscoe'\n",
            " 'Biscoe' 'Biscoe' 'Biscoe' 'Biscoe' 'Biscoe' 'Biscoe' 'Biscoe' 'Biscoe'\n",
            " 'Biscoe' 'Biscoe' 'Biscoe' 'Biscoe' 'Biscoe' 'Biscoe' 'Biscoe' 'Biscoe'\n",
            " 'Biscoe' 'Biscoe' 'Biscoe' 'Biscoe' 'Biscoe' 'Biscoe' 'Biscoe' 'Biscoe'\n",
            " 'Biscoe' 'Biscoe' 'Biscoe' 'Biscoe' 'Biscoe' 'Biscoe' 'Biscoe' 'Biscoe'\n",
            " 'Biscoe' 'Biscoe' 'Biscoe' 'Biscoe' 'Biscoe' 'Biscoe' 'Biscoe' 'Biscoe'\n",
            " 'Biscoe' 'Biscoe' 'Biscoe' 'Biscoe' 'Biscoe' 'Biscoe' 'Biscoe' 'Biscoe'\n",
            " 'Biscoe' 'Biscoe' 'Biscoe' 'Biscoe' 'Biscoe' 'Biscoe' 'Biscoe' 'Biscoe'\n",
            " 'Biscoe' 'Biscoe' 'Dream' 'Dream' 'Dream' 'Dream' 'Dream' 'Dream' 'Dream'\n",
            " 'Dream' 'Dream' 'Dream' 'Dream' 'Dream' 'Dream' 'Dream' 'Dream' 'Dream'\n",
            " 'Dream' 'Dream' 'Dream' 'Dream' 'Dream' 'Dream' 'Dream' 'Dream' 'Dream'\n",
            " 'Dream' 'Dream' 'Dream' 'Dream' 'Dream' 'Dream' 'Dream' 'Dream' 'Dream'\n",
            " 'Dream' 'Dream' 'Dream' 'Dream' 'Dream' 'Dream' 'Dream' 'Dream' 'Dream'\n",
            " 'Dream' 'Dream' 'Dream' 'Dream' 'Dream' 'Dream' 'Dream' 'Dream' 'Dream'\n",
            " 'Dream' 'Dream' 'Dream' 'Dream' 'Dream' 'Dream' 'Dream' 'Dream' 'Dream'\n",
            " 'Dream' 'Dream' 'Dream' 'Dream' 'Dream' 'Dream' 'Dream']\n"
          ]
        }
      ]
    },
    {
      "cell_type": "code",
      "source": [
        "data['bill_length_mm'].fillna(data['bill_length_mm'].mean(),inplace=True)\n",
        "data['bill_depth_mm'].fillna(data['bill_depth_mm'].mean(),inplace=True)\n",
        "data['flipper_length_mm'].fillna(data['flipper_length_mm'].mean(),inplace=True)\n",
        "data['body_mass_g'].fillna(data['body_mass_g'].mean(),inplace=True)\n",
        "\n",
        "data['sex'].fillna(data['sex'].mode()[0],inplace=True)\n",
        "data['sex']=data['sex'].replace('male',0)\n",
        "data['sex']=data['sex'].replace('female',1)\n",
        "data['species']=data['species'].replace('Adelie',0)\n",
        "data['species']=data['species'].replace('Gentoo',1)\n",
        "data['species']=data['species'].replace('Chinstrap',2)\n",
        "data['island']=data['island'].replace('Torgersen',0)\n",
        "data['island']=data['island'].replace('Biscoe',1)\n",
        "data['island']=data['island'].replace('Dream',2)"
      ],
      "metadata": {
        "id": "i50u7Hf0MRyY"
      },
      "execution_count": null,
      "outputs": []
    },
    {
      "cell_type": "code",
      "source": [
        "data.isnull().sum()"
      ],
      "metadata": {
        "colab": {
          "base_uri": "https://localhost:8080/"
        },
        "id": "2or96GIpMaxU",
        "outputId": "4a23d998-5e23-4c6c-a546-55682877e727"
      },
      "execution_count": null,
      "outputs": [
        {
          "output_type": "execute_result",
          "data": {
            "text/plain": [
              "rowid                0\n",
              "species              0\n",
              "island               0\n",
              "bill_length_mm       0\n",
              "bill_depth_mm        0\n",
              "flipper_length_mm    0\n",
              "body_mass_g          0\n",
              "sex                  0\n",
              "year                 0\n",
              "dtype: int64"
            ]
          },
          "metadata": {},
          "execution_count": 84
        }
      ]
    },
    {
      "cell_type": "code",
      "source": [
        "X=data.drop('species',axis=1).values\n",
        "y=data['species'].values\n",
        "print(y)"
      ],
      "metadata": {
        "colab": {
          "base_uri": "https://localhost:8080/"
        },
        "id": "Wz-gT0nPRcfV",
        "outputId": "c468b02f-1906-4c58-c04f-1f01a416f3aa"
      },
      "execution_count": null,
      "outputs": [
        {
          "output_type": "stream",
          "name": "stdout",
          "text": [
            "[0 0 0 0 0 0 0 0 0 0 0 0 0 0 0 0 0 0 0 0 0 0 0 0 0 0 0 0 0 0 0 0 0 0 0 0 0\n",
            " 0 0 0 0 0 0 0 0 0 0 0 0 0 0 0 0 0 0 0 0 0 0 0 0 0 0 0 0 0 0 0 0 0 0 0 0 0\n",
            " 0 0 0 0 0 0 0 0 0 0 0 0 0 0 0 0 0 0 0 0 0 0 0 0 0 0 0 0 0 0 0 0 0 0 0 0 0\n",
            " 0 0 0 0 0 0 0 0 0 0 0 0 0 0 0 0 0 0 0 0 0 0 0 0 0 0 0 0 0 0 0 0 0 0 0 0 0\n",
            " 0 0 0 0 1 1 1 1 1 1 1 1 1 1 1 1 1 1 1 1 1 1 1 1 1 1 1 1 1 1 1 1 1 1 1 1 1\n",
            " 1 1 1 1 1 1 1 1 1 1 1 1 1 1 1 1 1 1 1 1 1 1 1 1 1 1 1 1 1 1 1 1 1 1 1 1 1\n",
            " 1 1 1 1 1 1 1 1 1 1 1 1 1 1 1 1 1 1 1 1 1 1 1 1 1 1 1 1 1 1 1 1 1 1 1 1 1\n",
            " 1 1 1 1 1 1 1 1 1 1 1 1 1 1 1 1 1 2 2 2 2 2 2 2 2 2 2 2 2 2 2 2 2 2 2 2 2\n",
            " 2 2 2 2 2 2 2 2 2 2 2 2 2 2 2 2 2 2 2 2 2 2 2 2 2 2 2 2 2 2 2 2 2 2 2 2 2\n",
            " 2 2 2 2 2 2 2 2 2 2 2]\n"
          ]
        }
      ]
    },
    {
      "cell_type": "code",
      "source": [],
      "metadata": {
        "id": "_PKRVxGRiiq3"
      },
      "execution_count": null,
      "outputs": []
    },
    {
      "cell_type": "code",
      "source": [
        "X_train, X_test, y_train, y_test = train_test_split(X, y, test_size=0.25, random_state=42)"
      ],
      "metadata": {
        "id": "2tW1uGuTR3aT"
      },
      "execution_count": null,
      "outputs": []
    },
    {
      "cell_type": "code",
      "source": [
        "X_train.reshape(-1,1)\n",
        "y_train.reshape(-1,1)\n",
        "reg=LogisticRegression(C=0.5)\n",
        "reg.fit(X_train,y_train)"
      ],
      "metadata": {
        "colab": {
          "base_uri": "https://localhost:8080/",
          "height": 234
        },
        "id": "M_HarU2dSP_u",
        "outputId": "2a681535-9aaa-409e-e7da-9f0be18c51a3"
      },
      "execution_count": null,
      "outputs": [
        {
          "output_type": "stream",
          "name": "stderr",
          "text": [
            "/usr/local/lib/python3.9/dist-packages/sklearn/linear_model/_logistic.py:458: ConvergenceWarning: lbfgs failed to converge (status=1):\n",
            "STOP: TOTAL NO. of ITERATIONS REACHED LIMIT.\n",
            "\n",
            "Increase the number of iterations (max_iter) or scale the data as shown in:\n",
            "    https://scikit-learn.org/stable/modules/preprocessing.html\n",
            "Please also refer to the documentation for alternative solver options:\n",
            "    https://scikit-learn.org/stable/modules/linear_model.html#logistic-regression\n",
            "  n_iter_i = _check_optimize_result(\n"
          ]
        },
        {
          "output_type": "execute_result",
          "data": {
            "text/plain": [
              "LogisticRegression(C=0.5)"
            ],
            "text/html": [
              "<style>#sk-container-id-1 {color: black;background-color: white;}#sk-container-id-1 pre{padding: 0;}#sk-container-id-1 div.sk-toggleable {background-color: white;}#sk-container-id-1 label.sk-toggleable__label {cursor: pointer;display: block;width: 100%;margin-bottom: 0;padding: 0.3em;box-sizing: border-box;text-align: center;}#sk-container-id-1 label.sk-toggleable__label-arrow:before {content: \"▸\";float: left;margin-right: 0.25em;color: #696969;}#sk-container-id-1 label.sk-toggleable__label-arrow:hover:before {color: black;}#sk-container-id-1 div.sk-estimator:hover label.sk-toggleable__label-arrow:before {color: black;}#sk-container-id-1 div.sk-toggleable__content {max-height: 0;max-width: 0;overflow: hidden;text-align: left;background-color: #f0f8ff;}#sk-container-id-1 div.sk-toggleable__content pre {margin: 0.2em;color: black;border-radius: 0.25em;background-color: #f0f8ff;}#sk-container-id-1 input.sk-toggleable__control:checked~div.sk-toggleable__content {max-height: 200px;max-width: 100%;overflow: auto;}#sk-container-id-1 input.sk-toggleable__control:checked~label.sk-toggleable__label-arrow:before {content: \"▾\";}#sk-container-id-1 div.sk-estimator input.sk-toggleable__control:checked~label.sk-toggleable__label {background-color: #d4ebff;}#sk-container-id-1 div.sk-label input.sk-toggleable__control:checked~label.sk-toggleable__label {background-color: #d4ebff;}#sk-container-id-1 input.sk-hidden--visually {border: 0;clip: rect(1px 1px 1px 1px);clip: rect(1px, 1px, 1px, 1px);height: 1px;margin: -1px;overflow: hidden;padding: 0;position: absolute;width: 1px;}#sk-container-id-1 div.sk-estimator {font-family: monospace;background-color: #f0f8ff;border: 1px dotted black;border-radius: 0.25em;box-sizing: border-box;margin-bottom: 0.5em;}#sk-container-id-1 div.sk-estimator:hover {background-color: #d4ebff;}#sk-container-id-1 div.sk-parallel-item::after {content: \"\";width: 100%;border-bottom: 1px solid gray;flex-grow: 1;}#sk-container-id-1 div.sk-label:hover label.sk-toggleable__label {background-color: #d4ebff;}#sk-container-id-1 div.sk-serial::before {content: \"\";position: absolute;border-left: 1px solid gray;box-sizing: border-box;top: 0;bottom: 0;left: 50%;z-index: 0;}#sk-container-id-1 div.sk-serial {display: flex;flex-direction: column;align-items: center;background-color: white;padding-right: 0.2em;padding-left: 0.2em;position: relative;}#sk-container-id-1 div.sk-item {position: relative;z-index: 1;}#sk-container-id-1 div.sk-parallel {display: flex;align-items: stretch;justify-content: center;background-color: white;position: relative;}#sk-container-id-1 div.sk-item::before, #sk-container-id-1 div.sk-parallel-item::before {content: \"\";position: absolute;border-left: 1px solid gray;box-sizing: border-box;top: 0;bottom: 0;left: 50%;z-index: -1;}#sk-container-id-1 div.sk-parallel-item {display: flex;flex-direction: column;z-index: 1;position: relative;background-color: white;}#sk-container-id-1 div.sk-parallel-item:first-child::after {align-self: flex-end;width: 50%;}#sk-container-id-1 div.sk-parallel-item:last-child::after {align-self: flex-start;width: 50%;}#sk-container-id-1 div.sk-parallel-item:only-child::after {width: 0;}#sk-container-id-1 div.sk-dashed-wrapped {border: 1px dashed gray;margin: 0 0.4em 0.5em 0.4em;box-sizing: border-box;padding-bottom: 0.4em;background-color: white;}#sk-container-id-1 div.sk-label label {font-family: monospace;font-weight: bold;display: inline-block;line-height: 1.2em;}#sk-container-id-1 div.sk-label-container {text-align: center;}#sk-container-id-1 div.sk-container {/* jupyter's `normalize.less` sets `[hidden] { display: none; }` but bootstrap.min.css set `[hidden] { display: none !important; }` so we also need the `!important` here to be able to override the default hidden behavior on the sphinx rendered scikit-learn.org. See: https://github.com/scikit-learn/scikit-learn/issues/21755 */display: inline-block !important;position: relative;}#sk-container-id-1 div.sk-text-repr-fallback {display: none;}</style><div id=\"sk-container-id-1\" class=\"sk-top-container\"><div class=\"sk-text-repr-fallback\"><pre>LogisticRegression(C=0.5)</pre><b>In a Jupyter environment, please rerun this cell to show the HTML representation or trust the notebook. <br />On GitHub, the HTML representation is unable to render, please try loading this page with nbviewer.org.</b></div><div class=\"sk-container\" hidden><div class=\"sk-item\"><div class=\"sk-estimator sk-toggleable\"><input class=\"sk-toggleable__control sk-hidden--visually\" id=\"sk-estimator-id-1\" type=\"checkbox\" checked><label for=\"sk-estimator-id-1\" class=\"sk-toggleable__label sk-toggleable__label-arrow\">LogisticRegression</label><div class=\"sk-toggleable__content\"><pre>LogisticRegression(C=0.5)</pre></div></div></div></div></div>"
            ]
          },
          "metadata": {},
          "execution_count": 87
        }
      ]
    },
    {
      "cell_type": "code",
      "source": [
        "reg.coef_"
      ],
      "metadata": {
        "colab": {
          "base_uri": "https://localhost:8080/"
        },
        "id": "-_vHJKdtSTs5",
        "outputId": "93071d37-e81c-4ba2-c398-967f43522ee7"
      },
      "execution_count": null,
      "outputs": [
        {
          "output_type": "execute_result",
          "data": {
            "text/plain": [
              "array([[-3.48228023e-01,  9.72207667e-04, -2.52947255e-02,\n",
              "         1.26404075e-02, -4.41253390e-02, -4.87111370e-03,\n",
              "        -2.56260734e-03,  5.00891904e-02],\n",
              "       [-1.87364636e-02, -8.36834201e-03, -1.21270491e-02,\n",
              "        -2.59958243e-02,  6.96935927e-02,  8.83728214e-03,\n",
              "        -2.16129089e-04, -1.56828094e-02],\n",
              "       [ 3.66964487e-01,  7.39613435e-03,  3.74217746e-02,\n",
              "         1.33554168e-02, -2.55682537e-02, -3.96616844e-03,\n",
              "         2.77873643e-03, -3.44063811e-02]])"
            ]
          },
          "metadata": {},
          "execution_count": 88
        }
      ]
    },
    {
      "cell_type": "code",
      "source": [
        "reg.intercept_scaling"
      ],
      "metadata": {
        "colab": {
          "base_uri": "https://localhost:8080/"
        },
        "id": "r3b2_-2FSVaB",
        "outputId": "18895521-277d-45ca-dafd-978ed90b670a"
      },
      "execution_count": null,
      "outputs": [
        {
          "output_type": "execute_result",
          "data": {
            "text/plain": [
              "1"
            ]
          },
          "metadata": {},
          "execution_count": 89
        }
      ]
    },
    {
      "cell_type": "code",
      "source": [
        "reg.predict_proba(X_train)"
      ],
      "metadata": {
        "colab": {
          "base_uri": "https://localhost:8080/"
        },
        "id": "IRw55YGaSh3F",
        "outputId": "e9dccb27-9aa3-4784-f27b-cc77fd85431c"
      },
      "execution_count": null,
      "outputs": [
        {
          "output_type": "execute_result",
          "data": {
            "text/plain": [
              "array([[1.00000000e+00, 4.69025736e-19, 2.89941620e-64],\n",
              "       [1.00000000e+00, 4.99599041e-23, 1.33459116e-62],\n",
              "       [1.04813546e-15, 1.00000000e+00, 1.94566370e-10],\n",
              "       [9.99998085e-01, 1.91514968e-06, 4.21799764e-25],\n",
              "       [4.57584262e-14, 1.00000000e+00, 1.53704126e-17],\n",
              "       [4.39885548e-20, 9.99999999e-01, 1.28440648e-09],\n",
              "       [5.34096864e-21, 4.18291972e-05, 9.99958171e-01],\n",
              "       [9.97444496e-01, 2.55550436e-03, 1.20079889e-26],\n",
              "       [6.22213700e-22, 9.99993837e-01, 6.16287071e-06],\n",
              "       [1.94552577e-13, 1.00000000e+00, 6.48083179e-26],\n",
              "       [9.99994655e-01, 5.34467226e-06, 1.31657140e-25],\n",
              "       [1.00000000e+00, 1.07064150e-20, 1.08897214e-63],\n",
              "       [5.86149250e-19, 9.99999942e-01, 5.81114244e-08],\n",
              "       [1.00000000e+00, 2.90779975e-13, 2.87776871e-45],\n",
              "       [1.00000000e+00, 9.78283971e-15, 7.73256333e-37],\n",
              "       [1.00000000e+00, 1.47788952e-26, 9.71263283e-65],\n",
              "       [1.00000000e+00, 7.09514204e-15, 2.14942247e-34],\n",
              "       [2.40738197e-18, 9.99787775e-01, 2.12224929e-04],\n",
              "       [1.00000000e+00, 1.47392172e-21, 1.91535650e-60],\n",
              "       [2.92188421e-23, 1.00000000e+00, 3.41914716e-15],\n",
              "       [6.44523105e-18, 1.31487110e-02, 9.86851289e-01],\n",
              "       [1.55027540e-12, 1.00000000e+00, 2.77489586e-29],\n",
              "       [7.36706897e-17, 9.99999923e-01, 7.73248157e-08],\n",
              "       [1.00000000e+00, 4.50659817e-11, 4.12624188e-31],\n",
              "       [5.84521465e-19, 1.07879127e-07, 9.99999892e-01],\n",
              "       [1.00000000e+00, 1.08154751e-17, 1.04925657e-51],\n",
              "       [9.99975775e-01, 2.42248590e-05, 4.61048621e-35],\n",
              "       [1.29615595e-11, 1.00000000e+00, 6.28593392e-19],\n",
              "       [1.00000000e+00, 1.10914362e-24, 1.86508889e-65],\n",
              "       [1.00000000e+00, 1.33671432e-26, 2.99361032e-68],\n",
              "       [3.58981038e-17, 9.99999999e-01, 5.69079524e-10],\n",
              "       [2.96969695e-14, 1.00000000e+00, 9.30106295e-14],\n",
              "       [9.99999995e-01, 4.95988142e-09, 7.06337646e-41],\n",
              "       [1.00000000e+00, 1.56055427e-25, 6.03556950e-61],\n",
              "       [1.00000000e+00, 6.42958949e-23, 3.16683401e-63],\n",
              "       [2.37326521e-22, 2.00495593e-08, 9.99999980e-01],\n",
              "       [1.71890265e-25, 2.17300111e-09, 9.99999998e-01],\n",
              "       [1.00000000e+00, 1.13366639e-19, 9.68161995e-53],\n",
              "       [3.40111070e-17, 9.41284471e-01, 5.87155293e-02],\n",
              "       [1.00000000e+00, 1.03546063e-27, 3.96899648e-67],\n",
              "       [9.90434701e-15, 1.00000000e+00, 3.29310464e-11],\n",
              "       [2.24354588e-18, 1.00000000e+00, 1.29245727e-11],\n",
              "       [9.99999990e-01, 9.91673705e-09, 2.42525000e-44],\n",
              "       [3.83009708e-09, 9.99999996e-01, 6.12067191e-23],\n",
              "       [2.21257293e-37, 4.33122559e-12, 1.00000000e+00],\n",
              "       [4.79216835e-26, 2.49069472e-08, 9.99999975e-01],\n",
              "       [9.27168237e-20, 2.09429503e-04, 9.99790570e-01],\n",
              "       [4.09837730e-16, 1.00000000e+00, 3.31164572e-15],\n",
              "       [2.20541576e-13, 1.00000000e+00, 3.53429654e-25],\n",
              "       [1.00000000e+00, 1.72807832e-15, 9.27182381e-42],\n",
              "       [1.00000000e+00, 7.13198616e-12, 3.51535881e-48],\n",
              "       [3.09649612e-19, 1.00000000e+00, 1.33753227e-18],\n",
              "       [1.00000000e+00, 6.94104669e-13, 3.01940298e-40],\n",
              "       [1.88971109e-21, 9.99999978e-01, 2.15906844e-08],\n",
              "       [9.99999985e-01, 1.45918138e-08, 1.41876519e-39],\n",
              "       [7.99865184e-12, 1.00000000e+00, 1.75027812e-23],\n",
              "       [1.00000000e+00, 9.86405206e-21, 2.89349787e-49],\n",
              "       [1.00000000e+00, 4.75520516e-22, 7.90549753e-63],\n",
              "       [1.00000000e+00, 1.16170740e-22, 1.45569263e-58],\n",
              "       [1.00000000e+00, 4.35050533e-10, 1.17729553e-25],\n",
              "       [1.00000000e+00, 2.51149483e-11, 2.28545545e-32],\n",
              "       [1.00000000e+00, 9.68198560e-15, 4.90055201e-49],\n",
              "       [3.88922966e-24, 9.99999811e-01, 1.89176641e-07],\n",
              "       [1.85420526e-10, 1.00000000e+00, 2.75463797e-30],\n",
              "       [9.99998385e-01, 1.61531017e-06, 5.02921686e-31],\n",
              "       [9.82631773e-01, 1.73682265e-02, 1.62040062e-24],\n",
              "       [1.33562550e-15, 1.00000000e+00, 1.82684374e-11],\n",
              "       [1.00000000e+00, 9.53663561e-14, 2.30204141e-43],\n",
              "       [1.15695328e-21, 1.04614011e-06, 9.99998954e-01],\n",
              "       [1.36801560e-10, 1.00000000e+00, 4.90684915e-28],\n",
              "       [2.25606518e-22, 6.42249244e-04, 9.99357751e-01],\n",
              "       [7.57099070e-18, 1.00000000e+00, 2.56168666e-20],\n",
              "       [6.33627273e-24, 1.00000000e+00, 4.18284514e-11],\n",
              "       [3.93089193e-31, 4.93890421e-11, 1.00000000e+00],\n",
              "       [1.59439157e-25, 9.99999974e-01, 2.58800281e-08],\n",
              "       [1.10315107e-02, 9.88968489e-01, 2.30485987e-19],\n",
              "       [3.13518110e-20, 1.00000000e+00, 6.54702894e-16],\n",
              "       [9.99977030e-01, 2.29703264e-05, 1.34146655e-29],\n",
              "       [1.00000000e+00, 5.36444134e-24, 1.81316005e-58],\n",
              "       [2.50809838e-24, 1.00000000e+00, 1.37917059e-13],\n",
              "       [6.26343752e-26, 2.54861736e-07, 9.99999745e-01],\n",
              "       [7.26179092e-10, 9.99999999e-01, 3.16227475e-23],\n",
              "       [1.00000000e+00, 2.00568540e-13, 1.91017685e-35],\n",
              "       [3.93339078e-19, 1.00000000e+00, 3.27922935e-10],\n",
              "       [3.77891280e-32, 1.83135555e-14, 1.00000000e+00],\n",
              "       [9.99999995e-01, 4.78532846e-09, 1.09350855e-33],\n",
              "       [5.01309843e-30, 6.09031528e-11, 1.00000000e+00],\n",
              "       [1.67820709e-34, 3.97426195e-14, 1.00000000e+00],\n",
              "       [5.62745052e-28, 1.46100817e-06, 9.99998539e-01],\n",
              "       [2.15563796e-28, 4.57353956e-08, 9.99999954e-01],\n",
              "       [2.68350806e-05, 9.99973165e-01, 6.76756186e-23],\n",
              "       [2.81446666e-15, 1.00000000e+00, 1.59785316e-21],\n",
              "       [5.28549160e-22, 1.00000000e+00, 2.26399001e-16],\n",
              "       [1.69467820e-02, 9.83053218e-01, 3.17116944e-23],\n",
              "       [6.93254508e-14, 1.00000000e+00, 1.20026080e-11],\n",
              "       [1.00000000e+00, 1.04179236e-28, 1.72751853e-69],\n",
              "       [9.99999875e-01, 1.24511490e-07, 4.57645033e-34],\n",
              "       [1.87793889e-17, 1.00000000e+00, 1.81977039e-27],\n",
              "       [6.70956407e-22, 1.00000000e+00, 2.65175123e-19],\n",
              "       [1.00000000e+00, 7.00172635e-13, 3.97763238e-33],\n",
              "       [1.55629090e-25, 1.00000000e+00, 3.28374384e-11],\n",
              "       [7.60647298e-24, 7.14235389e-09, 9.99999993e-01],\n",
              "       [9.99874221e-01, 1.25778854e-04, 2.70780843e-30],\n",
              "       [1.00000000e+00, 5.06998851e-16, 3.71441911e-47],\n",
              "       [3.90286735e-18, 2.62984391e-04, 9.99737016e-01],\n",
              "       [1.00000000e+00, 1.94232579e-21, 6.08348552e-61],\n",
              "       [1.00000000e+00, 1.20981741e-11, 3.74444747e-44],\n",
              "       [2.27552641e-20, 5.25273724e-05, 9.99947473e-01],\n",
              "       [1.00000000e+00, 3.61189202e-10, 8.64017054e-37],\n",
              "       [1.36130647e-15, 1.00000000e+00, 9.79621650e-23],\n",
              "       [5.02050698e-15, 1.00000000e+00, 3.65320209e-20],\n",
              "       [9.85638579e-01, 1.43614209e-02, 1.93964185e-28],\n",
              "       [3.52470333e-10, 1.00000000e+00, 1.78270289e-21],\n",
              "       [5.56581360e-21, 1.00000000e+00, 2.03957166e-12],\n",
              "       [1.00000000e+00, 1.08798235e-24, 1.04545784e-56],\n",
              "       [4.29415689e-30, 3.01095953e-08, 9.99999970e-01],\n",
              "       [1.00000000e+00, 1.06118258e-15, 1.13657702e-49],\n",
              "       [1.82073485e-33, 1.69357888e-10, 1.00000000e+00],\n",
              "       [1.00000000e+00, 3.63765942e-15, 1.32412296e-43],\n",
              "       [1.08069539e-11, 1.00000000e+00, 3.76085271e-22],\n",
              "       [1.00000000e+00, 3.16713731e-17, 1.71460434e-48],\n",
              "       [4.40180925e-08, 9.99999956e-01, 6.02081091e-27],\n",
              "       [1.00000000e+00, 3.30944657e-28, 1.74064136e-66],\n",
              "       [1.00000000e+00, 1.20250157e-18, 6.65874211e-59],\n",
              "       [1.00000000e+00, 9.50994771e-27, 1.06187514e-61],\n",
              "       [8.58398809e-07, 9.99999142e-01, 1.72589246e-22],\n",
              "       [1.00000000e+00, 2.78210584e-10, 1.97266134e-26],\n",
              "       [5.54157066e-19, 1.00000000e+00, 2.46306060e-10],\n",
              "       [9.99999990e-01, 1.00501685e-08, 2.63424919e-29],\n",
              "       [4.42250247e-21, 6.54205836e-06, 9.99993458e-01],\n",
              "       [1.00000000e+00, 7.66930413e-16, 5.91400175e-54],\n",
              "       [9.99999985e-01, 1.47761485e-08, 4.18316861e-40],\n",
              "       [2.27859963e-23, 7.13029816e-08, 9.99999929e-01],\n",
              "       [4.14517897e-04, 9.99585482e-01, 1.37505955e-17],\n",
              "       [2.71363446e-09, 9.99999997e-01, 1.20665574e-14],\n",
              "       [9.99999782e-01, 2.18341451e-07, 1.19392888e-31],\n",
              "       [1.00000000e+00, 2.85310164e-19, 4.20190477e-57],\n",
              "       [1.00000000e+00, 1.76044052e-14, 1.94197097e-42],\n",
              "       [1.43315037e-21, 9.99999257e-01, 7.43243868e-07],\n",
              "       [6.55534621e-13, 1.00000000e+00, 2.38171306e-17],\n",
              "       [1.00000000e+00, 2.91561116e-10, 3.98734613e-28],\n",
              "       [1.00000000e+00, 4.28094087e-24, 5.27160923e-62],\n",
              "       [3.10862670e-36, 3.38483560e-14, 1.00000000e+00],\n",
              "       [9.99999937e-01, 6.32615613e-08, 2.36127108e-26],\n",
              "       [1.49209470e-20, 1.09085823e-04, 9.99890914e-01],\n",
              "       [1.00000000e+00, 2.25635628e-27, 6.65984370e-69],\n",
              "       [1.00000000e+00, 9.92358518e-27, 4.62491909e-70],\n",
              "       [2.01898200e-33, 8.60141192e-13, 1.00000000e+00],\n",
              "       [7.17697950e-23, 4.15055518e-08, 9.99999958e-01],\n",
              "       [1.17942341e-28, 1.05062461e-08, 9.99999989e-01],\n",
              "       [1.00000000e+00, 4.27581874e-12, 4.20864489e-39],\n",
              "       [1.60485184e-14, 1.00000000e+00, 7.73771523e-13],\n",
              "       [8.52271567e-05, 9.99914773e-01, 3.91560346e-14],\n",
              "       [1.13374980e-23, 7.66380309e-03, 9.92336197e-01],\n",
              "       [5.48071055e-13, 1.00000000e+00, 7.82453879e-14],\n",
              "       [1.76575106e-16, 1.00000000e+00, 1.44730070e-18],\n",
              "       [9.99999988e-01, 1.16621887e-08, 6.61858504e-38],\n",
              "       [7.41936512e-11, 1.00000000e+00, 7.43331987e-26],\n",
              "       [1.00000000e+00, 6.09561409e-18, 3.57309757e-40],\n",
              "       [1.00000000e+00, 5.65028396e-20, 9.90379908e-59],\n",
              "       [2.23775076e-19, 1.00000000e+00, 2.10701577e-20],\n",
              "       [1.00000000e+00, 1.68667613e-13, 1.01626525e-50],\n",
              "       [9.99974595e-01, 2.54050803e-05, 1.36143414e-23],\n",
              "       [3.83480594e-18, 1.00000000e+00, 2.71204937e-10],\n",
              "       [1.00000000e+00, 9.74472490e-25, 8.03263988e-56],\n",
              "       [1.00000000e+00, 1.79059567e-24, 3.18061562e-60],\n",
              "       [4.43309466e-20, 2.42760296e-02, 9.75723970e-01],\n",
              "       [1.00000000e+00, 1.73652372e-25, 1.04278946e-66],\n",
              "       [4.40175470e-37, 1.65347325e-15, 1.00000000e+00],\n",
              "       [4.70862190e-13, 1.00000000e+00, 2.35508606e-19],\n",
              "       [1.66434811e-27, 2.66665808e-05, 9.99973333e-01],\n",
              "       [1.00000000e+00, 7.95854994e-26, 8.44517160e-62],\n",
              "       [4.59120770e-19, 8.76168623e-03, 9.91238314e-01],\n",
              "       [2.35252018e-15, 1.00000000e+00, 1.88652102e-12],\n",
              "       [5.51047637e-05, 9.99944895e-01, 2.49125381e-23],\n",
              "       [8.33630259e-33, 8.96236792e-14, 1.00000000e+00],\n",
              "       [9.99999993e-01, 6.58651206e-09, 1.99428195e-27],\n",
              "       [1.00000000e+00, 1.45107617e-18, 6.65084345e-51],\n",
              "       [9.99995842e-01, 4.15822027e-06, 5.18130443e-28],\n",
              "       [1.00000000e+00, 4.07419582e-12, 1.42438490e-30],\n",
              "       [1.00000000e+00, 1.19916242e-26, 1.00507005e-67],\n",
              "       [1.00000000e+00, 8.41010035e-23, 1.28414006e-50],\n",
              "       [1.00000000e+00, 4.40657649e-20, 1.92399775e-65],\n",
              "       [1.15180126e-08, 9.99999988e-01, 2.16880093e-28],\n",
              "       [1.00000000e+00, 1.54045461e-24, 6.28618179e-58],\n",
              "       [4.41486954e-30, 2.47702471e-05, 9.99975230e-01],\n",
              "       [3.37940132e-18, 3.05359438e-05, 9.99969464e-01],\n",
              "       [3.00686128e-13, 1.00000000e+00, 1.15567689e-14],\n",
              "       [8.74260042e-24, 7.39167285e-12, 1.00000000e+00],\n",
              "       [4.91505040e-16, 1.00000000e+00, 2.45604499e-11],\n",
              "       [4.55576070e-14, 1.00000000e+00, 3.71298471e-18],\n",
              "       [3.69085503e-09, 9.99999996e-01, 4.07880039e-12],\n",
              "       [1.41744647e-31, 3.96708212e-13, 1.00000000e+00],\n",
              "       [8.64187741e-22, 1.00000000e+00, 5.79490204e-12],\n",
              "       [1.42689390e-35, 2.25223969e-14, 1.00000000e+00],\n",
              "       [8.83482357e-29, 1.62890204e-15, 1.00000000e+00],\n",
              "       [1.12765138e-28, 1.00000000e+00, 4.75696902e-13],\n",
              "       [1.91201667e-14, 1.00000000e+00, 2.46920785e-20],\n",
              "       [7.14401454e-08, 9.99999929e-01, 3.64788904e-26],\n",
              "       [1.00000000e+00, 5.81754074e-16, 3.46343733e-56],\n",
              "       [7.23714468e-20, 1.00000000e+00, 2.20798535e-20],\n",
              "       [6.70352131e-07, 9.99999330e-01, 1.14788420e-16],\n",
              "       [3.75970755e-24, 1.00000000e+00, 9.97130066e-12],\n",
              "       [1.00000000e+00, 8.28463948e-13, 1.47883141e-37],\n",
              "       [1.00000000e+00, 1.89037282e-16, 2.77641828e-53],\n",
              "       [1.00000000e+00, 5.12523221e-26, 1.11806265e-69],\n",
              "       [1.00000000e+00, 7.11754088e-17, 1.64445247e-54],\n",
              "       [1.00000000e+00, 3.44588651e-18, 1.60082337e-45],\n",
              "       [9.10743514e-14, 1.00000000e+00, 2.56319867e-18],\n",
              "       [1.00000000e+00, 1.07087704e-23, 1.27430988e-59],\n",
              "       [7.10653742e-28, 1.00000000e+00, 4.75441259e-14],\n",
              "       [9.99999997e-01, 2.91086579e-09, 2.30586472e-41],\n",
              "       [1.00000000e+00, 1.13472097e-20, 4.24269258e-54],\n",
              "       [1.82912163e-19, 9.99996119e-01, 3.88085768e-06],\n",
              "       [2.17292128e-22, 1.00000000e+00, 1.74998005e-15],\n",
              "       [1.00000000e+00, 4.01880241e-24, 6.17104700e-66],\n",
              "       [1.00000000e+00, 1.33551951e-12, 1.22629745e-42],\n",
              "       [8.92524133e-28, 1.00000000e+00, 5.79913902e-11],\n",
              "       [1.06669519e-02, 9.89333048e-01, 7.08493712e-20],\n",
              "       [1.45685015e-36, 4.22071081e-14, 1.00000000e+00],\n",
              "       [9.99999997e-01, 3.03250814e-09, 1.29902188e-28],\n",
              "       [2.74312486e-26, 1.79657563e-11, 1.00000000e+00],\n",
              "       [1.47794160e-35, 1.96242431e-12, 1.00000000e+00],\n",
              "       [1.10621951e-21, 1.00000000e+00, 3.15299402e-14],\n",
              "       [1.00000000e+00, 8.16882170e-24, 9.88458757e-54],\n",
              "       [1.00000000e+00, 7.91240178e-21, 1.31545802e-54],\n",
              "       [3.49334743e-05, 9.99965067e-01, 9.37963936e-20],\n",
              "       [1.34382444e-12, 1.00000000e+00, 3.18728393e-22],\n",
              "       [3.06225738e-38, 8.62015793e-12, 1.00000000e+00],\n",
              "       [2.70662529e-13, 1.00000000e+00, 2.30116826e-23],\n",
              "       [3.53999298e-16, 1.00000000e+00, 2.03031200e-31],\n",
              "       [1.00000000e+00, 8.45068270e-24, 1.67254647e-52],\n",
              "       [1.00000000e+00, 3.25634291e-21, 2.83105424e-55],\n",
              "       [4.74739796e-20, 1.00000000e+00, 3.42232789e-15],\n",
              "       [2.88515917e-19, 9.99999998e-01, 2.10226769e-09],\n",
              "       [1.00000000e+00, 1.11474773e-24, 1.21741271e-63],\n",
              "       [1.40193319e-29, 4.17584474e-03, 9.95824155e-01],\n",
              "       [5.51783913e-03, 9.94482161e-01, 5.04100163e-22],\n",
              "       [2.56151738e-17, 1.00874320e-04, 9.99899126e-01],\n",
              "       [5.48409055e-13, 1.00000000e+00, 6.34840900e-22],\n",
              "       [6.68528507e-23, 3.69351396e-07, 9.99999631e-01],\n",
              "       [1.26429223e-23, 1.00000000e+00, 4.92409083e-12],\n",
              "       [5.18172553e-27, 5.21628190e-11, 1.00000000e+00],\n",
              "       [9.99929440e-01, 7.05601078e-05, 8.67754994e-24],\n",
              "       [1.00000000e+00, 2.93581006e-10, 7.26916705e-30],\n",
              "       [9.89324549e-01, 1.06754512e-02, 6.58574142e-23],\n",
              "       [9.99999999e-01, 6.03659720e-10, 5.26765420e-39],\n",
              "       [1.00000000e+00, 2.02566780e-15, 3.67398124e-43],\n",
              "       [8.27356195e-34, 1.07168489e-14, 1.00000000e+00],\n",
              "       [6.20930523e-11, 1.00000000e+00, 3.94040448e-13],\n",
              "       [1.00000000e+00, 3.79920049e-10, 1.49892081e-32],\n",
              "       [2.59414021e-38, 3.02783804e-14, 1.00000000e+00],\n",
              "       [1.00000000e+00, 2.66134527e-26, 4.49567528e-64],\n",
              "       [2.00880141e-10, 1.00000000e+00, 1.42339769e-20],\n",
              "       [1.00000000e+00, 2.98065508e-15, 6.74586945e-48],\n",
              "       [1.00000000e+00, 1.03940267e-10, 4.48584871e-37],\n",
              "       [4.68488766e-22, 9.99998805e-01, 1.19525267e-06],\n",
              "       [1.00000000e+00, 4.46573127e-16, 9.77935549e-39]])"
            ]
          },
          "metadata": {},
          "execution_count": 90
        }
      ]
    },
    {
      "cell_type": "code",
      "source": [
        "y_predict=reg.predict(X_test)\n",
        "print(y_predict)"
      ],
      "metadata": {
        "colab": {
          "base_uri": "https://localhost:8080/"
        },
        "id": "j3lVLPh7SniK",
        "outputId": "d77cb6c9-73b8-4658-e765-da081894fcdd"
      },
      "execution_count": null,
      "outputs": [
        {
          "output_type": "stream",
          "name": "stdout",
          "text": [
            "[1 1 1 1 2 2 2 1 0 1 2 0 0 0 2 0 0 1 2 0 0 0 1 0 1 1 0 1 0 1 0 0 1 0 0 0 2\n",
            " 1 0 1 2 2 2 0 0 0 1 0 0 1 0 1 2 0 0 1 0 1 1 1 1 0 2 0 2 1 0 0 0 0 1 0 0 2\n",
            " 2 2 0 0 0 1 0 2 1 0 1 1]\n"
          ]
        }
      ]
    },
    {
      "cell_type": "code",
      "source": [
        "reg.score(X_test, y_test)"
      ],
      "metadata": {
        "colab": {
          "base_uri": "https://localhost:8080/"
        },
        "id": "HYtpZQV6SuT8",
        "outputId": "744f3276-b0bb-4b78-a78d-5df364c9836b"
      },
      "execution_count": null,
      "outputs": [
        {
          "output_type": "execute_result",
          "data": {
            "text/plain": [
              "1.0"
            ]
          },
          "metadata": {},
          "execution_count": 92
        }
      ]
    },
    {
      "cell_type": "code",
      "source": [
        "confusion_matrix(y_test,y_predict)"
      ],
      "metadata": {
        "colab": {
          "base_uri": "https://localhost:8080/"
        },
        "id": "N5hY95p2S1x8",
        "outputId": "f61c5d6f-cb34-47e8-a245-a960ba4b8d1a"
      },
      "execution_count": null,
      "outputs": [
        {
          "output_type": "execute_result",
          "data": {
            "text/plain": [
              "array([[40,  0,  0],\n",
              "       [ 0, 29,  0],\n",
              "       [ 0,  0, 17]])"
            ]
          },
          "metadata": {},
          "execution_count": 93
        }
      ]
    },
    {
      "cell_type": "code",
      "source": [
        "cm=confusion_matrix(y_test,y_predict)\n",
        "fig, ax = plt.subplots(figsize=(8, 8))\n",
        "ax.imshow(cm)\n",
        "ax.grid(False)\n",
        "ax.xaxis.set(ticks=(0, 1), ticklabels=('Predicted 0s', 'Predicted 1s'))\n",
        "ax.yaxis.set(ticks=(0, 1), ticklabels=('Actual 0s', 'Actual 1s'))\n",
        "ax.set_ylim(1.5, -0.5)\n",
        "for i in range(2):\n",
        "    for j in range(2):\n",
        "        ax.text(j, i, cm[i, j], ha='center', va='center', color='red')\n",
        "plt.show()"
      ],
      "metadata": {
        "colab": {
          "base_uri": "https://localhost:8080/",
          "height": 474
        },
        "id": "amdSVM-SS8-e",
        "outputId": "f42429a7-2cf4-433c-f274-444ed1ceb05b"
      },
      "execution_count": null,
      "outputs": [
        {
          "output_type": "display_data",
          "data": {
            "text/plain": [
              "<Figure size 800x800 with 1 Axes>"
            ],
            "image/png": "[encoded data removed]"
          },
          "metadata": {}
        }
      ]
    },
    {
      "cell_type": "code",
      "source": [
        "print(classification_report(y_test, y_predict))"
      ],
      "metadata": {
        "colab": {
          "base_uri": "https://localhost:8080/"
        },
        "id": "3urltS-XTFIM",
        "outputId": "f591c9da-2355-4abe-d88d-872f36abe231"
      },
      "execution_count": null,
      "outputs": [
        {
          "output_type": "stream",
          "name": "stdout",
          "text": [
            "              precision    recall  f1-score   support\n",
            "\n",
            "           0       1.00      1.00      1.00        40\n",
            "           1       1.00      1.00      1.00        29\n",
            "           2       1.00      1.00      1.00        17\n",
            "\n",
            "    accuracy                           1.00        86\n",
            "   macro avg       1.00      1.00      1.00        86\n",
            "weighted avg       1.00      1.00      1.00        86\n",
            "\n"
          ]
        }
      ]
    }
  ]
}