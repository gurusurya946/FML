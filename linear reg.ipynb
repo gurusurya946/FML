{
  "nbformat": 4,
  "nbformat_minor": 0,
  "metadata": {
    "colab": {
      "provenance": [],
      "mount_file_id": "1INxIFeu1lkJxsh2bQcQ9DDPAetd_TU02",
      "authorship_tag": "ABX9TyNkncTy3Rm6TUZ4kTZObgaV",
      "include_colab_link": true
    },
    "kernelspec": {
      "name": "python3",
      "display_name": "Python 3"
    },
    "language_info": {
      "name": "python"
    }
  },
  "cells": [
    {
      "cell_type": "markdown",
      "metadata": {
        "id": "view-in-github",
        "colab_type": "text"
      },
      "source": [
        "<a href=\"https://colab.research.google.com/github/gurusurya946/FML/blob/main/linear%20reg.ipynb\" target=\"_parent\"><img src=\"https://colab.research.google.com/assets/colab-badge.svg\" alt=\"Open In Colab\"/></a>"
      ]
    },
    {
      "cell_type": "code",
      "execution_count": 35,
      "metadata": {
        "id": "f9xxsTVCFpw0"
      },
      "outputs": [],
      "source": [
        "import numpy as np\n",
        "import pandas as pd\n",
        "import seaborn as sns\n",
        "import matplotlib.pyplot as plt\n"
      ]
    },
    {
      "cell_type": "code",
      "source": [
        "data=pd.read_csv('Company_data.csv')"
      ],
      "metadata": {
        "id": "-OqkUjGmKiF_"
      },
      "execution_count": 36,
      "outputs": []
    },
    {
      "cell_type": "code",
      "source": [
        "data.head()"
      ],
      "metadata": {
        "colab": {
          "base_uri": "https://localhost:8080/",
          "height": 204
        },
        "id": "ez3hq5WLKvDM",
        "outputId": "b92e049e-7303-477f-a074-c15976cc34da"
      },
      "execution_count": null,
      "outputs": [
        {
          "output_type": "execute_result",
          "data": {
            "text/plain": [
              "      TV  Radio  Newspaper  Sales\n",
              "0  230.1   37.8       69.2   22.1\n",
              "1   44.5   39.3       45.1   10.4\n",
              "2   17.2   45.9       69.3   12.0\n",
              "3  151.5   41.3       58.5   16.5\n",
              "4  180.8   10.8       58.4   17.9"
            ],
            "text/html": [
              "\n",
              "  <div id=\"df-1c1b050c-c142-4232-9c19-352751ecef5c\">\n",
              "    <div class=\"colab-df-container\">\n",
              "      <div>\n",
              "<style scoped>\n",
              "    .dataframe tbody tr th:only-of-type {\n",
              "        vertical-align: middle;\n",
              "    }\n",
              "\n",
              "    .dataframe tbody tr th {\n",
              "        vertical-align: top;\n",
              "    }\n",
              "\n",
              "    .dataframe thead th {\n",
              "        text-align: right;\n",
              "    }\n",
              "</style>\n",
              "<table border=\"1\" class=\"dataframe\">\n",
              "  <thead>\n",
              "    <tr style=\"text-align: right;\">\n",
              "      <th></th>\n",
              "      <th>TV</th>\n",
              "      <th>Radio</th>\n",
              "      <th>Newspaper</th>\n",
              "      <th>Sales</th>\n",
              "    </tr>\n",
              "  </thead>\n",
              "  <tbody>\n",
              "    <tr>\n",
              "      <th>0</th>\n",
              "      <td>230.1</td>\n",
              "      <td>37.8</td>\n",
              "      <td>69.2</td>\n",
              "      <td>22.1</td>\n",
              "    </tr>\n",
              "    <tr>\n",
              "      <th>1</th>\n",
              "      <td>44.5</td>\n",
              "      <td>39.3</td>\n",
              "      <td>45.1</td>\n",
              "      <td>10.4</td>\n",
              "    </tr>\n",
              "    <tr>\n",
              "      <th>2</th>\n",
              "      <td>17.2</td>\n",
              "      <td>45.9</td>\n",
              "      <td>69.3</td>\n",
              "      <td>12.0</td>\n",
              "    </tr>\n",
              "    <tr>\n",
              "      <th>3</th>\n",
              "      <td>151.5</td>\n",
              "      <td>41.3</td>\n",
              "      <td>58.5</td>\n",
              "      <td>16.5</td>\n",
              "    </tr>\n",
              "    <tr>\n",
              "      <th>4</th>\n",
              "      <td>180.8</td>\n",
              "      <td>10.8</td>\n",
              "      <td>58.4</td>\n",
              "      <td>17.9</td>\n",
              "    </tr>\n",
              "  </tbody>\n",
              "</table>\n",
              "</div>\n",
              "      <button class=\"colab-df-convert\" onclick=\"convertToInteractive('df-1c1b050c-c142-4232-9c19-352751ecef5c')\"\n",
              "              title=\"Convert this dataframe to an interactive table.\"\n",
              "              style=\"display:none;\">\n",
              "        \n",
              "  <svg xmlns=\"http://www.w3.org/2000/svg\" height=\"24px\"viewBox=\"0 0 24 24\"\n",
              "       width=\"24px\">\n",
              "    <path d=\"M0 0h24v24H0V0z\" fill=\"none\"/>\n",
              "    <path d=\"M18.56 5.44l.94 2.06.94-2.06 2.06-.94-2.06-.94-.94-2.06-.94 2.06-2.06.94zm-11 1L8.5 8.5l.94-2.06 2.06-.94-2.06-.94L8.5 2.5l-.94 2.06-2.06.94zm10 10l.94 2.06.94-2.06 2.06-.94-2.06-.94-.94-2.06-.94 2.06-2.06.94z\"/><path d=\"M17.41 7.96l-1.37-1.37c-.4-.4-.92-.59-1.43-.59-.52 0-1.04.2-1.43.59L10.3 9.45l-7.72 7.72c-.78.78-.78 2.05 0 2.83L4 21.41c.39.39.9.59 1.41.59.51 0 1.02-.2 1.41-.59l7.78-7.78 2.81-2.81c.8-.78.8-2.07 0-2.86zM5.41 20L4 18.59l7.72-7.72 1.47 1.35L5.41 20z\"/>\n",
              "  </svg>\n",
              "      </button>\n",
              "      \n",
              "  <style>\n",
              "    .colab-df-container {\n",
              "      display:flex;\n",
              "      flex-wrap:wrap;\n",
              "      gap: 12px;\n",
              "    }\n",
              "\n",
              "    .colab-df-convert {\n",
              "      background-color: #E8F0FE;\n",
              "      border: none;\n",
              "      border-radius: 50%;\n",
              "      cursor: pointer;\n",
              "      display: none;\n",
              "      fill: #1967D2;\n",
              "      height: 32px;\n",
              "      padding: 0 0 0 0;\n",
              "      width: 32px;\n",
              "    }\n",
              "\n",
              "    .colab-df-convert:hover {\n",
              "      background-color: #E2EBFA;\n",
              "      box-shadow: 0px 1px 2px rgba(60, 64, 67, 0.3), 0px 1px 3px 1px rgba(60, 64, 67, 0.15);\n",
              "      fill: #174EA6;\n",
              "    }\n",
              "\n",
              "    [theme=dark] .colab-df-convert {\n",
              "      background-color: #3B4455;\n",
              "      fill: #D2E3FC;\n",
              "    }\n",
              "\n",
              "    [theme=dark] .colab-df-convert:hover {\n",
              "      background-color: #434B5C;\n",
              "      box-shadow: 0px 1px 3px 1px rgba(0, 0, 0, 0.15);\n",
              "      filter: drop-shadow(0px 1px 2px rgba(0, 0, 0, 0.3));\n",
              "      fill: #FFFFFF;\n",
              "    }\n",
              "  </style>\n",
              "\n",
              "      <script>\n",
              "        const buttonEl =\n",
              "          document.querySelector('#df-1c1b050c-c142-4232-9c19-352751ecef5c button.colab-df-convert');\n",
              "        buttonEl.style.display =\n",
              "          google.colab.kernel.accessAllowed ? 'block' : 'none';\n",
              "\n",
              "        async function convertToInteractive(key) {\n",
              "          const element = document.querySelector('#df-1c1b050c-c142-4232-9c19-352751ecef5c');\n",
              "          const dataTable =\n",
              "            await google.colab.kernel.invokeFunction('convertToInteractive',\n",
              "                                                     [key], {});\n",
              "          if (!dataTable) return;\n",
              "\n",
              "          const docLinkHtml = 'Like what you see? Visit the ' +\n",
              "            '<a target=\"_blank\" href=https://colab.research.google.com/notebooks/data_table.ipynb>data table notebook</a>'\n",
              "            + ' to learn more about interactive tables.';\n",
              "          element.innerHTML = '';\n",
              "          dataTable['output_type'] = 'display_data';\n",
              "          await google.colab.output.renderOutput(dataTable, element);\n",
              "          const docLink = document.createElement('div');\n",
              "          docLink.innerHTML = docLinkHtml;\n",
              "          element.appendChild(docLink);\n",
              "        }\n",
              "      </script>\n",
              "    </div>\n",
              "  </div>\n",
              "  "
            ]
          },
          "metadata": {},
          "execution_count": 21
        }
      ]
    },
    {
      "cell_type": "code",
      "source": [
        "data.tail()"
      ],
      "metadata": {
        "colab": {
          "base_uri": "https://localhost:8080/",
          "height": 204
        },
        "id": "QxDuX2pTLkU0",
        "outputId": "499b51b1-45ca-41d6-90ba-faf174ca4bba"
      },
      "execution_count": null,
      "outputs": [
        {
          "output_type": "execute_result",
          "data": {
            "text/plain": [
              "        TV  Radio  Newspaper  Sales\n",
              "195   38.2    3.7       13.8    7.6\n",
              "196   94.2    4.9        8.1   14.0\n",
              "197  177.0    9.3        6.4   14.8\n",
              "198  283.6   42.0       66.2   25.5\n",
              "199  232.1    8.6        8.7   18.4"
            ],
            "text/html": [
              "\n",
              "  <div id=\"df-86f371c0-ea41-4ae1-9591-d93215ef613a\">\n",
              "    <div class=\"colab-df-container\">\n",
              "      <div>\n",
              "<style scoped>\n",
              "    .dataframe tbody tr th:only-of-type {\n",
              "        vertical-align: middle;\n",
              "    }\n",
              "\n",
              "    .dataframe tbody tr th {\n",
              "        vertical-align: top;\n",
              "    }\n",
              "\n",
              "    .dataframe thead th {\n",
              "        text-align: right;\n",
              "    }\n",
              "</style>\n",
              "<table border=\"1\" class=\"dataframe\">\n",
              "  <thead>\n",
              "    <tr style=\"text-align: right;\">\n",
              "      <th></th>\n",
              "      <th>TV</th>\n",
              "      <th>Radio</th>\n",
              "      <th>Newspaper</th>\n",
              "      <th>Sales</th>\n",
              "    </tr>\n",
              "  </thead>\n",
              "  <tbody>\n",
              "    <tr>\n",
              "      <th>195</th>\n",
              "      <td>38.2</td>\n",
              "      <td>3.7</td>\n",
              "      <td>13.8</td>\n",
              "      <td>7.6</td>\n",
              "    </tr>\n",
              "    <tr>\n",
              "      <th>196</th>\n",
              "      <td>94.2</td>\n",
              "      <td>4.9</td>\n",
              "      <td>8.1</td>\n",
              "      <td>14.0</td>\n",
              "    </tr>\n",
              "    <tr>\n",
              "      <th>197</th>\n",
              "      <td>177.0</td>\n",
              "      <td>9.3</td>\n",
              "      <td>6.4</td>\n",
              "      <td>14.8</td>\n",
              "    </tr>\n",
              "    <tr>\n",
              "      <th>198</th>\n",
              "      <td>283.6</td>\n",
              "      <td>42.0</td>\n",
              "      <td>66.2</td>\n",
              "      <td>25.5</td>\n",
              "    </tr>\n",
              "    <tr>\n",
              "      <th>199</th>\n",
              "      <td>232.1</td>\n",
              "      <td>8.6</td>\n",
              "      <td>8.7</td>\n",
              "      <td>18.4</td>\n",
              "    </tr>\n",
              "  </tbody>\n",
              "</table>\n",
              "</div>\n",
              "      <button class=\"colab-df-convert\" onclick=\"convertToInteractive('df-86f371c0-ea41-4ae1-9591-d93215ef613a')\"\n",
              "              title=\"Convert this dataframe to an interactive table.\"\n",
              "              style=\"display:none;\">\n",
              "        \n",
              "  <svg xmlns=\"http://www.w3.org/2000/svg\" height=\"24px\"viewBox=\"0 0 24 24\"\n",
              "       width=\"24px\">\n",
              "    <path d=\"M0 0h24v24H0V0z\" fill=\"none\"/>\n",
              "    <path d=\"M18.56 5.44l.94 2.06.94-2.06 2.06-.94-2.06-.94-.94-2.06-.94 2.06-2.06.94zm-11 1L8.5 8.5l.94-2.06 2.06-.94-2.06-.94L8.5 2.5l-.94 2.06-2.06.94zm10 10l.94 2.06.94-2.06 2.06-.94-2.06-.94-.94-2.06-.94 2.06-2.06.94z\"/><path d=\"M17.41 7.96l-1.37-1.37c-.4-.4-.92-.59-1.43-.59-.52 0-1.04.2-1.43.59L10.3 9.45l-7.72 7.72c-.78.78-.78 2.05 0 2.83L4 21.41c.39.39.9.59 1.41.59.51 0 1.02-.2 1.41-.59l7.78-7.78 2.81-2.81c.8-.78.8-2.07 0-2.86zM5.41 20L4 18.59l7.72-7.72 1.47 1.35L5.41 20z\"/>\n",
              "  </svg>\n",
              "      </button>\n",
              "      \n",
              "  <style>\n",
              "    .colab-df-container {\n",
              "      display:flex;\n",
              "      flex-wrap:wrap;\n",
              "      gap: 12px;\n",
              "    }\n",
              "\n",
              "    .colab-df-convert {\n",
              "      background-color: #E8F0FE;\n",
              "      border: none;\n",
              "      border-radius: 50%;\n",
              "      cursor: pointer;\n",
              "      display: none;\n",
              "      fill: #1967D2;\n",
              "      height: 32px;\n",
              "      padding: 0 0 0 0;\n",
              "      width: 32px;\n",
              "    }\n",
              "\n",
              "    .colab-df-convert:hover {\n",
              "      background-color: #E2EBFA;\n",
              "      box-shadow: 0px 1px 2px rgba(60, 64, 67, 0.3), 0px 1px 3px 1px rgba(60, 64, 67, 0.15);\n",
              "      fill: #174EA6;\n",
              "    }\n",
              "\n",
              "    [theme=dark] .colab-df-convert {\n",
              "      background-color: #3B4455;\n",
              "      fill: #D2E3FC;\n",
              "    }\n",
              "\n",
              "    [theme=dark] .colab-df-convert:hover {\n",
              "      background-color: #434B5C;\n",
              "      box-shadow: 0px 1px 3px 1px rgba(0, 0, 0, 0.15);\n",
              "      filter: drop-shadow(0px 1px 2px rgba(0, 0, 0, 0.3));\n",
              "      fill: #FFFFFF;\n",
              "    }\n",
              "  </style>\n",
              "\n",
              "      <script>\n",
              "        const buttonEl =\n",
              "          document.querySelector('#df-86f371c0-ea41-4ae1-9591-d93215ef613a button.colab-df-convert');\n",
              "        buttonEl.style.display =\n",
              "          google.colab.kernel.accessAllowed ? 'block' : 'none';\n",
              "\n",
              "        async function convertToInteractive(key) {\n",
              "          const element = document.querySelector('#df-86f371c0-ea41-4ae1-9591-d93215ef613a');\n",
              "          const dataTable =\n",
              "            await google.colab.kernel.invokeFunction('convertToInteractive',\n",
              "                                                     [key], {});\n",
              "          if (!dataTable) return;\n",
              "\n",
              "          const docLinkHtml = 'Like what you see? Visit the ' +\n",
              "            '<a target=\"_blank\" href=https://colab.research.google.com/notebooks/data_table.ipynb>data table notebook</a>'\n",
              "            + ' to learn more about interactive tables.';\n",
              "          element.innerHTML = '';\n",
              "          dataTable['output_type'] = 'display_data';\n",
              "          await google.colab.output.renderOutput(dataTable, element);\n",
              "          const docLink = document.createElement('div');\n",
              "          docLink.innerHTML = docLinkHtml;\n",
              "          element.appendChild(docLink);\n",
              "        }\n",
              "      </script>\n",
              "    </div>\n",
              "  </div>\n",
              "  "
            ]
          },
          "metadata": {},
          "execution_count": 22
        }
      ]
    },
    {
      "cell_type": "code",
      "source": [
        "data.isnull().sum()"
      ],
      "metadata": {
        "colab": {
          "base_uri": "https://localhost:8080/"
        },
        "id": "WWOhMlq7LnEp",
        "outputId": "b67c5d08-baac-468a-bfcb-f5aeec22385f"
      },
      "execution_count": null,
      "outputs": [
        {
          "output_type": "execute_result",
          "data": {
            "text/plain": [
              "TV           0\n",
              "Radio        0\n",
              "Newspaper    0\n",
              "Sales        0\n",
              "dtype: int64"
            ]
          },
          "metadata": {},
          "execution_count": 23
        }
      ]
    },
    {
      "cell_type": "code",
      "source": [
        "data.describe()"
      ],
      "metadata": {
        "colab": {
          "base_uri": "https://localhost:8080/",
          "height": 297
        },
        "id": "BuGcFgs5LsAK",
        "outputId": "9def22eb-df4b-4c8a-efd0-9d03258ac4a7"
      },
      "execution_count": null,
      "outputs": [
        {
          "output_type": "execute_result",
          "data": {
            "text/plain": [
              "               TV       Radio   Newspaper       Sales\n",
              "count  200.000000  200.000000  200.000000  200.000000\n",
              "mean   147.042500   23.264000   30.554000   15.130500\n",
              "std     85.854236   14.846809   21.778621    5.283892\n",
              "min      0.700000    0.000000    0.300000    1.600000\n",
              "25%     74.375000    9.975000   12.750000   11.000000\n",
              "50%    149.750000   22.900000   25.750000   16.000000\n",
              "75%    218.825000   36.525000   45.100000   19.050000\n",
              "max    296.400000   49.600000  114.000000   27.000000"
            ],
            "text/html": [
              "\n",
              "  <div id=\"df-44d3bc9c-30ee-4912-8274-858d592b24b2\">\n",
              "    <div class=\"colab-df-container\">\n",
              "      <div>\n",
              "<style scoped>\n",
              "    .dataframe tbody tr th:only-of-type {\n",
              "        vertical-align: middle;\n",
              "    }\n",
              "\n",
              "    .dataframe tbody tr th {\n",
              "        vertical-align: top;\n",
              "    }\n",
              "\n",
              "    .dataframe thead th {\n",
              "        text-align: right;\n",
              "    }\n",
              "</style>\n",
              "<table border=\"1\" class=\"dataframe\">\n",
              "  <thead>\n",
              "    <tr style=\"text-align: right;\">\n",
              "      <th></th>\n",
              "      <th>TV</th>\n",
              "      <th>Radio</th>\n",
              "      <th>Newspaper</th>\n",
              "      <th>Sales</th>\n",
              "    </tr>\n",
              "  </thead>\n",
              "  <tbody>\n",
              "    <tr>\n",
              "      <th>count</th>\n",
              "      <td>200.000000</td>\n",
              "      <td>200.000000</td>\n",
              "      <td>200.000000</td>\n",
              "      <td>200.000000</td>\n",
              "    </tr>\n",
              "    <tr>\n",
              "      <th>mean</th>\n",
              "      <td>147.042500</td>\n",
              "      <td>23.264000</td>\n",
              "      <td>30.554000</td>\n",
              "      <td>15.130500</td>\n",
              "    </tr>\n",
              "    <tr>\n",
              "      <th>std</th>\n",
              "      <td>85.854236</td>\n",
              "      <td>14.846809</td>\n",
              "      <td>21.778621</td>\n",
              "      <td>5.283892</td>\n",
              "    </tr>\n",
              "    <tr>\n",
              "      <th>min</th>\n",
              "      <td>0.700000</td>\n",
              "      <td>0.000000</td>\n",
              "      <td>0.300000</td>\n",
              "      <td>1.600000</td>\n",
              "    </tr>\n",
              "    <tr>\n",
              "      <th>25%</th>\n",
              "      <td>74.375000</td>\n",
              "      <td>9.975000</td>\n",
              "      <td>12.750000</td>\n",
              "      <td>11.000000</td>\n",
              "    </tr>\n",
              "    <tr>\n",
              "      <th>50%</th>\n",
              "      <td>149.750000</td>\n",
              "      <td>22.900000</td>\n",
              "      <td>25.750000</td>\n",
              "      <td>16.000000</td>\n",
              "    </tr>\n",
              "    <tr>\n",
              "      <th>75%</th>\n",
              "      <td>218.825000</td>\n",
              "      <td>36.525000</td>\n",
              "      <td>45.100000</td>\n",
              "      <td>19.050000</td>\n",
              "    </tr>\n",
              "    <tr>\n",
              "      <th>max</th>\n",
              "      <td>296.400000</td>\n",
              "      <td>49.600000</td>\n",
              "      <td>114.000000</td>\n",
              "      <td>27.000000</td>\n",
              "    </tr>\n",
              "  </tbody>\n",
              "</table>\n",
              "</div>\n",
              "      <button class=\"colab-df-convert\" onclick=\"convertToInteractive('df-44d3bc9c-30ee-4912-8274-858d592b24b2')\"\n",
              "              title=\"Convert this dataframe to an interactive table.\"\n",
              "              style=\"display:none;\">\n",
              "        \n",
              "  <svg xmlns=\"http://www.w3.org/2000/svg\" height=\"24px\"viewBox=\"0 0 24 24\"\n",
              "       width=\"24px\">\n",
              "    <path d=\"M0 0h24v24H0V0z\" fill=\"none\"/>\n",
              "    <path d=\"M18.56 5.44l.94 2.06.94-2.06 2.06-.94-2.06-.94-.94-2.06-.94 2.06-2.06.94zm-11 1L8.5 8.5l.94-2.06 2.06-.94-2.06-.94L8.5 2.5l-.94 2.06-2.06.94zm10 10l.94 2.06.94-2.06 2.06-.94-2.06-.94-.94-2.06-.94 2.06-2.06.94z\"/><path d=\"M17.41 7.96l-1.37-1.37c-.4-.4-.92-.59-1.43-.59-.52 0-1.04.2-1.43.59L10.3 9.45l-7.72 7.72c-.78.78-.78 2.05 0 2.83L4 21.41c.39.39.9.59 1.41.59.51 0 1.02-.2 1.41-.59l7.78-7.78 2.81-2.81c.8-.78.8-2.07 0-2.86zM5.41 20L4 18.59l7.72-7.72 1.47 1.35L5.41 20z\"/>\n",
              "  </svg>\n",
              "      </button>\n",
              "      \n",
              "  <style>\n",
              "    .colab-df-container {\n",
              "      display:flex;\n",
              "      flex-wrap:wrap;\n",
              "      gap: 12px;\n",
              "    }\n",
              "\n",
              "    .colab-df-convert {\n",
              "      background-color: #E8F0FE;\n",
              "      border: none;\n",
              "      border-radius: 50%;\n",
              "      cursor: pointer;\n",
              "      display: none;\n",
              "      fill: #1967D2;\n",
              "      height: 32px;\n",
              "      padding: 0 0 0 0;\n",
              "      width: 32px;\n",
              "    }\n",
              "\n",
              "    .colab-df-convert:hover {\n",
              "      background-color: #E2EBFA;\n",
              "      box-shadow: 0px 1px 2px rgba(60, 64, 67, 0.3), 0px 1px 3px 1px rgba(60, 64, 67, 0.15);\n",
              "      fill: #174EA6;\n",
              "    }\n",
              "\n",
              "    [theme=dark] .colab-df-convert {\n",
              "      background-color: #3B4455;\n",
              "      fill: #D2E3FC;\n",
              "    }\n",
              "\n",
              "    [theme=dark] .colab-df-convert:hover {\n",
              "      background-color: #434B5C;\n",
              "      box-shadow: 0px 1px 3px 1px rgba(0, 0, 0, 0.15);\n",
              "      filter: drop-shadow(0px 1px 2px rgba(0, 0, 0, 0.3));\n",
              "      fill: #FFFFFF;\n",
              "    }\n",
              "  </style>\n",
              "\n",
              "      <script>\n",
              "        const buttonEl =\n",
              "          document.querySelector('#df-44d3bc9c-30ee-4912-8274-858d592b24b2 button.colab-df-convert');\n",
              "        buttonEl.style.display =\n",
              "          google.colab.kernel.accessAllowed ? 'block' : 'none';\n",
              "\n",
              "        async function convertToInteractive(key) {\n",
              "          const element = document.querySelector('#df-44d3bc9c-30ee-4912-8274-858d592b24b2');\n",
              "          const dataTable =\n",
              "            await google.colab.kernel.invokeFunction('convertToInteractive',\n",
              "                                                     [key], {});\n",
              "          if (!dataTable) return;\n",
              "\n",
              "          const docLinkHtml = 'Like what you see? Visit the ' +\n",
              "            '<a target=\"_blank\" href=https://colab.research.google.com/notebooks/data_table.ipynb>data table notebook</a>'\n",
              "            + ' to learn more about interactive tables.';\n",
              "          element.innerHTML = '';\n",
              "          dataTable['output_type'] = 'display_data';\n",
              "          await google.colab.output.renderOutput(dataTable, element);\n",
              "          const docLink = document.createElement('div');\n",
              "          docLink.innerHTML = docLinkHtml;\n",
              "          element.appendChild(docLink);\n",
              "        }\n",
              "      </script>\n",
              "    </div>\n",
              "  </div>\n",
              "  "
            ]
          },
          "metadata": {},
          "execution_count": 24
        }
      ]
    },
    {
      "cell_type": "code",
      "source": [
        "data.info()"
      ],
      "metadata": {
        "colab": {
          "base_uri": "https://localhost:8080/"
        },
        "id": "QuhFbq7TLwss",
        "outputId": "92cd8552-3675-419c-ae32-c5d676c50cc5"
      },
      "execution_count": null,
      "outputs": [
        {
          "output_type": "stream",
          "name": "stdout",
          "text": [
            "<class 'pandas.core.frame.DataFrame'>\n",
            "RangeIndex: 200 entries, 0 to 199\n",
            "Data columns (total 4 columns):\n",
            " #   Column     Non-Null Count  Dtype  \n",
            "---  ------     --------------  -----  \n",
            " 0   TV         200 non-null    float64\n",
            " 1   Radio      200 non-null    float64\n",
            " 2   Newspaper  200 non-null    float64\n",
            " 3   Sales      200 non-null    float64\n",
            "dtypes: float64(4)\n",
            "memory usage: 6.4 KB\n"
          ]
        }
      ]
    },
    {
      "cell_type": "code",
      "source": [
        "data.describe().loc['mean']"
      ],
      "metadata": {
        "colab": {
          "base_uri": "https://localhost:8080/"
        },
        "id": "r6nI7baXMBzd",
        "outputId": "9fd9222b-fd0b-4131-d552-994cf6448169"
      },
      "execution_count": null,
      "outputs": [
        {
          "output_type": "execute_result",
          "data": {
            "text/plain": [
              "TV           147.0425\n",
              "Radio         23.2640\n",
              "Newspaper     30.5540\n",
              "Sales         15.1305\n",
              "Name: mean, dtype: float64"
            ]
          },
          "metadata": {},
          "execution_count": 26
        }
      ]
    },
    {
      "cell_type": "code",
      "source": [
        "data.describe().loc['mean'].plot.bar()\n",
        "plt.show()"
      ],
      "metadata": {
        "colab": {
          "base_uri": "https://localhost:8080/",
          "height": 311
        },
        "id": "eDDIQjA5NBbZ",
        "outputId": "eed9bd89-6bcb-4059-8192-ef244058189c"
      },
      "execution_count": null,
      "outputs": [
        {
          "output_type": "display_data",
          "data": {
            "text/plain": [
              "<Figure size 432x288 with 1 Axes>"
            ],
            "image/png": "[encoded data removed]"
          },
          "metadata": {
            "needs_background": "light"
          }
        }
      ]
    },
    {
      "cell_type": "code",
      "source": [
        "sns.distplot(data['Sales'],bins=30)\n",
        "plt.show()"
      ],
      "metadata": {
        "colab": {
          "base_uri": "https://localhost:8080/",
          "height": 466
        },
        "id": "N1K5ir2MNS0j",
        "outputId": "2d862aba-46f8-4a81-cba9-668a88227d2c"
      },
      "execution_count": null,
      "outputs": [
        {
          "output_type": "stream",
          "name": "stderr",
          "text": [
            "<ipython-input-29-5bd3f3cbc0d2>:1: UserWarning: \n",
            "\n",
            "`distplot` is a deprecated function and will be removed in seaborn v0.14.0.\n",
            "\n",
            "Please adapt your code to use either `displot` (a figure-level function with\n",
            "similar flexibility) or `histplot` (an axes-level function for histograms).\n",
            "\n",
            "For a guide to updating your code to use the new functions, please see\n",
            "https://gist.github.com/mwaskom/de44147ed2974457ad6372750bbe5751\n",
            "\n",
            "  sns.distplot(data['Sales'],bins=30)\n"
          ]
        },
        {
          "output_type": "display_data",
          "data": {
            "text/plain": [
              "<Figure size 432x288 with 1 Axes>"
            ],
            "image/png": "[encoded data removed]"
          },
          "metadata": {
            "needs_background": "light"
          }
        }
      ]
    },
    {
      "cell_type": "code",
      "source": [
        "d=data.corr()"
      ],
      "metadata": {
        "id": "UVkbYpbfOKqV"
      },
      "execution_count": null,
      "outputs": []
    },
    {
      "cell_type": "code",
      "source": [
        "data.shape"
      ],
      "metadata": {
        "colab": {
          "base_uri": "https://localhost:8080/"
        },
        "id": "e-LnJjkpORrD",
        "outputId": "9dbe7ded-a3d3-429b-8ae4-1d97eb451474"
      },
      "execution_count": null,
      "outputs": [
        {
          "output_type": "execute_result",
          "data": {
            "text/plain": [
              "(200, 4)"
            ]
          },
          "metadata": {},
          "execution_count": 31
        }
      ]
    },
    {
      "cell_type": "code",
      "source": [
        "plt.figure(figsize=(16, 10))\n",
        "sns.heatmap(d, annot=True)\n",
        "plt.show()"
      ],
      "metadata": {
        "colab": {
          "base_uri": "https://localhost:8080/",
          "height": 596
        },
        "id": "3AIjDJuSOYLX",
        "outputId": "9b62083c-f900-4248-e697-618da5fd654b"
      },
      "execution_count": null,
      "outputs": [
        {
          "output_type": "display_data",
          "data": {
            "text/plain": [
              "<Figure size 1152x720 with 2 Axes>"
            ],
            "image/png": "[encoded data removed]"
          },
          "metadata": {
            "needs_background": "light"
          }
        }
      ]
    },
    {
      "cell_type": "code",
      "source": [
        "data.columns"
      ],
      "metadata": {
        "colab": {
          "base_uri": "https://localhost:8080/"
        },
        "id": "6lRY7TdjPps4",
        "outputId": "aad98e51-8deb-4a31-9016-a117da7add29"
      },
      "execution_count": null,
      "outputs": [
        {
          "output_type": "execute_result",
          "data": {
            "text/plain": [
              "Index(['TV', 'Radio', 'Newspaper', 'Sales'], dtype='object')"
            ]
          },
          "metadata": {},
          "execution_count": 33
        }
      ]
    },
    {
      "cell_type": "code",
      "source": [],
      "metadata": {
        "id": "g30JzX16PxLu"
      },
      "execution_count": 45,
      "outputs": []
    },
    {
      "cell_type": "code",
      "source": [],
      "metadata": {
        "id": "pkjxyD0OQeOe"
      },
      "execution_count": 45,
      "outputs": []
    },
    {
      "cell_type": "code",
      "source": [],
      "metadata": {
        "id": "GzkgeJN4Q-iI"
      },
      "execution_count": 45,
      "outputs": []
    },
    {
      "cell_type": "code",
      "source": [
        "from sklearn import linear_model\n",
        "X=data.drop('Sales',axis=1).values\n",
        "y=data['Sales'].values"
      ],
      "metadata": {
        "id": "LyMzT1aGUQ0z"
      },
      "execution_count": 38,
      "outputs": []
    },
    {
      "cell_type": "code",
      "source": [
        "X_TV= X[:, 0]\n"
      ],
      "metadata": {
        "id": "8OT9p-O2750h"
      },
      "execution_count": 48,
      "outputs": []
    },
    {
      "cell_type": "code",
      "source": [
        "type(X_TV)\n",
        "type(y)"
      ],
      "metadata": {
        "colab": {
          "base_uri": "https://localhost:8080/"
        },
        "id": "4BxNTDxf8llu",
        "outputId": "fd81ea5b-b72c-4c78-c004-a1e159d1aec1"
      },
      "execution_count": 49,
      "outputs": [
        {
          "output_type": "execute_result",
          "data": {
            "text/plain": [
              "numpy.ndarray"
            ]
          },
          "metadata": {},
          "execution_count": 49
        }
      ]
    },
    {
      "cell_type": "code",
      "source": [
        "X_TV.shape , y.shape"
      ],
      "metadata": {
        "colab": {
          "base_uri": "https://localhost:8080/"
        },
        "id": "p5OkWOPr9LsC",
        "outputId": "4242491d-4154-4e04-9e9c-c265d8be1cdb"
      },
      "execution_count": 50,
      "outputs": [
        {
          "output_type": "execute_result",
          "data": {
            "text/plain": [
              "((200,), (200,))"
            ]
          },
          "metadata": {},
          "execution_count": 50
        }
      ]
    },
    {
      "cell_type": "code",
      "source": [],
      "metadata": {
        "id": "0iPAEv4_-RmZ"
      },
      "execution_count": null,
      "outputs": []
    },
    {
      "cell_type": "code",
      "source": [
        "X_TV=X_TV.reshape(-1,1)\n",
        "y=y.reshape(-1,1)"
      ],
      "metadata": {
        "id": "jpFoCNt-9aKo"
      },
      "execution_count": 54,
      "outputs": []
    },
    {
      "cell_type": "code",
      "source": [
        "X_TV.shape , y.shape"
      ],
      "metadata": {
        "colab": {
          "base_uri": "https://localhost:8080/"
        },
        "id": "W_ZdsCyn-UF8",
        "outputId": "8e3eddc1-401c-4c51-df78-7e10be0036a1"
      },
      "execution_count": 55,
      "outputs": [
        {
          "output_type": "execute_result",
          "data": {
            "text/plain": [
              "((200, 1), (200, 1))"
            ]
          },
          "metadata": {},
          "execution_count": 55
        }
      ]
    },
    {
      "cell_type": "code",
      "source": [
        "plt.scatter(X_TV,y)\n",
        "plt.xlabel('tv')\n",
        "plt.ylabel('Sales')\n",
        "plt.show()"
      ],
      "metadata": {
        "colab": {
          "base_uri": "https://localhost:8080/",
          "height": 279
        },
        "id": "dmh2M0SK-WPk",
        "outputId": "1b2e59ad-353a-483b-b329-1142f0429c74"
      },
      "execution_count": 57,
      "outputs": [
        {
          "output_type": "display_data",
          "data": {
            "text/plain": [
              "<Figure size 432x288 with 1 Axes>"
            ],
            "image/png": "[encoded data removed]"
          },
          "metadata": {
            "needs_background": "light"
          }
        }
      ]
    },
    {
      "cell_type": "code",
      "source": [
        "reg=linear_model.LinearRegression()\n",
        "reg.fit(X_TV,y)"
      ],
      "metadata": {
        "colab": {
          "base_uri": "https://localhost:8080/",
          "height": 74
        },
        "id": "pA8AABE4_Hzp",
        "outputId": "87362e5f-44e7-4651-a5ec-766aa88573ca"
      },
      "execution_count": 58,
      "outputs": [
        {
          "output_type": "execute_result",
          "data": {
            "text/plain": [
              "LinearRegression()"
            ],
            "text/html": [
              "<style>#sk-container-id-1 {color: black;background-color: white;}#sk-container-id-1 pre{padding: 0;}#sk-container-id-1 div.sk-toggleable {background-color: white;}#sk-container-id-1 label.sk-toggleable__label {cursor: pointer;display: block;width: 100%;margin-bottom: 0;padding: 0.3em;box-sizing: border-box;text-align: center;}#sk-container-id-1 label.sk-toggleable__label-arrow:before {content: \"▸\";float: left;margin-right: 0.25em;color: #696969;}#sk-container-id-1 label.sk-toggleable__label-arrow:hover:before {color: black;}#sk-container-id-1 div.sk-estimator:hover label.sk-toggleable__label-arrow:before {color: black;}#sk-container-id-1 div.sk-toggleable__content {max-height: 0;max-width: 0;overflow: hidden;text-align: left;background-color: #f0f8ff;}#sk-container-id-1 div.sk-toggleable__content pre {margin: 0.2em;color: black;border-radius: 0.25em;background-color: #f0f8ff;}#sk-container-id-1 input.sk-toggleable__control:checked~div.sk-toggleable__content {max-height: 200px;max-width: 100%;overflow: auto;}#sk-container-id-1 input.sk-toggleable__control:checked~label.sk-toggleable__label-arrow:before {content: \"▾\";}#sk-container-id-1 div.sk-estimator input.sk-toggleable__control:checked~label.sk-toggleable__label {background-color: #d4ebff;}#sk-container-id-1 div.sk-label input.sk-toggleable__control:checked~label.sk-toggleable__label {background-color: #d4ebff;}#sk-container-id-1 input.sk-hidden--visually {border: 0;clip: rect(1px 1px 1px 1px);clip: rect(1px, 1px, 1px, 1px);height: 1px;margin: -1px;overflow: hidden;padding: 0;position: absolute;width: 1px;}#sk-container-id-1 div.sk-estimator {font-family: monospace;background-color: #f0f8ff;border: 1px dotted black;border-radius: 0.25em;box-sizing: border-box;margin-bottom: 0.5em;}#sk-container-id-1 div.sk-estimator:hover {background-color: #d4ebff;}#sk-container-id-1 div.sk-parallel-item::after {content: \"\";width: 100%;border-bottom: 1px solid gray;flex-grow: 1;}#sk-container-id-1 div.sk-label:hover label.sk-toggleable__label {background-color: #d4ebff;}#sk-container-id-1 div.sk-serial::before {content: \"\";position: absolute;border-left: 1px solid gray;box-sizing: border-box;top: 0;bottom: 0;left: 50%;z-index: 0;}#sk-container-id-1 div.sk-serial {display: flex;flex-direction: column;align-items: center;background-color: white;padding-right: 0.2em;padding-left: 0.2em;position: relative;}#sk-container-id-1 div.sk-item {position: relative;z-index: 1;}#sk-container-id-1 div.sk-parallel {display: flex;align-items: stretch;justify-content: center;background-color: white;position: relative;}#sk-container-id-1 div.sk-item::before, #sk-container-id-1 div.sk-parallel-item::before {content: \"\";position: absolute;border-left: 1px solid gray;box-sizing: border-box;top: 0;bottom: 0;left: 50%;z-index: -1;}#sk-container-id-1 div.sk-parallel-item {display: flex;flex-direction: column;z-index: 1;position: relative;background-color: white;}#sk-container-id-1 div.sk-parallel-item:first-child::after {align-self: flex-end;width: 50%;}#sk-container-id-1 div.sk-parallel-item:last-child::after {align-self: flex-start;width: 50%;}#sk-container-id-1 div.sk-parallel-item:only-child::after {width: 0;}#sk-container-id-1 div.sk-dashed-wrapped {border: 1px dashed gray;margin: 0 0.4em 0.5em 0.4em;box-sizing: border-box;padding-bottom: 0.4em;background-color: white;}#sk-container-id-1 div.sk-label label {font-family: monospace;font-weight: bold;display: inline-block;line-height: 1.2em;}#sk-container-id-1 div.sk-label-container {text-align: center;}#sk-container-id-1 div.sk-container {/* jupyter's `normalize.less` sets `[hidden] { display: none; }` but bootstrap.min.css set `[hidden] { display: none !important; }` so we also need the `!important` here to be able to override the default hidden behavior on the sphinx rendered scikit-learn.org. See: https://github.com/scikit-learn/scikit-learn/issues/21755 */display: inline-block !important;position: relative;}#sk-container-id-1 div.sk-text-repr-fallback {display: none;}</style><div id=\"sk-container-id-1\" class=\"sk-top-container\"><div class=\"sk-text-repr-fallback\"><pre>LinearRegression()</pre><b>In a Jupyter environment, please rerun this cell to show the HTML representation or trust the notebook. <br />On GitHub, the HTML representation is unable to render, please try loading this page with nbviewer.org.</b></div><div class=\"sk-container\" hidden><div class=\"sk-item\"><div class=\"sk-estimator sk-toggleable\"><input class=\"sk-toggleable__control sk-hidden--visually\" id=\"sk-estimator-id-1\" type=\"checkbox\" checked><label for=\"sk-estimator-id-1\" class=\"sk-toggleable__label sk-toggleable__label-arrow\">LinearRegression</label><div class=\"sk-toggleable__content\"><pre>LinearRegression()</pre></div></div></div></div></div>"
            ]
          },
          "metadata": {},
          "execution_count": 58
        }
      ]
    },
    {
      "cell_type": "code",
      "source": [
        "from sklearn.metrics import mean_absolute_error,r2_score,mean_squared_error\n",
        "y_pred = reg.predict(X_TV)\n",
        "\n",
        "print(f'MAE = {mean_absolute_error(y, y_pred)}')\n",
        "print(f'MSE = {mean_squared_error(y, y_pred)}')\n",
        "print(f'RMSE = {np.sqrt(mean_squared_error(y, y_pred))}')\n",
        "print(f'R_2 = {r2_score(y, y_pred)}')"
      ],
      "metadata": {
        "colab": {
          "base_uri": "https://localhost:8080/"
        },
        "id": "PU5mksDD_4Mz",
        "outputId": "772743b9-11e5-491f-bca4-37ddd657af61"
      },
      "execution_count": 59,
      "outputs": [
        {
          "output_type": "stream",
          "name": "stdout",
          "text": [
            "MAE = 1.8305872641932412\n",
            "MSE = 5.2177438977951285\n",
            "RMSE = 2.2842381438447106\n",
            "R_2 = 0.8121757029987414\n"
          ]
        }
      ]
    },
    {
      "cell_type": "code",
      "source": [
        "prediction_space = np.linspace(min(X_TV), max(X_TV)).reshape(-1,1)\n"
      ],
      "metadata": {
        "id": "4iiB2eJeBdrP"
      },
      "execution_count": 68,
      "outputs": []
    },
    {
      "cell_type": "code",
      "source": [
        "plt.scatter(X_TV, y, color='blue')\n",
        "plt.plot(X_TV, reg.predict(X_TV), color='red', linewidth=3)\n",
        "plt.show()"
      ],
      "metadata": {
        "colab": {
          "base_uri": "https://localhost:8080/",
          "height": 265
        },
        "id": "16pDieQPBniJ",
        "outputId": "72b67fdb-20dd-4282-96e3-cc2dd8574f54"
      },
      "execution_count": 69,
      "outputs": [
        {
          "output_type": "display_data",
          "data": {
            "text/plain": [
              "<Figure size 432x288 with 1 Axes>"
            ],
            "image/png": "[encoded data removed]"
          },
          "metadata": {
            "needs_background": "light"
          }
        }
      ]
    },
    {
      "cell_type": "code",
      "source": [
        "plt.scatter(X_TV, y, color='blue')\n",
        "plt.plot(prediction_space, reg.predict(prediction_space), color='black', linewidth=3)\n",
        "plt.show()\n",
        "     "
      ],
      "metadata": {
        "colab": {
          "base_uri": "https://localhost:8080/",
          "height": 265
        },
        "id": "VcBa8w2ICRu8",
        "outputId": "4874e703-4888-4ddd-8ddc-4e9276bbca22"
      },
      "execution_count": 70,
      "outputs": [
        {
          "output_type": "display_data",
          "data": {
            "text/plain": [
              "<Figure size 432x288 with 1 Axes>"
            ],
            "image/png": "[encoded data removed]"
          },
          "metadata": {
            "needs_background": "light"
          }
        }
      ]
    },
    {
      "cell_type": "code",
      "source": [
        "from sklearn.model_selection import train_test_split\n",
        "X_train,X_test,y_train,y_test = train_test_split(X,y,test_size=0.3,random_state=1)\n",
        "print(f'Train-X = {X_train} \\nTrain-y = {y_train}')\n",
        "print(f'Test-X = {X_test} \\nTest-y = {y_test}')\n",
        "     "
      ],
      "metadata": {
        "colab": {
          "base_uri": "https://localhost:8080/"
        },
        "id": "9mGFXVJFC2tc",
        "outputId": "141a2c37-14bf-413f-a2c6-fa1efb69428d"
      },
      "execution_count": 71,
      "outputs": [
        {
          "output_type": "stream",
          "name": "stdout",
          "text": [
            "Train-X = [[139.2  14.3  25.6]\n",
            " [139.3  14.5  10.2]\n",
            " [  5.4  29.9   9.4]\n",
            " [293.6  27.7   1.8]\n",
            " [281.4  39.6  55.8]\n",
            " [  8.7  48.9  75. ]\n",
            " [ 80.2   0.    9.2]\n",
            " [137.9  46.4  59. ]\n",
            " [227.2  15.8  49.9]\n",
            " [ 31.5  24.6   2.2]\n",
            " [262.7  28.8  15.9]\n",
            " [213.5  43.   33.8]\n",
            " [287.6  43.   71.8]\n",
            " [ 11.7  36.9  45.2]\n",
            " [ 17.9  37.6  21.6]\n",
            " [209.6  20.6  10.7]\n",
            " [ 23.8  35.1  65.9]\n",
            " [ 76.4   0.8  14.8]\n",
            " [250.9  36.5  72.3]\n",
            " [141.3  26.8  46.2]\n",
            " [187.8  21.1   9.5]\n",
            " [134.3   4.9   9.3]\n",
            " [239.8   4.1  36.9]\n",
            " [224.    2.4  15.6]\n",
            " [ 75.5  10.8   6. ]\n",
            " [ 97.5   7.6   7.2]\n",
            " [ 75.3  20.3  32.5]\n",
            " [  8.4  27.2   2.1]\n",
            " [191.1  28.7  18.2]\n",
            " [175.1  22.5  31.5]\n",
            " [135.2  41.7  45.9]\n",
            " [266.9  43.8   5. ]\n",
            " [ 85.7  35.8  49.3]\n",
            " [139.5   2.1  26.6]\n",
            " [171.3  39.7  37.7]\n",
            " [187.9  17.2  17.9]\n",
            " [ 38.2   3.7  13.8]\n",
            " [177.    9.3   6.4]\n",
            " [ 38.   40.3  11.9]\n",
            " [168.4   7.1  12.8]\n",
            " [ 16.9  43.7  89.4]\n",
            " [237.4   5.1  23.5]\n",
            " [ 28.6   1.5  33. ]\n",
            " [197.6  23.3  14.2]\n",
            " [ 17.2  45.9  69.3]\n",
            " [199.1  30.6  38.7]\n",
            " [193.2  18.4  65.7]\n",
            " [280.7  13.9  37. ]\n",
            " [ 57.5  32.8  23.5]\n",
            " [175.7  15.4   2.4]\n",
            " [230.1  37.8  69.2]\n",
            " [  4.1  11.6   5.7]\n",
            " [120.5  28.5  14.2]\n",
            " [ 69.    9.3   0.9]\n",
            " [198.9  49.4  60. ]\n",
            " [206.8   5.2  19.4]\n",
            " [ 88.3  25.5  73.4]\n",
            " [  0.7  39.6   8.7]\n",
            " [ 89.7   9.9  35.7]\n",
            " [239.3  15.5  27.3]\n",
            " [213.4  24.6  13.1]\n",
            " [217.7  33.5  59. ]\n",
            " [243.2  49.   44.3]\n",
            " [172.5  18.1  30.7]\n",
            " [104.6   5.7  34.4]\n",
            " [110.7  40.6  63.2]\n",
            " [156.6   2.6   8.3]\n",
            " [140.3   1.9   9. ]\n",
            " [117.2  14.7   5.4]\n",
            " [ 66.1   5.8  24.2]\n",
            " [ 97.2   1.5  30. ]\n",
            " [ 68.4  44.5  35.6]\n",
            " [ 56.2   5.7  29.7]\n",
            " [222.4   4.3  49.8]\n",
            " [ 87.2  11.8  25.9]\n",
            " [228.3  16.9  26.2]\n",
            " [  7.8  38.9  50.6]\n",
            " [199.8   2.6  21.2]\n",
            " [ 50.   11.6  18.4]\n",
            " [238.2  34.3   5.3]\n",
            " [121.    8.4  48.7]\n",
            " [ 48.3  47.    8.5]\n",
            " [241.7  38.   23.2]\n",
            " [286.   13.9   3.7]\n",
            " [131.1  42.8  28.9]\n",
            " [195.4  47.7  52.9]\n",
            " [177.   33.4  38.7]\n",
            " [163.5  36.8   7.4]\n",
            " [255.4  26.9   5.5]\n",
            " [ 76.4  26.7  22.3]\n",
            " [216.4  41.7  39.6]\n",
            " [142.9  29.3  12.6]\n",
            " [ 27.5   1.6  20.7]\n",
            " [206.9   8.4  26.4]\n",
            " [ 62.3  12.6  18.3]\n",
            " [151.5  41.3  58.5]\n",
            " [284.3  10.6   6.4]\n",
            " [ 66.9  11.7  36.8]\n",
            " [ 44.7  25.8  20.6]\n",
            " [265.2   2.9  43. ]\n",
            " [ 39.5  41.1   5.8]\n",
            " [292.9  28.3  43.2]\n",
            " [ 18.8  21.7  50.4]\n",
            " [ 75.1  35.   52.7]\n",
            " [276.9  48.9  41.8]\n",
            " [  8.6   2.1   1. ]\n",
            " [ 53.5   2.   21.4]\n",
            " [220.3  49.    3.2]\n",
            " [ 44.5  39.3  45.1]\n",
            " [136.2  19.2  16.6]\n",
            " [ 13.2  15.9  49.6]\n",
            " [261.3  42.7  54.7]\n",
            " [102.7  29.6   8.4]\n",
            " [120.2  19.6  11.6]\n",
            " [ 94.2   4.9   8.1]\n",
            " [193.7  35.4  75.6]\n",
            " [ 76.3  27.5  16. ]\n",
            " [197.6   3.5   5.9]\n",
            " [237.4  27.5  11. ]\n",
            " [199.8   3.1  34.6]\n",
            " [220.5  33.2  37.9]\n",
            " [149.8   1.3  24.3]\n",
            " [ 93.9  43.5  50.5]\n",
            " [184.9  43.9   1.7]\n",
            " [240.1   7.3   8.7]\n",
            " [296.4  36.3 100.9]\n",
            " [218.4  27.7  53.4]\n",
            " [276.7   2.3  23.7]\n",
            " [262.9   3.5  19.5]\n",
            " [ 36.9  38.6  65.6]\n",
            " [109.8  14.3  31.7]\n",
            " [ 59.6  12.   43.1]\n",
            " [ 96.2  14.8  38.9]\n",
            " [ 17.2   4.1  31.6]\n",
            " [116.    7.7  23.1]\n",
            " [219.8  33.5  45.1]\n",
            " [273.7  28.9  59.7]\n",
            " [ 26.8  33.   19.3]\n",
            " [ 73.4  17.   12.9]\n",
            " [ 74.7  49.4  45.7]] \n",
            "Train-y = [[12.2]\n",
            " [13.4]\n",
            " [ 5.3]\n",
            " [20.7]\n",
            " [24.4]\n",
            " [ 7.2]\n",
            " [11.9]\n",
            " [15. ]\n",
            " [19.8]\n",
            " [11. ]\n",
            " [20.2]\n",
            " [21.7]\n",
            " [26.2]\n",
            " [ 7.3]\n",
            " [ 8. ]\n",
            " [20.9]\n",
            " [ 9.2]\n",
            " [ 9.4]\n",
            " [22.2]\n",
            " [15.5]\n",
            " [20.6]\n",
            " [14. ]\n",
            " [17.3]\n",
            " [16.6]\n",
            " [11.9]\n",
            " [13.7]\n",
            " [11.3]\n",
            " [ 5.7]\n",
            " [17.3]\n",
            " [16.1]\n",
            " [17.2]\n",
            " [25.4]\n",
            " [13.3]\n",
            " [10.3]\n",
            " [16. ]\n",
            " [19.7]\n",
            " [ 7.6]\n",
            " [14.8]\n",
            " [10.9]\n",
            " [16.7]\n",
            " [ 8.7]\n",
            " [17.5]\n",
            " [ 7.3]\n",
            " [16.6]\n",
            " [12. ]\n",
            " [18.3]\n",
            " [20.2]\n",
            " [16.1]\n",
            " [11.8]\n",
            " [17.1]\n",
            " [22.1]\n",
            " [ 3.2]\n",
            " [14.2]\n",
            " [11.3]\n",
            " [23.7]\n",
            " [17.2]\n",
            " [12.9]\n",
            " [ 1.6]\n",
            " [10.6]\n",
            " [20.7]\n",
            " [17. ]\n",
            " [19.4]\n",
            " [25.4]\n",
            " [16.4]\n",
            " [10.4]\n",
            " [16. ]\n",
            " [15.5]\n",
            " [10.3]\n",
            " [11.9]\n",
            " [12.6]\n",
            " [13.2]\n",
            " [13.6]\n",
            " [ 8.7]\n",
            " [16.7]\n",
            " [10.6]\n",
            " [20.5]\n",
            " [ 6.6]\n",
            " [15.6]\n",
            " [ 8.4]\n",
            " [20.7]\n",
            " [11.6]\n",
            " [11.6]\n",
            " [21.8]\n",
            " [20.9]\n",
            " [16. ]\n",
            " [22.4]\n",
            " [17.1]\n",
            " [18. ]\n",
            " [19.8]\n",
            " [11.8]\n",
            " [22.6]\n",
            " [15. ]\n",
            " [ 6.9]\n",
            " [17.9]\n",
            " [ 9.7]\n",
            " [16.5]\n",
            " [20. ]\n",
            " [ 9.7]\n",
            " [10.1]\n",
            " [17.7]\n",
            " [10.8]\n",
            " [21.4]\n",
            " [ 7. ]\n",
            " [12.6]\n",
            " [27. ]\n",
            " [ 4.8]\n",
            " [ 8.1]\n",
            " [24.7]\n",
            " [10.4]\n",
            " [13.2]\n",
            " [ 5.6]\n",
            " [24.2]\n",
            " [14. ]\n",
            " [13.2]\n",
            " [14. ]\n",
            " [19.2]\n",
            " [12. ]\n",
            " [16.7]\n",
            " [18.9]\n",
            " [16.4]\n",
            " [20.1]\n",
            " [10.1]\n",
            " [15.3]\n",
            " [20.7]\n",
            " [18.2]\n",
            " [23.8]\n",
            " [18. ]\n",
            " [16.8]\n",
            " [17. ]\n",
            " [10.8]\n",
            " [12.4]\n",
            " [ 9.7]\n",
            " [12.3]\n",
            " [ 5.9]\n",
            " [11. ]\n",
            " [19.6]\n",
            " [20.8]\n",
            " [ 8.8]\n",
            " [10.9]\n",
            " [14.7]]\n",
            "Test-X = [[210.8  49.6  37.7]\n",
            " [202.5  22.3  31.6]\n",
            " [ 95.7   1.4   7.4]\n",
            " [280.2  10.1  21.4]\n",
            " [253.8  21.3  30. ]\n",
            " [283.6  42.   66.2]\n",
            " [163.3  31.6  52.9]\n",
            " [180.8  10.8  58.4]\n",
            " [ 70.6  16.   40.8]\n",
            " [215.4  23.6  57.6]\n",
            " [164.5  20.9  47.4]\n",
            " [ 69.2  20.5  18.3]\n",
            " [214.7  24.    4. ]\n",
            " [109.8  47.8  51.4]\n",
            " [225.8   8.2  56.5]\n",
            " [125.7  36.9  79.2]\n",
            " [131.7  18.4  34.6]\n",
            " [290.7   4.1   8.5]\n",
            " [ 25.6  39.    9.3]\n",
            " [210.7  29.5   9.3]\n",
            " [100.4   9.6   3.6]\n",
            " [ 67.8  36.6 114. ]\n",
            " [ 25.1  25.7  43.3]\n",
            " [107.4  14.   10.9]\n",
            " [112.9  17.4  38.6]\n",
            " [188.4  18.1  25.6]\n",
            " [ 43.1  26.7  35.1]\n",
            " [248.8  27.1  22.9]\n",
            " [166.8  42.    3.6]\n",
            " [240.1  16.7  22.9]\n",
            " [239.9  41.5  18.5]\n",
            " [234.5   3.4  84.8]\n",
            " [149.7  35.6   6. ]\n",
            " [170.2   7.8  35.2]\n",
            " [248.4  30.2  20.3]\n",
            " [184.9  21.   22. ]\n",
            " [222.4   3.4  13.1]\n",
            " [129.4   5.7  31.3]\n",
            " [216.8  43.9  27.2]\n",
            " [ 19.6  20.1  17. ]\n",
            " [ 13.1   0.4  25.6]\n",
            " [ 90.4   0.3  23.2]\n",
            " [ 18.7  12.1  23.4]\n",
            " [204.1  32.9  46. ]\n",
            " [  7.3  28.1  41.4]\n",
            " [147.3  23.9  19.1]\n",
            " [ 78.2  46.8  34.5]\n",
            " [228.   37.7  32. ]\n",
            " [205.   45.1  19.6]\n",
            " [229.5  32.3  74.2]\n",
            " [289.7  42.3  51.2]\n",
            " [123.1  34.6  12.4]\n",
            " [ 19.4  16.   22.3]\n",
            " [182.6  46.2  58.7]\n",
            " [265.6  20.    0.3]\n",
            " [165.6  10.   17.6]\n",
            " [218.5   5.4  27.4]\n",
            " [ 25.   11.   29.7]\n",
            " [232.1   8.6   8.7]\n",
            " [ 43.   25.9  20.5]] \n",
            "Test-y = [[23.8]\n",
            " [16.6]\n",
            " [11.9]\n",
            " [19.8]\n",
            " [17.6]\n",
            " [25.5]\n",
            " [16.9]\n",
            " [17.9]\n",
            " [10.5]\n",
            " [17.1]\n",
            " [17.5]\n",
            " [11.3]\n",
            " [17.4]\n",
            " [16.7]\n",
            " [18.4]\n",
            " [15.9]\n",
            " [12.9]\n",
            " [17.8]\n",
            " [ 9.5]\n",
            " [18.4]\n",
            " [10.7]\n",
            " [12.5]\n",
            " [ 8.5]\n",
            " [11.5]\n",
            " [11.9]\n",
            " [19.9]\n",
            " [10.1]\n",
            " [18.9]\n",
            " [19.6]\n",
            " [20.9]\n",
            " [23.2]\n",
            " [16.9]\n",
            " [17.3]\n",
            " [16.7]\n",
            " [20.2]\n",
            " [20.5]\n",
            " [16.5]\n",
            " [11. ]\n",
            " [22.3]\n",
            " [ 7.6]\n",
            " [ 5.3]\n",
            " [12. ]\n",
            " [ 6.7]\n",
            " [19. ]\n",
            " [ 5.5]\n",
            " [14.6]\n",
            " [14.6]\n",
            " [21.5]\n",
            " [22.6]\n",
            " [19.7]\n",
            " [25.4]\n",
            " [15.2]\n",
            " [ 6.6]\n",
            " [21.2]\n",
            " [17.4]\n",
            " [17.6]\n",
            " [17.2]\n",
            " [ 7.2]\n",
            " [18.4]\n",
            " [ 9.6]]\n"
          ]
        }
      ]
    }
  ]
}