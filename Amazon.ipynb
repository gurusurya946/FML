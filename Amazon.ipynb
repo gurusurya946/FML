{
  "cells": [
    {
      "cell_type": "markdown",
      "metadata": {
        "id": "view-in-github",
        "colab_type": "text"
      },
      "source": [
        "<a href=\"https://colab.research.google.com/github/gurusurya946/FML/blob/main/Amazon.ipynb\" target=\"_parent\"><img src=\"https://colab.research.google.com/assets/colab-badge.svg\" alt=\"Open In Colab\"/></a>"
      ]
    },
    {
      "cell_type": "code",
      "execution_count": 1091,
      "metadata": {
        "id": "WiIts3mmx4K4"
      },
      "outputs": [],
      "source": [
        "import matplotlib.pyplot as plt\n",
        "import numpy as np\n",
        "import pandas  as pd\n",
        "from sklearn.datasets import load_iris\n",
        "from sklearn.neighbors import KNeighborsClassifier\n",
        "from sklearn.metrics import classification_report, confusion_matrix\n",
        "from sklearn.model_selection import train_test_split\n",
        "from sklearn.preprocessing import StandardScaler,RobustScaler\n",
        "from sklearn.metrics import accuracy_score\n",
        "from sklearn.linear_model import Lasso\n",
        "from sklearn.model_selection import GridSearchCV\n"
      ]
    },
    {
      "cell_type": "code",
      "execution_count": 1092,
      "metadata": {
        "colab": {
          "base_uri": "https://localhost:8080/"
        },
        "id": "zBqa3yWAT4sj",
        "outputId": "e688fa27-8838-4fc5-e7ec-959ddb8fde92"
      },
      "outputs": [
        {
          "output_type": "stream",
          "name": "stdout",
          "text": [
            "Drive already mounted at /content/drive; to attempt to forcibly remount, call drive.mount(\"/content/drive\", force_remount=True).\n"
          ]
        }
      ],
      "source": [
        "from google.colab import drive\n",
        "drive.mount('/content/drive')"
      ]
    },
    {
      "cell_type": "code",
      "execution_count": 1093,
      "metadata": {
        "id": "yfxEDuGfy0G_"
      },
      "outputs": [],
      "source": [
        "data = pd.read_csv(\"/content/drive/MyDrive/ML/Amazon.csv\")"
      ]
    },
    {
      "cell_type": "code",
      "execution_count": 1094,
      "metadata": {
        "colab": {
          "base_uri": "https://localhost:8080/",
          "height": 206
        },
        "id": "2aShXDLpy8gQ",
        "outputId": "cddc2038-e3ea-4049-d6ff-c1b79b3a9ae1"
      },
      "outputs": [
        {
          "output_type": "execute_result",
          "data": {
            "text/plain": [
              "   Cus_ID Sex  Age  Income  Rating\n",
              "0  301219   M   23  306555      44\n",
              "1  301220   F   26  306555      91\n",
              "2  301221   F   24  326992       7\n",
              "3  301222   M   28  326992      87\n",
              "4  301223   F   38  347429      45"
            ],
            "text/html": [
              "\n",
              "  <div id=\"df-33eea47c-6e30-40ca-b895-4e1b50925bc0\">\n",
              "    <div class=\"colab-df-container\">\n",
              "      <div>\n",
              "<style scoped>\n",
              "    .dataframe tbody tr th:only-of-type {\n",
              "        vertical-align: middle;\n",
              "    }\n",
              "\n",
              "    .dataframe tbody tr th {\n",
              "        vertical-align: top;\n",
              "    }\n",
              "\n",
              "    .dataframe thead th {\n",
              "        text-align: right;\n",
              "    }\n",
              "</style>\n",
              "<table border=\"1\" class=\"dataframe\">\n",
              "  <thead>\n",
              "    <tr style=\"text-align: right;\">\n",
              "      <th></th>\n",
              "      <th>Cus_ID</th>\n",
              "      <th>Sex</th>\n",
              "      <th>Age</th>\n",
              "      <th>Income</th>\n",
              "      <th>Rating</th>\n",
              "    </tr>\n",
              "  </thead>\n",
              "  <tbody>\n",
              "    <tr>\n",
              "      <th>0</th>\n",
              "      <td>301219</td>\n",
              "      <td>M</td>\n",
              "      <td>23</td>\n",
              "      <td>306555</td>\n",
              "      <td>44</td>\n",
              "    </tr>\n",
              "    <tr>\n",
              "      <th>1</th>\n",
              "      <td>301220</td>\n",
              "      <td>F</td>\n",
              "      <td>26</td>\n",
              "      <td>306555</td>\n",
              "      <td>91</td>\n",
              "    </tr>\n",
              "    <tr>\n",
              "      <th>2</th>\n",
              "      <td>301221</td>\n",
              "      <td>F</td>\n",
              "      <td>24</td>\n",
              "      <td>326992</td>\n",
              "      <td>7</td>\n",
              "    </tr>\n",
              "    <tr>\n",
              "      <th>3</th>\n",
              "      <td>301222</td>\n",
              "      <td>M</td>\n",
              "      <td>28</td>\n",
              "      <td>326992</td>\n",
              "      <td>87</td>\n",
              "    </tr>\n",
              "    <tr>\n",
              "      <th>4</th>\n",
              "      <td>301223</td>\n",
              "      <td>F</td>\n",
              "      <td>38</td>\n",
              "      <td>347429</td>\n",
              "      <td>45</td>\n",
              "    </tr>\n",
              "  </tbody>\n",
              "</table>\n",
              "</div>\n",
              "      <button class=\"colab-df-convert\" onclick=\"convertToInteractive('df-33eea47c-6e30-40ca-b895-4e1b50925bc0')\"\n",
              "              title=\"Convert this dataframe to an interactive table.\"\n",
              "              style=\"display:none;\">\n",
              "        \n",
              "  <svg xmlns=\"http://www.w3.org/2000/svg\" height=\"24px\"viewBox=\"0 0 24 24\"\n",
              "       width=\"24px\">\n",
              "    <path d=\"M0 0h24v24H0V0z\" fill=\"none\"/>\n",
              "    <path d=\"M18.56 5.44l.94 2.06.94-2.06 2.06-.94-2.06-.94-.94-2.06-.94 2.06-2.06.94zm-11 1L8.5 8.5l.94-2.06 2.06-.94-2.06-.94L8.5 2.5l-.94 2.06-2.06.94zm10 10l.94 2.06.94-2.06 2.06-.94-2.06-.94-.94-2.06-.94 2.06-2.06.94z\"/><path d=\"M17.41 7.96l-1.37-1.37c-.4-.4-.92-.59-1.43-.59-.52 0-1.04.2-1.43.59L10.3 9.45l-7.72 7.72c-.78.78-.78 2.05 0 2.83L4 21.41c.39.39.9.59 1.41.59.51 0 1.02-.2 1.41-.59l7.78-7.78 2.81-2.81c.8-.78.8-2.07 0-2.86zM5.41 20L4 18.59l7.72-7.72 1.47 1.35L5.41 20z\"/>\n",
              "  </svg>\n",
              "      </button>\n",
              "      \n",
              "  <style>\n",
              "    .colab-df-container {\n",
              "      display:flex;\n",
              "      flex-wrap:wrap;\n",
              "      gap: 12px;\n",
              "    }\n",
              "\n",
              "    .colab-df-convert {\n",
              "      background-color: #E8F0FE;\n",
              "      border: none;\n",
              "      border-radius: 50%;\n",
              "      cursor: pointer;\n",
              "      display: none;\n",
              "      fill: #1967D2;\n",
              "      height: 32px;\n",
              "      padding: 0 0 0 0;\n",
              "      width: 32px;\n",
              "    }\n",
              "\n",
              "    .colab-df-convert:hover {\n",
              "      background-color: #E2EBFA;\n",
              "      box-shadow: 0px 1px 2px rgba(60, 64, 67, 0.3), 0px 1px 3px 1px rgba(60, 64, 67, 0.15);\n",
              "      fill: #174EA6;\n",
              "    }\n",
              "\n",
              "    [theme=dark] .colab-df-convert {\n",
              "      background-color: #3B4455;\n",
              "      fill: #D2E3FC;\n",
              "    }\n",
              "\n",
              "    [theme=dark] .colab-df-convert:hover {\n",
              "      background-color: #434B5C;\n",
              "      box-shadow: 0px 1px 3px 1px rgba(0, 0, 0, 0.15);\n",
              "      filter: drop-shadow(0px 1px 2px rgba(0, 0, 0, 0.3));\n",
              "      fill: #FFFFFF;\n",
              "    }\n",
              "  </style>\n",
              "\n",
              "      <script>\n",
              "        const buttonEl =\n",
              "          document.querySelector('#df-33eea47c-6e30-40ca-b895-4e1b50925bc0 button.colab-df-convert');\n",
              "        buttonEl.style.display =\n",
              "          google.colab.kernel.accessAllowed ? 'block' : 'none';\n",
              "\n",
              "        async function convertToInteractive(key) {\n",
              "          const element = document.querySelector('#df-33eea47c-6e30-40ca-b895-4e1b50925bc0');\n",
              "          const dataTable =\n",
              "            await google.colab.kernel.invokeFunction('convertToInteractive',\n",
              "                                                     [key], {});\n",
              "          if (!dataTable) return;\n",
              "\n",
              "          const docLinkHtml = 'Like what you see? Visit the ' +\n",
              "            '<a target=\"_blank\" href=https://colab.research.google.com/notebooks/data_table.ipynb>data table notebook</a>'\n",
              "            + ' to learn more about interactive tables.';\n",
              "          element.innerHTML = '';\n",
              "          dataTable['output_type'] = 'display_data';\n",
              "          await google.colab.output.renderOutput(dataTable, element);\n",
              "          const docLink = document.createElement('div');\n",
              "          docLink.innerHTML = docLinkHtml;\n",
              "          element.appendChild(docLink);\n",
              "        }\n",
              "      </script>\n",
              "    </div>\n",
              "  </div>\n",
              "  "
            ]
          },
          "metadata": {},
          "execution_count": 1094
        }
      ],
      "source": [
        "data.head()"
      ]
    },
    {
      "cell_type": "code",
      "execution_count": 1095,
      "metadata": {
        "colab": {
          "base_uri": "https://localhost:8080/"
        },
        "id": "g5q9l9Iuy_oS",
        "outputId": "4139ecc8-81f1-4db3-8cd5-b3d61458ed5f"
      },
      "outputs": [
        {
          "output_type": "execute_result",
          "data": {
            "text/plain": [
              "Cus_ID    0\n",
              "Sex       0\n",
              "Age       0\n",
              "Income    0\n",
              "Rating    0\n",
              "dtype: int64"
            ]
          },
          "metadata": {},
          "execution_count": 1095
        }
      ],
      "source": [
        "data.isnull().sum()"
      ]
    },
    {
      "cell_type": "code",
      "execution_count": 1096,
      "metadata": {
        "colab": {
          "base_uri": "https://localhost:8080/",
          "height": 300
        },
        "id": "UD8qOcgIzGiN",
        "outputId": "4a33485e-4f35-4b04-99d9-e430860ca7cd"
      },
      "outputs": [
        {
          "output_type": "execute_result",
          "data": {
            "text/plain": [
              "              Cus_ID         Age        Income      Rating\n",
              "count     200.000000  200.000000  2.000000e+02  200.000000\n",
              "mean   301318.500000   46.985000  1.237665e+06   56.705000\n",
              "std        57.879185   16.751353  5.367721e+05   28.900418\n",
              "min    301219.000000   22.000000  3.065550e+05    2.000000\n",
              "25%    301268.750000   34.750000  8.481355e+05   39.750000\n",
              "50%    301318.500000   44.000000  1.256876e+06   56.000000\n",
              "75%    301368.250000   59.000000  1.594086e+06   82.000000\n",
              "max    301418.000000   84.000000  2.799869e+06  111.000000"
            ],
            "text/html": [
              "\n",
              "  <div id=\"df-ad18a03a-f757-473f-8a34-0ecc9d0e15ec\">\n",
              "    <div class=\"colab-df-container\">\n",
              "      <div>\n",
              "<style scoped>\n",
              "    .dataframe tbody tr th:only-of-type {\n",
              "        vertical-align: middle;\n",
              "    }\n",
              "\n",
              "    .dataframe tbody tr th {\n",
              "        vertical-align: top;\n",
              "    }\n",
              "\n",
              "    .dataframe thead th {\n",
              "        text-align: right;\n",
              "    }\n",
              "</style>\n",
              "<table border=\"1\" class=\"dataframe\">\n",
              "  <thead>\n",
              "    <tr style=\"text-align: right;\">\n",
              "      <th></th>\n",
              "      <th>Cus_ID</th>\n",
              "      <th>Age</th>\n",
              "      <th>Income</th>\n",
              "      <th>Rating</th>\n",
              "    </tr>\n",
              "  </thead>\n",
              "  <tbody>\n",
              "    <tr>\n",
              "      <th>count</th>\n",
              "      <td>200.000000</td>\n",
              "      <td>200.000000</td>\n",
              "      <td>2.000000e+02</td>\n",
              "      <td>200.000000</td>\n",
              "    </tr>\n",
              "    <tr>\n",
              "      <th>mean</th>\n",
              "      <td>301318.500000</td>\n",
              "      <td>46.985000</td>\n",
              "      <td>1.237665e+06</td>\n",
              "      <td>56.705000</td>\n",
              "    </tr>\n",
              "    <tr>\n",
              "      <th>std</th>\n",
              "      <td>57.879185</td>\n",
              "      <td>16.751353</td>\n",
              "      <td>5.367721e+05</td>\n",
              "      <td>28.900418</td>\n",
              "    </tr>\n",
              "    <tr>\n",
              "      <th>min</th>\n",
              "      <td>301219.000000</td>\n",
              "      <td>22.000000</td>\n",
              "      <td>3.065550e+05</td>\n",
              "      <td>2.000000</td>\n",
              "    </tr>\n",
              "    <tr>\n",
              "      <th>25%</th>\n",
              "      <td>301268.750000</td>\n",
              "      <td>34.750000</td>\n",
              "      <td>8.481355e+05</td>\n",
              "      <td>39.750000</td>\n",
              "    </tr>\n",
              "    <tr>\n",
              "      <th>50%</th>\n",
              "      <td>301318.500000</td>\n",
              "      <td>44.000000</td>\n",
              "      <td>1.256876e+06</td>\n",
              "      <td>56.000000</td>\n",
              "    </tr>\n",
              "    <tr>\n",
              "      <th>75%</th>\n",
              "      <td>301368.250000</td>\n",
              "      <td>59.000000</td>\n",
              "      <td>1.594086e+06</td>\n",
              "      <td>82.000000</td>\n",
              "    </tr>\n",
              "    <tr>\n",
              "      <th>max</th>\n",
              "      <td>301418.000000</td>\n",
              "      <td>84.000000</td>\n",
              "      <td>2.799869e+06</td>\n",
              "      <td>111.000000</td>\n",
              "    </tr>\n",
              "  </tbody>\n",
              "</table>\n",
              "</div>\n",
              "      <button class=\"colab-df-convert\" onclick=\"convertToInteractive('df-ad18a03a-f757-473f-8a34-0ecc9d0e15ec')\"\n",
              "              title=\"Convert this dataframe to an interactive table.\"\n",
              "              style=\"display:none;\">\n",
              "        \n",
              "  <svg xmlns=\"http://www.w3.org/2000/svg\" height=\"24px\"viewBox=\"0 0 24 24\"\n",
              "       width=\"24px\">\n",
              "    <path d=\"M0 0h24v24H0V0z\" fill=\"none\"/>\n",
              "    <path d=\"M18.56 5.44l.94 2.06.94-2.06 2.06-.94-2.06-.94-.94-2.06-.94 2.06-2.06.94zm-11 1L8.5 8.5l.94-2.06 2.06-.94-2.06-.94L8.5 2.5l-.94 2.06-2.06.94zm10 10l.94 2.06.94-2.06 2.06-.94-2.06-.94-.94-2.06-.94 2.06-2.06.94z\"/><path d=\"M17.41 7.96l-1.37-1.37c-.4-.4-.92-.59-1.43-.59-.52 0-1.04.2-1.43.59L10.3 9.45l-7.72 7.72c-.78.78-.78 2.05 0 2.83L4 21.41c.39.39.9.59 1.41.59.51 0 1.02-.2 1.41-.59l7.78-7.78 2.81-2.81c.8-.78.8-2.07 0-2.86zM5.41 20L4 18.59l7.72-7.72 1.47 1.35L5.41 20z\"/>\n",
              "  </svg>\n",
              "      </button>\n",
              "      \n",
              "  <style>\n",
              "    .colab-df-container {\n",
              "      display:flex;\n",
              "      flex-wrap:wrap;\n",
              "      gap: 12px;\n",
              "    }\n",
              "\n",
              "    .colab-df-convert {\n",
              "      background-color: #E8F0FE;\n",
              "      border: none;\n",
              "      border-radius: 50%;\n",
              "      cursor: pointer;\n",
              "      display: none;\n",
              "      fill: #1967D2;\n",
              "      height: 32px;\n",
              "      padding: 0 0 0 0;\n",
              "      width: 32px;\n",
              "    }\n",
              "\n",
              "    .colab-df-convert:hover {\n",
              "      background-color: #E2EBFA;\n",
              "      box-shadow: 0px 1px 2px rgba(60, 64, 67, 0.3), 0px 1px 3px 1px rgba(60, 64, 67, 0.15);\n",
              "      fill: #174EA6;\n",
              "    }\n",
              "\n",
              "    [theme=dark] .colab-df-convert {\n",
              "      background-color: #3B4455;\n",
              "      fill: #D2E3FC;\n",
              "    }\n",
              "\n",
              "    [theme=dark] .colab-df-convert:hover {\n",
              "      background-color: #434B5C;\n",
              "      box-shadow: 0px 1px 3px 1px rgba(0, 0, 0, 0.15);\n",
              "      filter: drop-shadow(0px 1px 2px rgba(0, 0, 0, 0.3));\n",
              "      fill: #FFFFFF;\n",
              "    }\n",
              "  </style>\n",
              "\n",
              "      <script>\n",
              "        const buttonEl =\n",
              "          document.querySelector('#df-ad18a03a-f757-473f-8a34-0ecc9d0e15ec button.colab-df-convert');\n",
              "        buttonEl.style.display =\n",
              "          google.colab.kernel.accessAllowed ? 'block' : 'none';\n",
              "\n",
              "        async function convertToInteractive(key) {\n",
              "          const element = document.querySelector('#df-ad18a03a-f757-473f-8a34-0ecc9d0e15ec');\n",
              "          const dataTable =\n",
              "            await google.colab.kernel.invokeFunction('convertToInteractive',\n",
              "                                                     [key], {});\n",
              "          if (!dataTable) return;\n",
              "\n",
              "          const docLinkHtml = 'Like what you see? Visit the ' +\n",
              "            '<a target=\"_blank\" href=https://colab.research.google.com/notebooks/data_table.ipynb>data table notebook</a>'\n",
              "            + ' to learn more about interactive tables.';\n",
              "          element.innerHTML = '';\n",
              "          dataTable['output_type'] = 'display_data';\n",
              "          await google.colab.output.renderOutput(dataTable, element);\n",
              "          const docLink = document.createElement('div');\n",
              "          docLink.innerHTML = docLinkHtml;\n",
              "          element.appendChild(docLink);\n",
              "        }\n",
              "      </script>\n",
              "    </div>\n",
              "  </div>\n",
              "  "
            ]
          },
          "metadata": {},
          "execution_count": 1096
        }
      ],
      "source": [
        "data.describe()"
      ]
    },
    {
      "cell_type": "code",
      "execution_count": 1097,
      "metadata": {
        "id": "MkHhoNBB3n91"
      },
      "outputs": [],
      "source": [
        "data['Sex']=data['Sex'].replace('M',0)\n",
        "data['Sex']=data['Sex'].replace('F',1)"
      ]
    },
    {
      "cell_type": "code",
      "execution_count": 1098,
      "metadata": {
        "colab": {
          "base_uri": "https://localhost:8080/",
          "height": 206
        },
        "id": "Gcg93eVh6Tlp",
        "outputId": "73be5ca2-5557-48a0-cd07-ca198e9c9128"
      },
      "outputs": [
        {
          "output_type": "execute_result",
          "data": {
            "text/plain": [
              "          Cus_ID       Sex       Age    Income    Rating\n",
              "Cus_ID  1.000000 -0.074324 -0.025057  0.977548  0.013574\n",
              "Sex    -0.074324  1.000000 -0.061618 -0.074178  0.048073\n",
              "Age    -0.025057 -0.061618  1.000000 -0.010866 -0.327837\n",
              "Income  0.977548 -0.074178 -0.010866  1.000000  0.009533\n",
              "Rating  0.013574  0.048073 -0.327837  0.009533  1.000000"
            ],
            "text/html": [
              "\n",
              "  <div id=\"df-5157dc8d-199c-4b20-92f1-3b5b69d69e2d\">\n",
              "    <div class=\"colab-df-container\">\n",
              "      <div>\n",
              "<style scoped>\n",
              "    .dataframe tbody tr th:only-of-type {\n",
              "        vertical-align: middle;\n",
              "    }\n",
              "\n",
              "    .dataframe tbody tr th {\n",
              "        vertical-align: top;\n",
              "    }\n",
              "\n",
              "    .dataframe thead th {\n",
              "        text-align: right;\n",
              "    }\n",
              "</style>\n",
              "<table border=\"1\" class=\"dataframe\">\n",
              "  <thead>\n",
              "    <tr style=\"text-align: right;\">\n",
              "      <th></th>\n",
              "      <th>Cus_ID</th>\n",
              "      <th>Sex</th>\n",
              "      <th>Age</th>\n",
              "      <th>Income</th>\n",
              "      <th>Rating</th>\n",
              "    </tr>\n",
              "  </thead>\n",
              "  <tbody>\n",
              "    <tr>\n",
              "      <th>Cus_ID</th>\n",
              "      <td>1.000000</td>\n",
              "      <td>-0.074324</td>\n",
              "      <td>-0.025057</td>\n",
              "      <td>0.977548</td>\n",
              "      <td>0.013574</td>\n",
              "    </tr>\n",
              "    <tr>\n",
              "      <th>Sex</th>\n",
              "      <td>-0.074324</td>\n",
              "      <td>1.000000</td>\n",
              "      <td>-0.061618</td>\n",
              "      <td>-0.074178</td>\n",
              "      <td>0.048073</td>\n",
              "    </tr>\n",
              "    <tr>\n",
              "      <th>Age</th>\n",
              "      <td>-0.025057</td>\n",
              "      <td>-0.061618</td>\n",
              "      <td>1.000000</td>\n",
              "      <td>-0.010866</td>\n",
              "      <td>-0.327837</td>\n",
              "    </tr>\n",
              "    <tr>\n",
              "      <th>Income</th>\n",
              "      <td>0.977548</td>\n",
              "      <td>-0.074178</td>\n",
              "      <td>-0.010866</td>\n",
              "      <td>1.000000</td>\n",
              "      <td>0.009533</td>\n",
              "    </tr>\n",
              "    <tr>\n",
              "      <th>Rating</th>\n",
              "      <td>0.013574</td>\n",
              "      <td>0.048073</td>\n",
              "      <td>-0.327837</td>\n",
              "      <td>0.009533</td>\n",
              "      <td>1.000000</td>\n",
              "    </tr>\n",
              "  </tbody>\n",
              "</table>\n",
              "</div>\n",
              "      <button class=\"colab-df-convert\" onclick=\"convertToInteractive('df-5157dc8d-199c-4b20-92f1-3b5b69d69e2d')\"\n",
              "              title=\"Convert this dataframe to an interactive table.\"\n",
              "              style=\"display:none;\">\n",
              "        \n",
              "  <svg xmlns=\"http://www.w3.org/2000/svg\" height=\"24px\"viewBox=\"0 0 24 24\"\n",
              "       width=\"24px\">\n",
              "    <path d=\"M0 0h24v24H0V0z\" fill=\"none\"/>\n",
              "    <path d=\"M18.56 5.44l.94 2.06.94-2.06 2.06-.94-2.06-.94-.94-2.06-.94 2.06-2.06.94zm-11 1L8.5 8.5l.94-2.06 2.06-.94-2.06-.94L8.5 2.5l-.94 2.06-2.06.94zm10 10l.94 2.06.94-2.06 2.06-.94-2.06-.94-.94-2.06-.94 2.06-2.06.94z\"/><path d=\"M17.41 7.96l-1.37-1.37c-.4-.4-.92-.59-1.43-.59-.52 0-1.04.2-1.43.59L10.3 9.45l-7.72 7.72c-.78.78-.78 2.05 0 2.83L4 21.41c.39.39.9.59 1.41.59.51 0 1.02-.2 1.41-.59l7.78-7.78 2.81-2.81c.8-.78.8-2.07 0-2.86zM5.41 20L4 18.59l7.72-7.72 1.47 1.35L5.41 20z\"/>\n",
              "  </svg>\n",
              "      </button>\n",
              "      \n",
              "  <style>\n",
              "    .colab-df-container {\n",
              "      display:flex;\n",
              "      flex-wrap:wrap;\n",
              "      gap: 12px;\n",
              "    }\n",
              "\n",
              "    .colab-df-convert {\n",
              "      background-color: #E8F0FE;\n",
              "      border: none;\n",
              "      border-radius: 50%;\n",
              "      cursor: pointer;\n",
              "      display: none;\n",
              "      fill: #1967D2;\n",
              "      height: 32px;\n",
              "      padding: 0 0 0 0;\n",
              "      width: 32px;\n",
              "    }\n",
              "\n",
              "    .colab-df-convert:hover {\n",
              "      background-color: #E2EBFA;\n",
              "      box-shadow: 0px 1px 2px rgba(60, 64, 67, 0.3), 0px 1px 3px 1px rgba(60, 64, 67, 0.15);\n",
              "      fill: #174EA6;\n",
              "    }\n",
              "\n",
              "    [theme=dark] .colab-df-convert {\n",
              "      background-color: #3B4455;\n",
              "      fill: #D2E3FC;\n",
              "    }\n",
              "\n",
              "    [theme=dark] .colab-df-convert:hover {\n",
              "      background-color: #434B5C;\n",
              "      box-shadow: 0px 1px 3px 1px rgba(0, 0, 0, 0.15);\n",
              "      filter: drop-shadow(0px 1px 2px rgba(0, 0, 0, 0.3));\n",
              "      fill: #FFFFFF;\n",
              "    }\n",
              "  </style>\n",
              "\n",
              "      <script>\n",
              "        const buttonEl =\n",
              "          document.querySelector('#df-5157dc8d-199c-4b20-92f1-3b5b69d69e2d button.colab-df-convert');\n",
              "        buttonEl.style.display =\n",
              "          google.colab.kernel.accessAllowed ? 'block' : 'none';\n",
              "\n",
              "        async function convertToInteractive(key) {\n",
              "          const element = document.querySelector('#df-5157dc8d-199c-4b20-92f1-3b5b69d69e2d');\n",
              "          const dataTable =\n",
              "            await google.colab.kernel.invokeFunction('convertToInteractive',\n",
              "                                                     [key], {});\n",
              "          if (!dataTable) return;\n",
              "\n",
              "          const docLinkHtml = 'Like what you see? Visit the ' +\n",
              "            '<a target=\"_blank\" href=https://colab.research.google.com/notebooks/data_table.ipynb>data table notebook</a>'\n",
              "            + ' to learn more about interactive tables.';\n",
              "          element.innerHTML = '';\n",
              "          dataTable['output_type'] = 'display_data';\n",
              "          await google.colab.output.renderOutput(dataTable, element);\n",
              "          const docLink = document.createElement('div');\n",
              "          docLink.innerHTML = docLinkHtml;\n",
              "          element.appendChild(docLink);\n",
              "        }\n",
              "      </script>\n",
              "    </div>\n",
              "  </div>\n",
              "  "
            ]
          },
          "metadata": {},
          "execution_count": 1098
        }
      ],
      "source": [
        "import seaborn as sns\n",
        "corr=data.corr()\n",
        "corr"
      ]
    },
    {
      "cell_type": "code",
      "execution_count": 1099,
      "metadata": {
        "colab": {
          "base_uri": "https://localhost:8080/",
          "height": 452
        },
        "id": "YM5LvrPa6Z73",
        "outputId": "c5207b32-8a74-4087-dee3-1b0e8d38f090"
      },
      "outputs": [
        {
          "output_type": "execute_result",
          "data": {
            "text/plain": [
              "<Axes: >"
            ]
          },
          "metadata": {},
          "execution_count": 1099
        },
        {
          "output_type": "display_data",
          "data": {
            "text/plain": [
              "<Figure size 640x480 with 2 Axes>"
            ],
            "image/png": "[encoded data removed]"
          },
          "metadata": {}
        }
      ],
      "source": [
        "sns.heatmap(corr,annot=True)"
      ]
    },
    {
      "cell_type": "code",
      "source": [
        "scaler = StandardScaler()\n",
        "features = [['Age', 'Income']]\n",
        "for feature in features:\n",
        "    data[feature] = scaler.fit_transform(data[feature])\n"
      ],
      "metadata": {
        "id": "brCYnD73aVMA"
      },
      "execution_count": 1100,
      "outputs": []
    },
    {
      "cell_type": "code",
      "source": [
        "scaler = RobustScaler()\n",
        "features = [['Age','Income']]\n",
        "for feature in features:\n",
        "    data[feature] = scaler.fit_transform(data[feature])"
      ],
      "metadata": {
        "id": "oVwb2J1Ivmvc"
      },
      "execution_count": 1101,
      "outputs": []
    },
    {
      "cell_type": "code",
      "execution_count": 1102,
      "metadata": {
        "colab": {
          "base_uri": "https://localhost:8080/"
        },
        "id": "I4pHZCgfzSKX",
        "outputId": "d63cd455-aa8c-4c70-8d33-b049fb1c9f0c"
      },
      "outputs": [
        {
          "output_type": "stream",
          "name": "stdout",
          "text": [
            "[0 1 0 1 0 1 0 1 0 1 0 1 0 1 0 1 0 0 0 1 0 1 0 1 0 1 0 0 0 1 0 1 0 1 0 1 0\n",
            " 1 0 1 0 1 0 0 0 0 0 0 0 0 0 0 0 0 0 0 0 0 0 0 0 0 0 0 0 0 0 0 0 0 0 0 0 0\n",
            " 0 0 0 0 0 0 0 0 0 0 0 0 0 0 0 0 0 0 0 0 0 0 0 0 0 0 0 0 0 0 0 0 0 0 0 0 0\n",
            " 0 0 0 0 0 0 0 0 0 0 0 0 1 0 1 0 1 0 1 0 1 0 0 0 1 0 1 0 1 0 1 0 1 0 1 0 1\n",
            " 0 1 0 1 0 1 0 1 0 1 0 1 0 1 0 1 0 1 0 1 0 0 0 1 0 1 0 1 0 0 0 1 0 1 0 1 0\n",
            " 1 0 0 0 1 0 0 0 1 0 1 0 1 0 1]\n"
          ]
        }
      ],
      "source": [
        "X=data.drop('Rating',axis=1).values\n",
        "y=data['Rating'].values\n",
        "for i in range(0,len(y)):\n",
        "  if(y[i]>80):\n",
        "    y[i]=1\n",
        "  else:\n",
        "    y[i]=0\n",
        "print(y)\n",
        "     "
      ]
    },
    {
      "cell_type": "code",
      "source": [],
      "metadata": {
        "id": "yV6iTs2YaXqC"
      },
      "execution_count": 1102,
      "outputs": []
    },
    {
      "cell_type": "code",
      "execution_count": 1103,
      "metadata": {
        "id": "HgWAwmHR2tVv",
        "colab": {
          "base_uri": "https://localhost:8080/"
        },
        "outputId": "24d05f5e-dbfa-466a-d76a-85c2fc7cacc5"
      },
      "outputs": [
        {
          "output_type": "stream",
          "name": "stdout",
          "text": [
            "[[ 3.01219000e+05  0.00000000e+00 -8.65979381e-01 -1.27397260e+00]\n",
            " [ 3.01220000e+05  1.00000000e+00 -7.42268041e-01 -1.27397260e+00]\n",
            " [ 3.01221000e+05  1.00000000e+00 -8.24742268e-01 -1.24657534e+00]\n",
            " [ 3.01222000e+05  0.00000000e+00 -6.59793814e-01 -1.24657534e+00]\n",
            " [ 3.01223000e+05  1.00000000e+00 -2.47422680e-01 -1.21917808e+00]\n",
            " [ 3.01224000e+05  1.00000000e+00 -7.01030928e-01 -1.21917808e+00]\n",
            " [ 3.01225000e+05  1.00000000e+00 -8.24742268e-02 -1.19178082e+00]\n",
            " [ 3.01226000e+05  1.00000000e+00 -6.59793814e-01 -1.19178082e+00]\n",
            " [ 3.01227000e+05  0.00000000e+00  1.36082474e+00 -1.16438356e+00]\n",
            " [ 3.01228000e+05  1.00000000e+00 -3.29896907e-01 -1.16438356e+00]\n",
            " [ 3.01229000e+05  0.00000000e+00  1.52577320e+00 -1.16438356e+00]\n",
            " [ 3.01230000e+05  1.00000000e+00 -8.24742268e-02 -1.16438356e+00]\n",
            " [ 3.01231000e+05  1.00000000e+00  1.07216495e+00 -1.13698630e+00]\n",
            " [ 3.01232000e+05  1.00000000e+00 -6.18556701e-01 -1.13698630e+00]\n",
            " [ 3.01233000e+05  0.00000000e+00  4.12371134e-02 -1.13698630e+00]\n",
            " [ 3.01234000e+05  0.00000000e+00 -7.01030928e-01 -1.13698630e+00]\n",
            " [ 3.01235000e+05  1.00000000e+00 -8.24742268e-02 -1.10958904e+00]\n",
            " [ 3.01236000e+05  0.00000000e+00 -8.24742268e-01 -1.10958904e+00]\n",
            " [ 3.01237000e+05  0.00000000e+00  7.83505155e-01 -1.05479452e+00]\n",
            " [ 3.01238000e+05  1.00000000e+00 -8.24742268e-02 -1.05479452e+00]\n",
            " [ 3.01239000e+05  0.00000000e+00 -8.24742268e-02 -1.02739726e+00]\n",
            " [ 3.01240000e+05  0.00000000e+00 -5.77319588e-01 -1.02739726e+00]\n",
            " [ 3.01241000e+05  1.00000000e+00  4.94845361e-01 -1.00000000e+00]\n",
            " [ 3.01242000e+05  0.00000000e+00 -2.47422680e-01 -1.00000000e+00]\n",
            " [ 3.01243000e+05  1.00000000e+00  8.65979381e-01 -9.17808219e-01]\n",
            " [ 3.01244000e+05  0.00000000e+00 -3.71134021e-01 -9.17808219e-01]\n",
            " [ 3.01245000e+05  1.00000000e+00  4.12371134e-01 -9.17808219e-01]\n",
            " [ 3.01246000e+05  0.00000000e+00 -8.24742268e-02 -9.17808219e-01]\n",
            " [ 3.01247000e+05  1.00000000e+00  1.64948454e-01 -8.90410959e-01]\n",
            " [ 3.01248000e+05  1.00000000e+00 -6.59793814e-01 -8.90410959e-01]\n",
            " [ 3.01249000e+05  0.00000000e+00  1.15463918e+00 -8.63013699e-01]\n",
            " [ 3.01250000e+05  1.00000000e+00 -7.42268041e-01 -8.63013699e-01]\n",
            " [ 3.01251000e+05  0.00000000e+00  8.24742268e-01 -7.80821918e-01]\n",
            " [ 3.01252000e+05  0.00000000e+00 -9.07216495e-01 -7.80821918e-01]\n",
            " [ 3.01253000e+05  1.00000000e+00  6.18556701e-01 -7.80821918e-01]\n",
            " [ 3.01254000e+05  1.00000000e+00 -7.42268041e-01 -7.80821918e-01]\n",
            " [ 3.01255000e+05  1.00000000e+00  2.88659794e-01 -7.53424658e-01]\n",
            " [ 3.01256000e+05  1.00000000e+00 -3.29896907e-01 -7.53424658e-01]\n",
            " [ 3.01257000e+05  1.00000000e+00  0.00000000e+00 -6.71232877e-01]\n",
            " [ 3.01258000e+05  1.00000000e+00 -8.24742268e-01 -6.71232877e-01]\n",
            " [ 3.01259000e+05  1.00000000e+00  1.40206186e+00 -6.43835616e-01]\n",
            " [ 3.01260000e+05  0.00000000e+00 -6.18556701e-01 -6.43835616e-01]\n",
            " [ 3.01261000e+05  0.00000000e+00  5.77319588e-01 -6.16438356e-01]\n",
            " [ 3.01262000e+05  1.00000000e+00 -2.47422680e-01 -6.16438356e-01]\n",
            " [ 3.01263000e+05  1.00000000e+00  6.18556701e-01 -6.16438356e-01]\n",
            " [ 3.01264000e+05  1.00000000e+00 -6.18556701e-01 -6.16438356e-01]\n",
            " [ 3.01265000e+05  1.00000000e+00  6.59793814e-01 -5.89041096e-01]\n",
            " [ 3.01266000e+05  1.00000000e+00 -4.53608247e-01 -5.89041096e-01]\n",
            " [ 3.01267000e+05  1.00000000e+00 -3.71134021e-01 -5.89041096e-01]\n",
            " [ 3.01268000e+05  1.00000000e+00 -2.47422680e-01 -5.89041096e-01]\n",
            " [ 3.01269000e+05  1.00000000e+00  6.18556701e-01 -5.34246575e-01]\n",
            " [ 3.01270000e+05  0.00000000e+00 -1.64948454e-01 -5.34246575e-01]\n",
            " [ 3.01271000e+05  1.00000000e+00 -2.47422680e-01 -5.06849315e-01]\n",
            " [ 3.01272000e+05  0.00000000e+00  1.11340206e+00 -5.06849315e-01]\n",
            " [ 3.01273000e+05  1.00000000e+00  6.59793814e-01 -5.06849315e-01]\n",
            " [ 3.01274000e+05  0.00000000e+00  5.36082474e-01 -5.06849315e-01]\n",
            " [ 3.01275000e+05  1.00000000e+00  7.42268041e-01 -4.79452055e-01]\n",
            " [ 3.01276000e+05  0.00000000e+00  1.60824742e+00 -4.79452055e-01]\n",
            " [ 3.01277000e+05  1.00000000e+00 -4.53608247e-01 -4.24657534e-01]\n",
            " [ 3.01278000e+05  0.00000000e+00  8.24742268e-01 -4.24657534e-01]\n",
            " [ 3.01279000e+05  0.00000000e+00  1.64948454e+00 -4.24657534e-01]\n",
            " [ 3.01280000e+05  0.00000000e+00 -8.65979381e-01 -4.24657534e-01]\n",
            " [ 3.01281000e+05  1.00000000e+00  1.52577320e+00 -3.97260274e-01]\n",
            " [ 3.01282000e+05  1.00000000e+00  8.65979381e-01 -3.97260274e-01]\n",
            " [ 3.01283000e+05  0.00000000e+00  1.31958763e+00 -3.69863014e-01]\n",
            " [ 3.01284000e+05  0.00000000e+00 -9.07216495e-01 -3.69863014e-01]\n",
            " [ 3.01285000e+05  1.00000000e+00  3.29896907e-01 -3.69863014e-01]\n",
            " [ 3.01286000e+05  1.00000000e+00  1.56701031e+00 -3.69863014e-01]\n",
            " [ 3.01287000e+05  0.00000000e+00 -8.65979381e-01 -3.69863014e-01]\n",
            " [ 3.01288000e+05  1.00000000e+00 -2.06185567e-01 -3.69863014e-01]\n",
            " [ 3.01289000e+05  0.00000000e+00  1.64948454e+00 -3.42465753e-01]\n",
            " [ 3.01290000e+05  1.00000000e+00  5.36082474e-01 -3.42465753e-01]\n",
            " [ 3.01291000e+05  1.00000000e+00  1.15463918e+00 -3.15068493e-01]\n",
            " [ 3.01292000e+05  1.00000000e+00  1.15463918e+00 -3.15068493e-01]\n",
            " [ 3.01293000e+05  0.00000000e+00  1.11340206e+00 -2.05479452e-01]\n",
            " [ 3.01294000e+05  0.00000000e+00 -4.94845361e-01 -2.05479452e-01]\n",
            " [ 3.01295000e+05  1.00000000e+00  4.12371134e-01 -2.05479452e-01]\n",
            " [ 3.01296000e+05  0.00000000e+00  1.64948454e-01 -2.05479452e-01]\n",
            " [ 3.01297000e+05  1.00000000e+00 -6.59793814e-01 -2.05479452e-01]\n",
            " [ 3.01298000e+05  1.00000000e+00  6.18556701e-01 -2.05479452e-01]\n",
            " [ 3.01299000e+05  0.00000000e+00  1.03092784e+00 -2.05479452e-01]\n",
            " [ 3.01300000e+05  0.00000000e+00  8.24742268e-02 -2.05479452e-01]\n",
            " [ 3.01301000e+05  0.00000000e+00  1.52577320e+00 -2.05479452e-01]\n",
            " [ 3.01302000e+05  1.00000000e+00  4.94845361e-01 -2.05479452e-01]\n",
            " [ 3.01303000e+05  1.00000000e+00 -7.42268041e-01 -2.05479452e-01]\n",
            " [ 3.01304000e+05  0.00000000e+00  5.77319588e-01 -2.05479452e-01]\n",
            " [ 3.01305000e+05  1.00000000e+00  9.07216495e-01 -1.23287671e-01]\n",
            " [ 3.01306000e+05  1.00000000e+00 -7.01030928e-01 -1.23287671e-01]\n",
            " [ 3.01307000e+05  1.00000000e+00 -1.23711340e-01 -9.58904110e-02]\n",
            " [ 3.01308000e+05  1.00000000e+00  6.59793814e-01 -9.58904110e-02]\n",
            " [ 3.01309000e+05  1.00000000e+00  1.56701031e+00 -6.84931507e-02]\n",
            " [ 3.01310000e+05  0.00000000e+00 -9.07216495e-01 -6.84931507e-02]\n",
            " [ 3.01311000e+05  0.00000000e+00  5.77319588e-01 -4.10958904e-02]\n",
            " [ 3.01312000e+05  1.00000000e+00  1.64948454e-01 -4.10958904e-02]\n",
            " [ 3.01313000e+05  1.00000000e+00 -2.06185567e-01 -4.10958904e-02]\n",
            " [ 3.01314000e+05  0.00000000e+00 -6.18556701e-01 -4.10958904e-02]\n",
            " [ 3.01315000e+05  1.00000000e+00  5.36082474e-01 -4.10958904e-02]\n",
            " [ 3.01316000e+05  1.00000000e+00 -4.53608247e-01 -4.10958904e-02]\n",
            " [ 3.01317000e+05  0.00000000e+00  5.77319588e-01 -1.36986301e-02]\n",
            " [ 3.01318000e+05  0.00000000e+00 -8.24742268e-01 -1.36986301e-02]\n",
            " [ 3.01319000e+05  1.00000000e+00 -6.59793814e-01  1.36986301e-02]\n",
            " [ 3.01320000e+05  1.00000000e+00  6.18556701e-01  1.36986301e-02]\n",
            " [ 3.01321000e+05  0.00000000e+00  1.52577320e+00  1.36986301e-02]\n",
            " [ 3.01322000e+05  0.00000000e+00 -4.94845361e-01  1.36986301e-02]\n",
            " [ 3.01323000e+05  0.00000000e+00  6.18556701e-01  1.36986301e-02]\n",
            " [ 3.01324000e+05  1.00000000e+00 -7.42268041e-01  1.36986301e-02]\n",
            " [ 3.01325000e+05  1.00000000e+00  1.48453608e+00  4.10958904e-02]\n",
            " [ 3.01326000e+05  0.00000000e+00  8.65979381e-01  4.10958904e-02]\n",
            " [ 3.01327000e+05  0.00000000e+00  1.56701031e+00  4.10958904e-02]\n",
            " [ 3.01328000e+05  0.00000000e+00  1.48453608e+00  4.10958904e-02]\n",
            " [ 3.01329000e+05  0.00000000e+00  1.40206186e+00  4.10958904e-02]\n",
            " [ 3.01330000e+05  1.00000000e+00 -8.65979381e-01  4.10958904e-02]\n",
            " [ 3.01331000e+05  1.00000000e+00  8.24742268e-02  6.84931507e-02]\n",
            " [ 3.01332000e+05  0.00000000e+00 -8.65979381e-01  6.84931507e-02]\n",
            " [ 3.01333000e+05  1.00000000e+00 -9.07216495e-01  9.58904110e-02]\n",
            " [ 3.01334000e+05  1.00000000e+00 -8.65979381e-01  9.58904110e-02]\n",
            " [ 3.01335000e+05  1.00000000e+00  1.31958763e+00  9.58904110e-02]\n",
            " [ 3.01336000e+05  1.00000000e+00  6.18556701e-01  9.58904110e-02]\n",
            " [ 3.01337000e+05  1.00000000e+00  7.42268041e-01  1.50684932e-01]\n",
            " [ 3.01338000e+05  1.00000000e+00  6.59793814e-01  1.50684932e-01]\n",
            " [ 3.01339000e+05  0.00000000e+00 -4.53608247e-01  1.50684932e-01]\n",
            " [ 3.01340000e+05  1.00000000e+00  8.24742268e-02  1.50684932e-01]\n",
            " [ 3.01341000e+05  1.00000000e+00  1.64948454e-01  2.05479452e-01]\n",
            " [ 3.01342000e+05  0.00000000e+00  1.23711340e-01  2.05479452e-01]\n",
            " [ 3.01343000e+05  1.00000000e+00 -6.59793814e-01  2.32876712e-01]\n",
            " [ 3.01344000e+05  1.00000000e+00 -2.47422680e-01  2.32876712e-01]\n",
            " [ 3.01345000e+05  0.00000000e+00  3.29896907e-01  2.60273973e-01]\n",
            " [ 3.01346000e+05  0.00000000e+00  1.64948454e-01  2.60273973e-01]\n",
            " [ 3.01347000e+05  0.00000000e+00  1.11340206e+00  2.60273973e-01]\n",
            " [ 3.01348000e+05  0.00000000e+00  8.24742268e-02  2.60273973e-01]\n",
            " [ 3.01349000e+05  0.00000000e+00  5.36082474e-01  2.60273973e-01]\n",
            " [ 3.01350000e+05  0.00000000e+00  1.23711340e-01  2.60273973e-01]\n",
            " [ 3.01351000e+05  1.00000000e+00 -5.77319588e-01  2.87671233e-01]\n",
            " [ 3.01352000e+05  1.00000000e+00 -2.47422680e-01  2.87671233e-01]\n",
            " [ 3.01353000e+05  0.00000000e+00 -8.24742268e-01  3.15068493e-01]\n",
            " [ 3.01354000e+05  1.00000000e+00 -3.71134021e-01  3.15068493e-01]\n",
            " [ 3.01355000e+05  1.00000000e+00  3.71134021e-01  3.15068493e-01]\n",
            " [ 3.01356000e+05  0.00000000e+00 -2.06185567e-01  3.15068493e-01]\n",
            " [ 3.01357000e+05  0.00000000e+00 -8.65979381e-01  3.42465753e-01]\n",
            " [ 3.01358000e+05  1.00000000e+00 -8.24742268e-02  3.42465753e-01]\n",
            " [ 3.01359000e+05  1.00000000e+00  1.03092784e+00  3.69863014e-01]\n",
            " [ 3.01360000e+05  0.00000000e+00 -2.06185567e-01  3.69863014e-01]\n",
            " [ 3.01361000e+05  1.00000000e+00 -4.12371134e-01  3.97260274e-01]\n",
            " [ 3.01362000e+05  1.00000000e+00 -2.06185567e-01  3.97260274e-01]\n",
            " [ 3.01363000e+05  0.00000000e+00 -5.77319588e-01  4.24657534e-01]\n",
            " [ 3.01364000e+05  0.00000000e+00 -4.12371134e-01  4.24657534e-01]\n",
            " [ 3.01365000e+05  0.00000000e+00  5.77319588e-01  4.24657534e-01]\n",
            " [ 3.01366000e+05  1.00000000e+00 -2.06185567e-01  4.24657534e-01]\n",
            " [ 3.01367000e+05  1.00000000e+00 -1.23711340e-01  4.52054795e-01]\n",
            " [ 3.01368000e+05  0.00000000e+00 -1.23711340e-01  4.52054795e-01]\n",
            " [ 3.01369000e+05  0.00000000e+00  3.29896907e-01  4.52054795e-01]\n",
            " [ 3.01370000e+05  0.00000000e+00  1.23711340e-01  4.52054795e-01]\n",
            " [ 3.01371000e+05  1.00000000e+00  3.71134021e-01  4.52054795e-01]\n",
            " [ 3.01372000e+05  1.00000000e+00  8.24742268e-02  4.52054795e-01]\n",
            " [ 3.01373000e+05  1.00000000e+00  5.36082474e-01  4.52054795e-01]\n",
            " [ 3.01374000e+05  1.00000000e+00 -4.53608247e-01  4.52054795e-01]\n",
            " [ 3.01375000e+05  0.00000000e+00  4.12371134e-02  4.52054795e-01]\n",
            " [ 3.01376000e+05  1.00000000e+00 -3.29896907e-01  4.52054795e-01]\n",
            " [ 3.01377000e+05  0.00000000e+00 -1.23711340e-01  4.52054795e-01]\n",
            " [ 3.01378000e+05  1.00000000e+00 -3.29896907e-01  4.52054795e-01]\n",
            " [ 3.01379000e+05  1.00000000e+00  9.89690722e-01  4.79452055e-01]\n",
            " [ 3.01380000e+05  1.00000000e+00 -3.71134021e-01  4.79452055e-01]\n",
            " [ 3.01381000e+05  0.00000000e+00 -8.65979381e-01  5.34246575e-01]\n",
            " [ 3.01382000e+05  1.00000000e+00 -2.47422680e-01  5.34246575e-01]\n",
            " [ 3.01383000e+05  0.00000000e+00  6.59793814e-01  6.43835616e-01]\n",
            " [ 3.01384000e+05  1.00000000e+00  0.00000000e+00  6.43835616e-01]\n",
            " [ 3.01385000e+05  0.00000000e+00  2.88659794e-01  6.71232877e-01]\n",
            " [ 3.01386000e+05  1.00000000e+00 -1.64948454e-01  6.71232877e-01]\n",
            " [ 3.01387000e+05  1.00000000e+00  0.00000000e+00  6.98630137e-01]\n",
            " [ 3.01388000e+05  0.00000000e+00 -2.06185567e-01  6.98630137e-01]\n",
            " [ 3.01389000e+05  0.00000000e+00  1.64948454e-01  6.98630137e-01]\n",
            " [ 3.01390000e+05  0.00000000e+00 -4.12371134e-01  6.98630137e-01]\n",
            " [ 3.01391000e+05  0.00000000e+00  0.00000000e+00  6.98630137e-01]\n",
            " [ 3.01392000e+05  0.00000000e+00  0.00000000e+00  6.98630137e-01]\n",
            " [ 3.01393000e+05  1.00000000e+00  7.83505155e-01  7.26027397e-01]\n",
            " [ 3.01394000e+05  1.00000000e+00 -3.29896907e-01  7.26027397e-01]\n",
            " [ 3.01395000e+05  0.00000000e+00  1.07216495e+00  7.26027397e-01]\n",
            " [ 3.01396000e+05  0.00000000e+00 -4.53608247e-01  7.26027397e-01]\n",
            " [ 3.01397000e+05  0.00000000e+00  1.11340206e+00  8.63013699e-01]\n",
            " [ 3.01398000e+05  0.00000000e+00 -8.24742268e-02  8.63013699e-01]\n",
            " [ 3.01399000e+05  1.00000000e+00  4.12371134e-02  9.72602740e-01]\n",
            " [ 3.01400000e+05  1.00000000e+00 -2.06185567e-01  9.72602740e-01]\n",
            " [ 3.01401000e+05  1.00000000e+00  4.94845361e-01  1.00000000e+00]\n",
            " [ 3.01402000e+05  1.00000000e+00 -3.71134021e-01  1.00000000e+00]\n",
            " [ 3.01403000e+05  1.00000000e+00  2.47422680e-01  1.02739726e+00]\n",
            " [ 3.01404000e+05  0.00000000e+00 -3.29896907e-01  1.02739726e+00]\n",
            " [ 3.01405000e+05  0.00000000e+00  8.65979381e-01  1.08219178e+00]\n",
            " [ 3.01406000e+05  0.00000000e+00 -4.12371134e-01  1.08219178e+00]\n",
            " [ 3.01407000e+05  1.00000000e+00  2.47422680e-01  1.13698630e+00]\n",
            " [ 3.01408000e+05  1.00000000e+00  0.00000000e+00  1.13698630e+00]\n",
            " [ 3.01409000e+05  1.00000000e+00 -1.23711340e-01  1.13698630e+00]\n",
            " [ 3.01410000e+05  0.00000000e+00 -2.06185567e-01  1.13698630e+00]\n",
            " [ 3.01411000e+05  0.00000000e+00 -1.64948454e-01  1.41095890e+00]\n",
            " [ 3.01412000e+05  1.00000000e+00  8.24742268e-02  1.41095890e+00]\n",
            " [ 3.01413000e+05  1.00000000e+00  5.36082474e-01  1.60273973e+00]\n",
            " [ 3.01414000e+05  1.00000000e+00 -8.24742268e-02  1.60273973e+00]\n",
            " [ 3.01415000e+05  1.00000000e+00  4.12371134e-01  1.76712329e+00]\n",
            " [ 3.01416000e+05  0.00000000e+00 -2.06185567e-01  1.76712329e+00]\n",
            " [ 3.01417000e+05  0.00000000e+00 -2.06185567e-01  2.06849315e+00]\n",
            " [ 3.01418000e+05  0.00000000e+00 -3.29896907e-01  2.06849315e+00]]\n"
          ]
        }
      ],
      "source": [
        "print(X)"
      ]
    },
    {
      "cell_type": "code",
      "execution_count": 1104,
      "metadata": {
        "colab": {
          "base_uri": "https://localhost:8080/",
          "height": 206
        },
        "id": "yXLl9hPh12M2",
        "outputId": "ef0c7a8b-3e87-4909-fdae-d939bb317959"
      },
      "outputs": [
        {
          "output_type": "execute_result",
          "data": {
            "text/plain": [
              "   Cus_ID  Sex       Age    Income  Rating\n",
              "0  301219    0 -0.865979 -1.273973       0\n",
              "1  301220    1 -0.742268 -1.273973       1\n",
              "2  301221    1 -0.824742 -1.246575       0\n",
              "3  301222    0 -0.659794 -1.246575       1\n",
              "4  301223    1 -0.247423 -1.219178       0"
            ],
            "text/html": [
              "\n",
              "  <div id=\"df-65f149b5-4ca9-470b-856f-8f9568e3ae32\">\n",
              "    <div class=\"colab-df-container\">\n",
              "      <div>\n",
              "<style scoped>\n",
              "    .dataframe tbody tr th:only-of-type {\n",
              "        vertical-align: middle;\n",
              "    }\n",
              "\n",
              "    .dataframe tbody tr th {\n",
              "        vertical-align: top;\n",
              "    }\n",
              "\n",
              "    .dataframe thead th {\n",
              "        text-align: right;\n",
              "    }\n",
              "</style>\n",
              "<table border=\"1\" class=\"dataframe\">\n",
              "  <thead>\n",
              "    <tr style=\"text-align: right;\">\n",
              "      <th></th>\n",
              "      <th>Cus_ID</th>\n",
              "      <th>Sex</th>\n",
              "      <th>Age</th>\n",
              "      <th>Income</th>\n",
              "      <th>Rating</th>\n",
              "    </tr>\n",
              "  </thead>\n",
              "  <tbody>\n",
              "    <tr>\n",
              "      <th>0</th>\n",
              "      <td>301219</td>\n",
              "      <td>0</td>\n",
              "      <td>-0.865979</td>\n",
              "      <td>-1.273973</td>\n",
              "      <td>0</td>\n",
              "    </tr>\n",
              "    <tr>\n",
              "      <th>1</th>\n",
              "      <td>301220</td>\n",
              "      <td>1</td>\n",
              "      <td>-0.742268</td>\n",
              "      <td>-1.273973</td>\n",
              "      <td>1</td>\n",
              "    </tr>\n",
              "    <tr>\n",
              "      <th>2</th>\n",
              "      <td>301221</td>\n",
              "      <td>1</td>\n",
              "      <td>-0.824742</td>\n",
              "      <td>-1.246575</td>\n",
              "      <td>0</td>\n",
              "    </tr>\n",
              "    <tr>\n",
              "      <th>3</th>\n",
              "      <td>301222</td>\n",
              "      <td>0</td>\n",
              "      <td>-0.659794</td>\n",
              "      <td>-1.246575</td>\n",
              "      <td>1</td>\n",
              "    </tr>\n",
              "    <tr>\n",
              "      <th>4</th>\n",
              "      <td>301223</td>\n",
              "      <td>1</td>\n",
              "      <td>-0.247423</td>\n",
              "      <td>-1.219178</td>\n",
              "      <td>0</td>\n",
              "    </tr>\n",
              "  </tbody>\n",
              "</table>\n",
              "</div>\n",
              "      <button class=\"colab-df-convert\" onclick=\"convertToInteractive('df-65f149b5-4ca9-470b-856f-8f9568e3ae32')\"\n",
              "              title=\"Convert this dataframe to an interactive table.\"\n",
              "              style=\"display:none;\">\n",
              "        \n",
              "  <svg xmlns=\"http://www.w3.org/2000/svg\" height=\"24px\"viewBox=\"0 0 24 24\"\n",
              "       width=\"24px\">\n",
              "    <path d=\"M0 0h24v24H0V0z\" fill=\"none\"/>\n",
              "    <path d=\"M18.56 5.44l.94 2.06.94-2.06 2.06-.94-2.06-.94-.94-2.06-.94 2.06-2.06.94zm-11 1L8.5 8.5l.94-2.06 2.06-.94-2.06-.94L8.5 2.5l-.94 2.06-2.06.94zm10 10l.94 2.06.94-2.06 2.06-.94-2.06-.94-.94-2.06-.94 2.06-2.06.94z\"/><path d=\"M17.41 7.96l-1.37-1.37c-.4-.4-.92-.59-1.43-.59-.52 0-1.04.2-1.43.59L10.3 9.45l-7.72 7.72c-.78.78-.78 2.05 0 2.83L4 21.41c.39.39.9.59 1.41.59.51 0 1.02-.2 1.41-.59l7.78-7.78 2.81-2.81c.8-.78.8-2.07 0-2.86zM5.41 20L4 18.59l7.72-7.72 1.47 1.35L5.41 20z\"/>\n",
              "  </svg>\n",
              "      </button>\n",
              "      \n",
              "  <style>\n",
              "    .colab-df-container {\n",
              "      display:flex;\n",
              "      flex-wrap:wrap;\n",
              "      gap: 12px;\n",
              "    }\n",
              "\n",
              "    .colab-df-convert {\n",
              "      background-color: #E8F0FE;\n",
              "      border: none;\n",
              "      border-radius: 50%;\n",
              "      cursor: pointer;\n",
              "      display: none;\n",
              "      fill: #1967D2;\n",
              "      height: 32px;\n",
              "      padding: 0 0 0 0;\n",
              "      width: 32px;\n",
              "    }\n",
              "\n",
              "    .colab-df-convert:hover {\n",
              "      background-color: #E2EBFA;\n",
              "      box-shadow: 0px 1px 2px rgba(60, 64, 67, 0.3), 0px 1px 3px 1px rgba(60, 64, 67, 0.15);\n",
              "      fill: #174EA6;\n",
              "    }\n",
              "\n",
              "    [theme=dark] .colab-df-convert {\n",
              "      background-color: #3B4455;\n",
              "      fill: #D2E3FC;\n",
              "    }\n",
              "\n",
              "    [theme=dark] .colab-df-convert:hover {\n",
              "      background-color: #434B5C;\n",
              "      box-shadow: 0px 1px 3px 1px rgba(0, 0, 0, 0.15);\n",
              "      filter: drop-shadow(0px 1px 2px rgba(0, 0, 0, 0.3));\n",
              "      fill: #FFFFFF;\n",
              "    }\n",
              "  </style>\n",
              "\n",
              "      <script>\n",
              "        const buttonEl =\n",
              "          document.querySelector('#df-65f149b5-4ca9-470b-856f-8f9568e3ae32 button.colab-df-convert');\n",
              "        buttonEl.style.display =\n",
              "          google.colab.kernel.accessAllowed ? 'block' : 'none';\n",
              "\n",
              "        async function convertToInteractive(key) {\n",
              "          const element = document.querySelector('#df-65f149b5-4ca9-470b-856f-8f9568e3ae32');\n",
              "          const dataTable =\n",
              "            await google.colab.kernel.invokeFunction('convertToInteractive',\n",
              "                                                     [key], {});\n",
              "          if (!dataTable) return;\n",
              "\n",
              "          const docLinkHtml = 'Like what you see? Visit the ' +\n",
              "            '<a target=\"_blank\" href=https://colab.research.google.com/notebooks/data_table.ipynb>data table notebook</a>'\n",
              "            + ' to learn more about interactive tables.';\n",
              "          element.innerHTML = '';\n",
              "          dataTable['output_type'] = 'display_data';\n",
              "          await google.colab.output.renderOutput(dataTable, element);\n",
              "          const docLink = document.createElement('div');\n",
              "          docLink.innerHTML = docLinkHtml;\n",
              "          element.appendChild(docLink);\n",
              "        }\n",
              "      </script>\n",
              "    </div>\n",
              "  </div>\n",
              "  "
            ]
          },
          "metadata": {},
          "execution_count": 1104
        }
      ],
      "source": [
        "data.head()"
      ]
    },
    {
      "cell_type": "code",
      "source": [],
      "metadata": {
        "id": "Nsg0ot_muZMm"
      },
      "execution_count": 1104,
      "outputs": []
    },
    {
      "cell_type": "code",
      "execution_count": 1105,
      "metadata": {
        "id": "on3Q8xMV0AQd"
      },
      "outputs": [],
      "source": [
        "X_train, X_test, y_train, y_test = train_test_split(X, y, test_size=0.20, random_state=44)"
      ]
    },
    {
      "cell_type": "code",
      "execution_count": 1106,
      "metadata": {
        "colab": {
          "base_uri": "https://localhost:8080/"
        },
        "id": "nVn8ny4Q0FzZ",
        "outputId": "1caea86c-74b7-4d5c-b638-8d383d8c9bd2"
      },
      "outputs": [
        {
          "output_type": "execute_result",
          "data": {
            "text/plain": [
              "((160, 4), (40, 4))"
            ]
          },
          "metadata": {},
          "execution_count": 1106
        }
      ],
      "source": [
        "X_train.shape, X_test.shape\n"
      ]
    },
    {
      "cell_type": "code",
      "execution_count": 1107,
      "metadata": {
        "colab": {
          "base_uri": "https://localhost:8080/"
        },
        "id": "C56jSIfF0WR0",
        "outputId": "840668fb-8b7c-46fd-dc7e-27b10a56c888"
      },
      "outputs": [
        {
          "output_type": "execute_result",
          "data": {
            "text/plain": [
              "((160,), (160,))"
            ]
          },
          "metadata": {},
          "execution_count": 1107
        }
      ],
      "source": [
        "y_train.shape, y_train.shape"
      ]
    },
    {
      "cell_type": "code",
      "source": [
        "neighbors = np.arange(1, 20)\n",
        "train_accuracy = np.empty(len(neighbors))\n",
        "test_accuracy = np.empty(len(neighbors))\n",
        "  \n",
        "# Loop over K values\n",
        "for i, k in enumerate(neighbors):\n",
        "    knn = KNeighborsClassifier(n_neighbors=k)\n",
        "    knn.fit(X_train, y_train)\n",
        "      \n",
        "    # Compute training and test data accuracy\n",
        "    train_accuracy[i] = knn.score(X_train, y_train)\n",
        "    test_accuracy[i] = knn.score(X_test, y_test)\n",
        "  \n",
        "# Generate plot\n",
        "plt.plot(neighbors, test_accuracy, label = 'Testing dataset Accuracy')\n",
        "plt.plot(neighbors, train_accuracy, label = 'Training dataset Accuracy')\n",
        "  \n",
        "plt.legend()\n",
        "plt.xlabel('n_neighbors')\n",
        "plt.ylabel('Accuracy')\n",
        "plt.show()"
      ],
      "metadata": {
        "colab": {
          "base_uri": "https://localhost:8080/",
          "height": 450
        },
        "id": "SDg2mLoielXM",
        "outputId": "d1f9f843-431c-4096-ed20-c6cc5a566e3d"
      },
      "execution_count": 1108,
      "outputs": [
        {
          "output_type": "display_data",
          "data": {
            "text/plain": [
              "<Figure size 640x480 with 1 Axes>"
            ],
            "image/png": "[encoded data removed]"
          },
          "metadata": {}
        }
      ]
    },
    {
      "cell_type": "code",
      "execution_count": 1109,
      "metadata": {
        "colab": {
          "base_uri": "https://localhost:8080/",
          "height": 74
        },
        "id": "dNKlHV6G09X8",
        "outputId": "758c0596-c196-40e7-e46a-b7653d7cd036"
      },
      "outputs": [
        {
          "output_type": "execute_result",
          "data": {
            "text/plain": [
              "KNeighborsClassifier(n_neighbors=15)"
            ],
            "text/html": [
              "<style>#sk-container-id-48 {color: black;background-color: white;}#sk-container-id-48 pre{padding: 0;}#sk-container-id-48 div.sk-toggleable {background-color: white;}#sk-container-id-48 label.sk-toggleable__label {cursor: pointer;display: block;width: 100%;margin-bottom: 0;padding: 0.3em;box-sizing: border-box;text-align: center;}#sk-container-id-48 label.sk-toggleable__label-arrow:before {content: \"▸\";float: left;margin-right: 0.25em;color: #696969;}#sk-container-id-48 label.sk-toggleable__label-arrow:hover:before {color: black;}#sk-container-id-48 div.sk-estimator:hover label.sk-toggleable__label-arrow:before {color: black;}#sk-container-id-48 div.sk-toggleable__content {max-height: 0;max-width: 0;overflow: hidden;text-align: left;background-color: #f0f8ff;}#sk-container-id-48 div.sk-toggleable__content pre {margin: 0.2em;color: black;border-radius: 0.25em;background-color: #f0f8ff;}#sk-container-id-48 input.sk-toggleable__control:checked~div.sk-toggleable__content {max-height: 200px;max-width: 100%;overflow: auto;}#sk-container-id-48 input.sk-toggleable__control:checked~label.sk-toggleable__label-arrow:before {content: \"▾\";}#sk-container-id-48 div.sk-estimator input.sk-toggleable__control:checked~label.sk-toggleable__label {background-color: #d4ebff;}#sk-container-id-48 div.sk-label input.sk-toggleable__control:checked~label.sk-toggleable__label {background-color: #d4ebff;}#sk-container-id-48 input.sk-hidden--visually {border: 0;clip: rect(1px 1px 1px 1px);clip: rect(1px, 1px, 1px, 1px);height: 1px;margin: -1px;overflow: hidden;padding: 0;position: absolute;width: 1px;}#sk-container-id-48 div.sk-estimator {font-family: monospace;background-color: #f0f8ff;border: 1px dotted black;border-radius: 0.25em;box-sizing: border-box;margin-bottom: 0.5em;}#sk-container-id-48 div.sk-estimator:hover {background-color: #d4ebff;}#sk-container-id-48 div.sk-parallel-item::after {content: \"\";width: 100%;border-bottom: 1px solid gray;flex-grow: 1;}#sk-container-id-48 div.sk-label:hover label.sk-toggleable__label {background-color: #d4ebff;}#sk-container-id-48 div.sk-serial::before {content: \"\";position: absolute;border-left: 1px solid gray;box-sizing: border-box;top: 0;bottom: 0;left: 50%;z-index: 0;}#sk-container-id-48 div.sk-serial {display: flex;flex-direction: column;align-items: center;background-color: white;padding-right: 0.2em;padding-left: 0.2em;position: relative;}#sk-container-id-48 div.sk-item {position: relative;z-index: 1;}#sk-container-id-48 div.sk-parallel {display: flex;align-items: stretch;justify-content: center;background-color: white;position: relative;}#sk-container-id-48 div.sk-item::before, #sk-container-id-48 div.sk-parallel-item::before {content: \"\";position: absolute;border-left: 1px solid gray;box-sizing: border-box;top: 0;bottom: 0;left: 50%;z-index: -1;}#sk-container-id-48 div.sk-parallel-item {display: flex;flex-direction: column;z-index: 1;position: relative;background-color: white;}#sk-container-id-48 div.sk-parallel-item:first-child::after {align-self: flex-end;width: 50%;}#sk-container-id-48 div.sk-parallel-item:last-child::after {align-self: flex-start;width: 50%;}#sk-container-id-48 div.sk-parallel-item:only-child::after {width: 0;}#sk-container-id-48 div.sk-dashed-wrapped {border: 1px dashed gray;margin: 0 0.4em 0.5em 0.4em;box-sizing: border-box;padding-bottom: 0.4em;background-color: white;}#sk-container-id-48 div.sk-label label {font-family: monospace;font-weight: bold;display: inline-block;line-height: 1.2em;}#sk-container-id-48 div.sk-label-container {text-align: center;}#sk-container-id-48 div.sk-container {/* jupyter's `normalize.less` sets `[hidden] { display: none; }` but bootstrap.min.css set `[hidden] { display: none !important; }` so we also need the `!important` here to be able to override the default hidden behavior on the sphinx rendered scikit-learn.org. See: https://github.com/scikit-learn/scikit-learn/issues/21755 */display: inline-block !important;position: relative;}#sk-container-id-48 div.sk-text-repr-fallback {display: none;}</style><div id=\"sk-container-id-48\" class=\"sk-top-container\"><div class=\"sk-text-repr-fallback\"><pre>KNeighborsClassifier(n_neighbors=15)</pre><b>In a Jupyter environment, please rerun this cell to show the HTML representation or trust the notebook. <br />On GitHub, the HTML representation is unable to render, please try loading this page with nbviewer.org.</b></div><div class=\"sk-container\" hidden><div class=\"sk-item\"><div class=\"sk-estimator sk-toggleable\"><input class=\"sk-toggleable__control sk-hidden--visually\" id=\"sk-estimator-id-48\" type=\"checkbox\" checked><label for=\"sk-estimator-id-48\" class=\"sk-toggleable__label sk-toggleable__label-arrow\">KNeighborsClassifier</label><div class=\"sk-toggleable__content\"><pre>KNeighborsClassifier(n_neighbors=15)</pre></div></div></div></div></div>"
            ]
          },
          "metadata": {},
          "execution_count": 1109
        }
      ],
      "source": [
        "knn = KNeighborsClassifier(n_neighbors=15)\n",
        "knn.fit(X_train, y_train)"
      ]
    },
    {
      "cell_type": "code",
      "execution_count": 1110,
      "metadata": {
        "id": "UZXbKP3I3yKH"
      },
      "outputs": [],
      "source": [
        "y_pred = knn.predict(X_test)\n"
      ]
    },
    {
      "cell_type": "code",
      "source": [],
      "metadata": {
        "id": "U_zlnOkEwnX8"
      },
      "execution_count": 1110,
      "outputs": []
    },
    {
      "cell_type": "code",
      "execution_count": 1111,
      "metadata": {
        "colab": {
          "base_uri": "https://localhost:8080/"
        },
        "id": "RU4a1pFB37Ur",
        "outputId": "d6a1d454-d4b6-4e5d-96db-24aeee050b73"
      },
      "outputs": [
        {
          "output_type": "execute_result",
          "data": {
            "text/plain": [
              "(0.725, 0.825)"
            ]
          },
          "metadata": {},
          "execution_count": 1111
        }
      ],
      "source": [
        "knn.score(X_train, y_train), knn.score(X_test, y_test)\n",
        "     "
      ]
    },
    {
      "cell_type": "code",
      "execution_count": 1112,
      "metadata": {
        "colab": {
          "base_uri": "https://localhost:8080/"
        },
        "id": "94Hb7FKr4ksk",
        "outputId": "57f8bc2c-489a-43a1-d63e-27cf387cb5e8"
      },
      "outputs": [
        {
          "output_type": "stream",
          "name": "stdout",
          "text": [
            "Accuracy: 0.825\n"
          ]
        }
      ],
      "source": [
        "print(\"Accuracy:\", accuracy_score(y_test, y_pred))"
      ]
    },
    {
      "cell_type": "code",
      "execution_count": 1113,
      "metadata": {
        "colab": {
          "base_uri": "https://localhost:8080/"
        },
        "id": "q6hekpl04Cdp",
        "outputId": "0aa73abe-549b-42f2-9302-145b1031987b"
      },
      "outputs": [
        {
          "output_type": "execute_result",
          "data": {
            "text/plain": [
              "array([[32,  0],\n",
              "       [ 7,  1]])"
            ]
          },
          "metadata": {},
          "execution_count": 1113
        }
      ],
      "source": [
        "confusion_matrix(y_test, y_pred)"
      ]
    },
    {
      "cell_type": "code",
      "execution_count": 1114,
      "metadata": {
        "colab": {
          "base_uri": "https://localhost:8080/"
        },
        "id": "2kWMyRAO5ZOI",
        "outputId": "c865c532-1cef-459e-8835-c97098f3868c"
      },
      "outputs": [
        {
          "output_type": "stream",
          "name": "stdout",
          "text": [
            "              precision    recall  f1-score   support\n",
            "\n",
            "           0       0.82      1.00      0.90        32\n",
            "           1       1.00      0.12      0.22         8\n",
            "\n",
            "    accuracy                           0.82        40\n",
            "   macro avg       0.91      0.56      0.56        40\n",
            "weighted avg       0.86      0.82      0.77        40\n",
            "\n"
          ]
        }
      ],
      "source": [
        "print(classification_report(y_test, y_pred))\n",
        "     "
      ]
    },
    {
      "cell_type": "code",
      "execution_count": 1114,
      "metadata": {
        "id": "yj4TQ94O5p5g"
      },
      "outputs": [],
      "source": []
    }
  ],
  "metadata": {
    "colab": {
      "provenance": [],
      "mount_file_id": "1WS_TYkMgINc6s4ZeltPl64MqhMRj1rbH",
      "authorship_tag": "ABX9TyNREs9yaiBXNAoQmxrDYYL6",
      "include_colab_link": true
    },
    "kernelspec": {
      "display_name": "Python 3",
      "name": "python3"
    },
    "language_info": {
      "name": "python"
    }
  },
  "nbformat": 4,
  "nbformat_minor": 0
}