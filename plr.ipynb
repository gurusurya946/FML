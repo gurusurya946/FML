{
  "nbformat": 4,
  "nbformat_minor": 0,
  "metadata": {
    "colab": {
      "provenance": [],
      "mount_file_id": "1obfk77DQVK9ci7Ia_gXSek32xBXI4y65",
      "authorship_tag": "ABX9TyP8Fsfd5LE7Hb3RJYX32CjN",
      "include_colab_link": true
    },
    "kernelspec": {
      "name": "python3",
      "display_name": "Python 3"
    },
    "language_info": {
      "name": "python"
    }
  },
  "cells": [
    {
      "cell_type": "markdown",
      "metadata": {
        "id": "view-in-github",
        "colab_type": "text"
      },
      "source": [
        "<a href=\"https://colab.research.google.com/github/gurusurya946/FML/blob/main/plr.ipynb\" target=\"_parent\"><img src=\"https://colab.research.google.com/assets/colab-badge.svg\" alt=\"Open In Colab\"/></a>"
      ]
    },
    {
      "cell_type": "code",
      "execution_count": 38,
      "metadata": {
        "id": "hdO0b_37I5oI"
      },
      "outputs": [],
      "source": [
        "import numpy as np\n",
        "import pandas as pd\n",
        "import matplotlib.pyplot as plt\n",
        "from sklearn.linear_model import LogisticRegression\n",
        "from sklearn.metrics import classification_report,confusion_matrix\n",
        "from sklearn.model_selection import train_test_split"
      ]
    },
    {
      "cell_type": "code",
      "source": [
        "data=pd.read_csv('penguins.csv')"
      ],
      "metadata": {
        "id": "mVAkE94xJto9"
      },
      "execution_count": 2,
      "outputs": []
    },
    {
      "cell_type": "code",
      "source": [
        "data.head()"
      ],
      "metadata": {
        "colab": {
          "base_uri": "https://localhost:8080/",
          "height": 204
        },
        "id": "SEnrJLa6K936",
        "outputId": "833c30fd-edde-45d8-ce21-a3b9746b7545"
      },
      "execution_count": 3,
      "outputs": [
        {
          "output_type": "execute_result",
          "data": {
            "text/plain": [
              "   rowid species     island  bill_length_mm  bill_depth_mm  flipper_length_mm  \\\n",
              "0      1  Adelie  Torgersen            39.1           18.7              181.0   \n",
              "1      2  Adelie  Torgersen            39.5           17.4              186.0   \n",
              "2      3  Adelie  Torgersen            40.3           18.0              195.0   \n",
              "3      4  Adelie  Torgersen             NaN            NaN                NaN   \n",
              "4      5  Adelie  Torgersen            36.7           19.3              193.0   \n",
              "\n",
              "   body_mass_g     sex  year  \n",
              "0       3750.0    male  2007  \n",
              "1       3800.0  female  2007  \n",
              "2       3250.0  female  2007  \n",
              "3          NaN     NaN  2007  \n",
              "4       3450.0  female  2007  "
            ],
            "text/html": [
              "\n",
              "  <div id=\"df-5d33b590-6b80-4ea2-9404-1b16c7635fbd\">\n",
              "    <div class=\"colab-df-container\">\n",
              "      <div>\n",
              "<style scoped>\n",
              "    .dataframe tbody tr th:only-of-type {\n",
              "        vertical-align: middle;\n",
              "    }\n",
              "\n",
              "    .dataframe tbody tr th {\n",
              "        vertical-align: top;\n",
              "    }\n",
              "\n",
              "    .dataframe thead th {\n",
              "        text-align: right;\n",
              "    }\n",
              "</style>\n",
              "<table border=\"1\" class=\"dataframe\">\n",
              "  <thead>\n",
              "    <tr style=\"text-align: right;\">\n",
              "      <th></th>\n",
              "      <th>rowid</th>\n",
              "      <th>species</th>\n",
              "      <th>island</th>\n",
              "      <th>bill_length_mm</th>\n",
              "      <th>bill_depth_mm</th>\n",
              "      <th>flipper_length_mm</th>\n",
              "      <th>body_mass_g</th>\n",
              "      <th>sex</th>\n",
              "      <th>year</th>\n",
              "    </tr>\n",
              "  </thead>\n",
              "  <tbody>\n",
              "    <tr>\n",
              "      <th>0</th>\n",
              "      <td>1</td>\n",
              "      <td>Adelie</td>\n",
              "      <td>Torgersen</td>\n",
              "      <td>39.1</td>\n",
              "      <td>18.7</td>\n",
              "      <td>181.0</td>\n",
              "      <td>3750.0</td>\n",
              "      <td>male</td>\n",
              "      <td>2007</td>\n",
              "    </tr>\n",
              "    <tr>\n",
              "      <th>1</th>\n",
              "      <td>2</td>\n",
              "      <td>Adelie</td>\n",
              "      <td>Torgersen</td>\n",
              "      <td>39.5</td>\n",
              "      <td>17.4</td>\n",
              "      <td>186.0</td>\n",
              "      <td>3800.0</td>\n",
              "      <td>female</td>\n",
              "      <td>2007</td>\n",
              "    </tr>\n",
              "    <tr>\n",
              "      <th>2</th>\n",
              "      <td>3</td>\n",
              "      <td>Adelie</td>\n",
              "      <td>Torgersen</td>\n",
              "      <td>40.3</td>\n",
              "      <td>18.0</td>\n",
              "      <td>195.0</td>\n",
              "      <td>3250.0</td>\n",
              "      <td>female</td>\n",
              "      <td>2007</td>\n",
              "    </tr>\n",
              "    <tr>\n",
              "      <th>3</th>\n",
              "      <td>4</td>\n",
              "      <td>Adelie</td>\n",
              "      <td>Torgersen</td>\n",
              "      <td>NaN</td>\n",
              "      <td>NaN</td>\n",
              "      <td>NaN</td>\n",
              "      <td>NaN</td>\n",
              "      <td>NaN</td>\n",
              "      <td>2007</td>\n",
              "    </tr>\n",
              "    <tr>\n",
              "      <th>4</th>\n",
              "      <td>5</td>\n",
              "      <td>Adelie</td>\n",
              "      <td>Torgersen</td>\n",
              "      <td>36.7</td>\n",
              "      <td>19.3</td>\n",
              "      <td>193.0</td>\n",
              "      <td>3450.0</td>\n",
              "      <td>female</td>\n",
              "      <td>2007</td>\n",
              "    </tr>\n",
              "  </tbody>\n",
              "</table>\n",
              "</div>\n",
              "      <button class=\"colab-df-convert\" onclick=\"convertToInteractive('df-5d33b590-6b80-4ea2-9404-1b16c7635fbd')\"\n",
              "              title=\"Convert this dataframe to an interactive table.\"\n",
              "              style=\"display:none;\">\n",
              "        \n",
              "  <svg xmlns=\"http://www.w3.org/2000/svg\" height=\"24px\"viewBox=\"0 0 24 24\"\n",
              "       width=\"24px\">\n",
              "    <path d=\"M0 0h24v24H0V0z\" fill=\"none\"/>\n",
              "    <path d=\"M18.56 5.44l.94 2.06.94-2.06 2.06-.94-2.06-.94-.94-2.06-.94 2.06-2.06.94zm-11 1L8.5 8.5l.94-2.06 2.06-.94-2.06-.94L8.5 2.5l-.94 2.06-2.06.94zm10 10l.94 2.06.94-2.06 2.06-.94-2.06-.94-.94-2.06-.94 2.06-2.06.94z\"/><path d=\"M17.41 7.96l-1.37-1.37c-.4-.4-.92-.59-1.43-.59-.52 0-1.04.2-1.43.59L10.3 9.45l-7.72 7.72c-.78.78-.78 2.05 0 2.83L4 21.41c.39.39.9.59 1.41.59.51 0 1.02-.2 1.41-.59l7.78-7.78 2.81-2.81c.8-.78.8-2.07 0-2.86zM5.41 20L4 18.59l7.72-7.72 1.47 1.35L5.41 20z\"/>\n",
              "  </svg>\n",
              "      </button>\n",
              "      \n",
              "  <style>\n",
              "    .colab-df-container {\n",
              "      display:flex;\n",
              "      flex-wrap:wrap;\n",
              "      gap: 12px;\n",
              "    }\n",
              "\n",
              "    .colab-df-convert {\n",
              "      background-color: #E8F0FE;\n",
              "      border: none;\n",
              "      border-radius: 50%;\n",
              "      cursor: pointer;\n",
              "      display: none;\n",
              "      fill: #1967D2;\n",
              "      height: 32px;\n",
              "      padding: 0 0 0 0;\n",
              "      width: 32px;\n",
              "    }\n",
              "\n",
              "    .colab-df-convert:hover {\n",
              "      background-color: #E2EBFA;\n",
              "      box-shadow: 0px 1px 2px rgba(60, 64, 67, 0.3), 0px 1px 3px 1px rgba(60, 64, 67, 0.15);\n",
              "      fill: #174EA6;\n",
              "    }\n",
              "\n",
              "    [theme=dark] .colab-df-convert {\n",
              "      background-color: #3B4455;\n",
              "      fill: #D2E3FC;\n",
              "    }\n",
              "\n",
              "    [theme=dark] .colab-df-convert:hover {\n",
              "      background-color: #434B5C;\n",
              "      box-shadow: 0px 1px 3px 1px rgba(0, 0, 0, 0.15);\n",
              "      filter: drop-shadow(0px 1px 2px rgba(0, 0, 0, 0.3));\n",
              "      fill: #FFFFFF;\n",
              "    }\n",
              "  </style>\n",
              "\n",
              "      <script>\n",
              "        const buttonEl =\n",
              "          document.querySelector('#df-5d33b590-6b80-4ea2-9404-1b16c7635fbd button.colab-df-convert');\n",
              "        buttonEl.style.display =\n",
              "          google.colab.kernel.accessAllowed ? 'block' : 'none';\n",
              "\n",
              "        async function convertToInteractive(key) {\n",
              "          const element = document.querySelector('#df-5d33b590-6b80-4ea2-9404-1b16c7635fbd');\n",
              "          const dataTable =\n",
              "            await google.colab.kernel.invokeFunction('convertToInteractive',\n",
              "                                                     [key], {});\n",
              "          if (!dataTable) return;\n",
              "\n",
              "          const docLinkHtml = 'Like what you see? Visit the ' +\n",
              "            '<a target=\"_blank\" href=https://colab.research.google.com/notebooks/data_table.ipynb>data table notebook</a>'\n",
              "            + ' to learn more about interactive tables.';\n",
              "          element.innerHTML = '';\n",
              "          dataTable['output_type'] = 'display_data';\n",
              "          await google.colab.output.renderOutput(dataTable, element);\n",
              "          const docLink = document.createElement('div');\n",
              "          docLink.innerHTML = docLinkHtml;\n",
              "          element.appendChild(docLink);\n",
              "        }\n",
              "      </script>\n",
              "    </div>\n",
              "  </div>\n",
              "  "
            ]
          },
          "metadata": {},
          "execution_count": 3
        }
      ]
    },
    {
      "cell_type": "code",
      "source": [
        "data.tail()"
      ],
      "metadata": {
        "colab": {
          "base_uri": "https://localhost:8080/",
          "height": 204
        },
        "id": "NgDrhls0LpLI",
        "outputId": "ce0d6723-5454-495c-af87-d5f187511c3d"
      },
      "execution_count": 4,
      "outputs": [
        {
          "output_type": "execute_result",
          "data": {
            "text/plain": [
              "     rowid    species island  bill_length_mm  bill_depth_mm  \\\n",
              "339    340  Chinstrap  Dream            55.8           19.8   \n",
              "340    341  Chinstrap  Dream            43.5           18.1   \n",
              "341    342  Chinstrap  Dream            49.6           18.2   \n",
              "342    343  Chinstrap  Dream            50.8           19.0   \n",
              "343    344  Chinstrap  Dream            50.2           18.7   \n",
              "\n",
              "     flipper_length_mm  body_mass_g     sex  year  \n",
              "339              207.0       4000.0    male  2009  \n",
              "340              202.0       3400.0  female  2009  \n",
              "341              193.0       3775.0    male  2009  \n",
              "342              210.0       4100.0    male  2009  \n",
              "343              198.0       3775.0  female  2009  "
            ],
            "text/html": [
              "\n",
              "  <div id=\"df-94be3f8d-e11e-4fe8-9ddd-8045adbd4f11\">\n",
              "    <div class=\"colab-df-container\">\n",
              "      <div>\n",
              "<style scoped>\n",
              "    .dataframe tbody tr th:only-of-type {\n",
              "        vertical-align: middle;\n",
              "    }\n",
              "\n",
              "    .dataframe tbody tr th {\n",
              "        vertical-align: top;\n",
              "    }\n",
              "\n",
              "    .dataframe thead th {\n",
              "        text-align: right;\n",
              "    }\n",
              "</style>\n",
              "<table border=\"1\" class=\"dataframe\">\n",
              "  <thead>\n",
              "    <tr style=\"text-align: right;\">\n",
              "      <th></th>\n",
              "      <th>rowid</th>\n",
              "      <th>species</th>\n",
              "      <th>island</th>\n",
              "      <th>bill_length_mm</th>\n",
              "      <th>bill_depth_mm</th>\n",
              "      <th>flipper_length_mm</th>\n",
              "      <th>body_mass_g</th>\n",
              "      <th>sex</th>\n",
              "      <th>year</th>\n",
              "    </tr>\n",
              "  </thead>\n",
              "  <tbody>\n",
              "    <tr>\n",
              "      <th>339</th>\n",
              "      <td>340</td>\n",
              "      <td>Chinstrap</td>\n",
              "      <td>Dream</td>\n",
              "      <td>55.8</td>\n",
              "      <td>19.8</td>\n",
              "      <td>207.0</td>\n",
              "      <td>4000.0</td>\n",
              "      <td>male</td>\n",
              "      <td>2009</td>\n",
              "    </tr>\n",
              "    <tr>\n",
              "      <th>340</th>\n",
              "      <td>341</td>\n",
              "      <td>Chinstrap</td>\n",
              "      <td>Dream</td>\n",
              "      <td>43.5</td>\n",
              "      <td>18.1</td>\n",
              "      <td>202.0</td>\n",
              "      <td>3400.0</td>\n",
              "      <td>female</td>\n",
              "      <td>2009</td>\n",
              "    </tr>\n",
              "    <tr>\n",
              "      <th>341</th>\n",
              "      <td>342</td>\n",
              "      <td>Chinstrap</td>\n",
              "      <td>Dream</td>\n",
              "      <td>49.6</td>\n",
              "      <td>18.2</td>\n",
              "      <td>193.0</td>\n",
              "      <td>3775.0</td>\n",
              "      <td>male</td>\n",
              "      <td>2009</td>\n",
              "    </tr>\n",
              "    <tr>\n",
              "      <th>342</th>\n",
              "      <td>343</td>\n",
              "      <td>Chinstrap</td>\n",
              "      <td>Dream</td>\n",
              "      <td>50.8</td>\n",
              "      <td>19.0</td>\n",
              "      <td>210.0</td>\n",
              "      <td>4100.0</td>\n",
              "      <td>male</td>\n",
              "      <td>2009</td>\n",
              "    </tr>\n",
              "    <tr>\n",
              "      <th>343</th>\n",
              "      <td>344</td>\n",
              "      <td>Chinstrap</td>\n",
              "      <td>Dream</td>\n",
              "      <td>50.2</td>\n",
              "      <td>18.7</td>\n",
              "      <td>198.0</td>\n",
              "      <td>3775.0</td>\n",
              "      <td>female</td>\n",
              "      <td>2009</td>\n",
              "    </tr>\n",
              "  </tbody>\n",
              "</table>\n",
              "</div>\n",
              "      <button class=\"colab-df-convert\" onclick=\"convertToInteractive('df-94be3f8d-e11e-4fe8-9ddd-8045adbd4f11')\"\n",
              "              title=\"Convert this dataframe to an interactive table.\"\n",
              "              style=\"display:none;\">\n",
              "        \n",
              "  <svg xmlns=\"http://www.w3.org/2000/svg\" height=\"24px\"viewBox=\"0 0 24 24\"\n",
              "       width=\"24px\">\n",
              "    <path d=\"M0 0h24v24H0V0z\" fill=\"none\"/>\n",
              "    <path d=\"M18.56 5.44l.94 2.06.94-2.06 2.06-.94-2.06-.94-.94-2.06-.94 2.06-2.06.94zm-11 1L8.5 8.5l.94-2.06 2.06-.94-2.06-.94L8.5 2.5l-.94 2.06-2.06.94zm10 10l.94 2.06.94-2.06 2.06-.94-2.06-.94-.94-2.06-.94 2.06-2.06.94z\"/><path d=\"M17.41 7.96l-1.37-1.37c-.4-.4-.92-.59-1.43-.59-.52 0-1.04.2-1.43.59L10.3 9.45l-7.72 7.72c-.78.78-.78 2.05 0 2.83L4 21.41c.39.39.9.59 1.41.59.51 0 1.02-.2 1.41-.59l7.78-7.78 2.81-2.81c.8-.78.8-2.07 0-2.86zM5.41 20L4 18.59l7.72-7.72 1.47 1.35L5.41 20z\"/>\n",
              "  </svg>\n",
              "      </button>\n",
              "      \n",
              "  <style>\n",
              "    .colab-df-container {\n",
              "      display:flex;\n",
              "      flex-wrap:wrap;\n",
              "      gap: 12px;\n",
              "    }\n",
              "\n",
              "    .colab-df-convert {\n",
              "      background-color: #E8F0FE;\n",
              "      border: none;\n",
              "      border-radius: 50%;\n",
              "      cursor: pointer;\n",
              "      display: none;\n",
              "      fill: #1967D2;\n",
              "      height: 32px;\n",
              "      padding: 0 0 0 0;\n",
              "      width: 32px;\n",
              "    }\n",
              "\n",
              "    .colab-df-convert:hover {\n",
              "      background-color: #E2EBFA;\n",
              "      box-shadow: 0px 1px 2px rgba(60, 64, 67, 0.3), 0px 1px 3px 1px rgba(60, 64, 67, 0.15);\n",
              "      fill: #174EA6;\n",
              "    }\n",
              "\n",
              "    [theme=dark] .colab-df-convert {\n",
              "      background-color: #3B4455;\n",
              "      fill: #D2E3FC;\n",
              "    }\n",
              "\n",
              "    [theme=dark] .colab-df-convert:hover {\n",
              "      background-color: #434B5C;\n",
              "      box-shadow: 0px 1px 3px 1px rgba(0, 0, 0, 0.15);\n",
              "      filter: drop-shadow(0px 1px 2px rgba(0, 0, 0, 0.3));\n",
              "      fill: #FFFFFF;\n",
              "    }\n",
              "  </style>\n",
              "\n",
              "      <script>\n",
              "        const buttonEl =\n",
              "          document.querySelector('#df-94be3f8d-e11e-4fe8-9ddd-8045adbd4f11 button.colab-df-convert');\n",
              "        buttonEl.style.display =\n",
              "          google.colab.kernel.accessAllowed ? 'block' : 'none';\n",
              "\n",
              "        async function convertToInteractive(key) {\n",
              "          const element = document.querySelector('#df-94be3f8d-e11e-4fe8-9ddd-8045adbd4f11');\n",
              "          const dataTable =\n",
              "            await google.colab.kernel.invokeFunction('convertToInteractive',\n",
              "                                                     [key], {});\n",
              "          if (!dataTable) return;\n",
              "\n",
              "          const docLinkHtml = 'Like what you see? Visit the ' +\n",
              "            '<a target=\"_blank\" href=https://colab.research.google.com/notebooks/data_table.ipynb>data table notebook</a>'\n",
              "            + ' to learn more about interactive tables.';\n",
              "          element.innerHTML = '';\n",
              "          dataTable['output_type'] = 'display_data';\n",
              "          await google.colab.output.renderOutput(dataTable, element);\n",
              "          const docLink = document.createElement('div');\n",
              "          docLink.innerHTML = docLinkHtml;\n",
              "          element.appendChild(docLink);\n",
              "        }\n",
              "      </script>\n",
              "    </div>\n",
              "  </div>\n",
              "  "
            ]
          },
          "metadata": {},
          "execution_count": 4
        }
      ]
    },
    {
      "cell_type": "code",
      "source": [
        "data.describe()"
      ],
      "metadata": {
        "colab": {
          "base_uri": "https://localhost:8080/",
          "height": 297
        },
        "id": "wHSXw5B4LxlQ",
        "outputId": "ba0f7645-039d-4f3d-af22-e9e4b17969fd"
      },
      "execution_count": 5,
      "outputs": [
        {
          "output_type": "execute_result",
          "data": {
            "text/plain": [
              "            rowid  bill_length_mm  bill_depth_mm  flipper_length_mm  \\\n",
              "count  344.000000      342.000000     342.000000         342.000000   \n",
              "mean   172.500000       43.921930      17.151170         200.915205   \n",
              "std     99.448479        5.459584       1.974793          14.061714   \n",
              "min      1.000000       32.100000      13.100000         172.000000   \n",
              "25%     86.750000       39.225000      15.600000         190.000000   \n",
              "50%    172.500000       44.450000      17.300000         197.000000   \n",
              "75%    258.250000       48.500000      18.700000         213.000000   \n",
              "max    344.000000       59.600000      21.500000         231.000000   \n",
              "\n",
              "       body_mass_g         year  \n",
              "count   342.000000   344.000000  \n",
              "mean   4201.754386  2008.029070  \n",
              "std     801.954536     0.818356  \n",
              "min    2700.000000  2007.000000  \n",
              "25%    3550.000000  2007.000000  \n",
              "50%    4050.000000  2008.000000  \n",
              "75%    4750.000000  2009.000000  \n",
              "max    6300.000000  2009.000000  "
            ],
            "text/html": [
              "\n",
              "  <div id=\"df-cbf26636-d00e-4a0b-b939-d07859131f99\">\n",
              "    <div class=\"colab-df-container\">\n",
              "      <div>\n",
              "<style scoped>\n",
              "    .dataframe tbody tr th:only-of-type {\n",
              "        vertical-align: middle;\n",
              "    }\n",
              "\n",
              "    .dataframe tbody tr th {\n",
              "        vertical-align: top;\n",
              "    }\n",
              "\n",
              "    .dataframe thead th {\n",
              "        text-align: right;\n",
              "    }\n",
              "</style>\n",
              "<table border=\"1\" class=\"dataframe\">\n",
              "  <thead>\n",
              "    <tr style=\"text-align: right;\">\n",
              "      <th></th>\n",
              "      <th>rowid</th>\n",
              "      <th>bill_length_mm</th>\n",
              "      <th>bill_depth_mm</th>\n",
              "      <th>flipper_length_mm</th>\n",
              "      <th>body_mass_g</th>\n",
              "      <th>year</th>\n",
              "    </tr>\n",
              "  </thead>\n",
              "  <tbody>\n",
              "    <tr>\n",
              "      <th>count</th>\n",
              "      <td>344.000000</td>\n",
              "      <td>342.000000</td>\n",
              "      <td>342.000000</td>\n",
              "      <td>342.000000</td>\n",
              "      <td>342.000000</td>\n",
              "      <td>344.000000</td>\n",
              "    </tr>\n",
              "    <tr>\n",
              "      <th>mean</th>\n",
              "      <td>172.500000</td>\n",
              "      <td>43.921930</td>\n",
              "      <td>17.151170</td>\n",
              "      <td>200.915205</td>\n",
              "      <td>4201.754386</td>\n",
              "      <td>2008.029070</td>\n",
              "    </tr>\n",
              "    <tr>\n",
              "      <th>std</th>\n",
              "      <td>99.448479</td>\n",
              "      <td>5.459584</td>\n",
              "      <td>1.974793</td>\n",
              "      <td>14.061714</td>\n",
              "      <td>801.954536</td>\n",
              "      <td>0.818356</td>\n",
              "    </tr>\n",
              "    <tr>\n",
              "      <th>min</th>\n",
              "      <td>1.000000</td>\n",
              "      <td>32.100000</td>\n",
              "      <td>13.100000</td>\n",
              "      <td>172.000000</td>\n",
              "      <td>2700.000000</td>\n",
              "      <td>2007.000000</td>\n",
              "    </tr>\n",
              "    <tr>\n",
              "      <th>25%</th>\n",
              "      <td>86.750000</td>\n",
              "      <td>39.225000</td>\n",
              "      <td>15.600000</td>\n",
              "      <td>190.000000</td>\n",
              "      <td>3550.000000</td>\n",
              "      <td>2007.000000</td>\n",
              "    </tr>\n",
              "    <tr>\n",
              "      <th>50%</th>\n",
              "      <td>172.500000</td>\n",
              "      <td>44.450000</td>\n",
              "      <td>17.300000</td>\n",
              "      <td>197.000000</td>\n",
              "      <td>4050.000000</td>\n",
              "      <td>2008.000000</td>\n",
              "    </tr>\n",
              "    <tr>\n",
              "      <th>75%</th>\n",
              "      <td>258.250000</td>\n",
              "      <td>48.500000</td>\n",
              "      <td>18.700000</td>\n",
              "      <td>213.000000</td>\n",
              "      <td>4750.000000</td>\n",
              "      <td>2009.000000</td>\n",
              "    </tr>\n",
              "    <tr>\n",
              "      <th>max</th>\n",
              "      <td>344.000000</td>\n",
              "      <td>59.600000</td>\n",
              "      <td>21.500000</td>\n",
              "      <td>231.000000</td>\n",
              "      <td>6300.000000</td>\n",
              "      <td>2009.000000</td>\n",
              "    </tr>\n",
              "  </tbody>\n",
              "</table>\n",
              "</div>\n",
              "      <button class=\"colab-df-convert\" onclick=\"convertToInteractive('df-cbf26636-d00e-4a0b-b939-d07859131f99')\"\n",
              "              title=\"Convert this dataframe to an interactive table.\"\n",
              "              style=\"display:none;\">\n",
              "        \n",
              "  <svg xmlns=\"http://www.w3.org/2000/svg\" height=\"24px\"viewBox=\"0 0 24 24\"\n",
              "       width=\"24px\">\n",
              "    <path d=\"M0 0h24v24H0V0z\" fill=\"none\"/>\n",
              "    <path d=\"M18.56 5.44l.94 2.06.94-2.06 2.06-.94-2.06-.94-.94-2.06-.94 2.06-2.06.94zm-11 1L8.5 8.5l.94-2.06 2.06-.94-2.06-.94L8.5 2.5l-.94 2.06-2.06.94zm10 10l.94 2.06.94-2.06 2.06-.94-2.06-.94-.94-2.06-.94 2.06-2.06.94z\"/><path d=\"M17.41 7.96l-1.37-1.37c-.4-.4-.92-.59-1.43-.59-.52 0-1.04.2-1.43.59L10.3 9.45l-7.72 7.72c-.78.78-.78 2.05 0 2.83L4 21.41c.39.39.9.59 1.41.59.51 0 1.02-.2 1.41-.59l7.78-7.78 2.81-2.81c.8-.78.8-2.07 0-2.86zM5.41 20L4 18.59l7.72-7.72 1.47 1.35L5.41 20z\"/>\n",
              "  </svg>\n",
              "      </button>\n",
              "      \n",
              "  <style>\n",
              "    .colab-df-container {\n",
              "      display:flex;\n",
              "      flex-wrap:wrap;\n",
              "      gap: 12px;\n",
              "    }\n",
              "\n",
              "    .colab-df-convert {\n",
              "      background-color: #E8F0FE;\n",
              "      border: none;\n",
              "      border-radius: 50%;\n",
              "      cursor: pointer;\n",
              "      display: none;\n",
              "      fill: #1967D2;\n",
              "      height: 32px;\n",
              "      padding: 0 0 0 0;\n",
              "      width: 32px;\n",
              "    }\n",
              "\n",
              "    .colab-df-convert:hover {\n",
              "      background-color: #E2EBFA;\n",
              "      box-shadow: 0px 1px 2px rgba(60, 64, 67, 0.3), 0px 1px 3px 1px rgba(60, 64, 67, 0.15);\n",
              "      fill: #174EA6;\n",
              "    }\n",
              "\n",
              "    [theme=dark] .colab-df-convert {\n",
              "      background-color: #3B4455;\n",
              "      fill: #D2E3FC;\n",
              "    }\n",
              "\n",
              "    [theme=dark] .colab-df-convert:hover {\n",
              "      background-color: #434B5C;\n",
              "      box-shadow: 0px 1px 3px 1px rgba(0, 0, 0, 0.15);\n",
              "      filter: drop-shadow(0px 1px 2px rgba(0, 0, 0, 0.3));\n",
              "      fill: #FFFFFF;\n",
              "    }\n",
              "  </style>\n",
              "\n",
              "      <script>\n",
              "        const buttonEl =\n",
              "          document.querySelector('#df-cbf26636-d00e-4a0b-b939-d07859131f99 button.colab-df-convert');\n",
              "        buttonEl.style.display =\n",
              "          google.colab.kernel.accessAllowed ? 'block' : 'none';\n",
              "\n",
              "        async function convertToInteractive(key) {\n",
              "          const element = document.querySelector('#df-cbf26636-d00e-4a0b-b939-d07859131f99');\n",
              "          const dataTable =\n",
              "            await google.colab.kernel.invokeFunction('convertToInteractive',\n",
              "                                                     [key], {});\n",
              "          if (!dataTable) return;\n",
              "\n",
              "          const docLinkHtml = 'Like what you see? Visit the ' +\n",
              "            '<a target=\"_blank\" href=https://colab.research.google.com/notebooks/data_table.ipynb>data table notebook</a>'\n",
              "            + ' to learn more about interactive tables.';\n",
              "          element.innerHTML = '';\n",
              "          dataTable['output_type'] = 'display_data';\n",
              "          await google.colab.output.renderOutput(dataTable, element);\n",
              "          const docLink = document.createElement('div');\n",
              "          docLink.innerHTML = docLinkHtml;\n",
              "          element.appendChild(docLink);\n",
              "        }\n",
              "      </script>\n",
              "    </div>\n",
              "  </div>\n",
              "  "
            ]
          },
          "metadata": {},
          "execution_count": 5
        }
      ]
    },
    {
      "cell_type": "code",
      "source": [
        "\n",
        "data.isnull().sum()"
      ],
      "metadata": {
        "colab": {
          "base_uri": "https://localhost:8080/"
        },
        "id": "6eCzx0Z5L19J",
        "outputId": "25d56927-059b-48f1-a24f-50f424013f8d"
      },
      "execution_count": 32,
      "outputs": [
        {
          "output_type": "execute_result",
          "data": {
            "text/plain": [
              "rowid                0\n",
              "species              0\n",
              "bill_length_mm       0\n",
              "bill_depth_mm        0\n",
              "flipper_length_mm    0\n",
              "body_mass_g          0\n",
              "year                 0\n",
              "dtype: int64"
            ]
          },
          "metadata": {},
          "execution_count": 32
        }
      ]
    },
    {
      "cell_type": "code",
      "source": [],
      "metadata": {
        "id": "SSFzdWFdRbMF"
      },
      "execution_count": null,
      "outputs": []
    },
    {
      "cell_type": "code",
      "source": [
        "data['bill_length_mm'].fillna(data['bill_length_mm'].mean(),inplace=True)\n",
        "data['bill_depth_mm'].fillna(data['bill_depth_mm'].mean(),inplace=True)\n",
        "data['flipper_length_mm'].fillna(data['flipper_length_mm'].mean(),inplace=True)\n",
        "data['body_mass_g'].fillna(data['body_mass_g'].mean(),inplace=True)"
      ],
      "metadata": {
        "id": "i50u7Hf0MRyY"
      },
      "execution_count": 31,
      "outputs": []
    },
    {
      "cell_type": "code",
      "source": [
        "data.isnull().sum()"
      ],
      "metadata": {
        "colab": {
          "base_uri": "https://localhost:8080/"
        },
        "id": "2or96GIpMaxU",
        "outputId": "fe786b74-e22a-4011-fa76-b458d002f81f"
      },
      "execution_count": 33,
      "outputs": [
        {
          "output_type": "execute_result",
          "data": {
            "text/plain": [
              "rowid                0\n",
              "species              0\n",
              "bill_length_mm       0\n",
              "bill_depth_mm        0\n",
              "flipper_length_mm    0\n",
              "body_mass_g          0\n",
              "year                 0\n",
              "dtype: int64"
            ]
          },
          "metadata": {},
          "execution_count": 33
        }
      ]
    },
    {
      "cell_type": "code",
      "source": [
        "X=data.drop('species',axis=1).values\n",
        "y=data['species'].values\n",
        "print(y)"
      ],
      "metadata": {
        "colab": {
          "base_uri": "https://localhost:8080/"
        },
        "id": "Wz-gT0nPRcfV",
        "outputId": "31f4514a-39ce-4031-b756-be77e81bf0f1"
      },
      "execution_count": 34,
      "outputs": [
        {
          "output_type": "stream",
          "name": "stdout",
          "text": [
            "['Adelie' 'Adelie' 'Adelie' 'Adelie' 'Adelie' 'Adelie' 'Adelie' 'Adelie'\n",
            " 'Adelie' 'Adelie' 'Adelie' 'Adelie' 'Adelie' 'Adelie' 'Adelie' 'Adelie'\n",
            " 'Adelie' 'Adelie' 'Adelie' 'Adelie' 'Adelie' 'Adelie' 'Adelie' 'Adelie'\n",
            " 'Adelie' 'Adelie' 'Adelie' 'Adelie' 'Adelie' 'Adelie' 'Adelie' 'Adelie'\n",
            " 'Adelie' 'Adelie' 'Adelie' 'Adelie' 'Adelie' 'Adelie' 'Adelie' 'Adelie'\n",
            " 'Adelie' 'Adelie' 'Adelie' 'Adelie' 'Adelie' 'Adelie' 'Adelie' 'Adelie'\n",
            " 'Adelie' 'Adelie' 'Adelie' 'Adelie' 'Adelie' 'Adelie' 'Adelie' 'Adelie'\n",
            " 'Adelie' 'Adelie' 'Adelie' 'Adelie' 'Adelie' 'Adelie' 'Adelie' 'Adelie'\n",
            " 'Adelie' 'Adelie' 'Adelie' 'Adelie' 'Adelie' 'Adelie' 'Adelie' 'Adelie'\n",
            " 'Adelie' 'Adelie' 'Adelie' 'Adelie' 'Adelie' 'Adelie' 'Adelie' 'Adelie'\n",
            " 'Adelie' 'Adelie' 'Adelie' 'Adelie' 'Adelie' 'Adelie' 'Adelie' 'Adelie'\n",
            " 'Adelie' 'Adelie' 'Adelie' 'Adelie' 'Adelie' 'Adelie' 'Adelie' 'Adelie'\n",
            " 'Adelie' 'Adelie' 'Adelie' 'Adelie' 'Adelie' 'Adelie' 'Adelie' 'Adelie'\n",
            " 'Adelie' 'Adelie' 'Adelie' 'Adelie' 'Adelie' 'Adelie' 'Adelie' 'Adelie'\n",
            " 'Adelie' 'Adelie' 'Adelie' 'Adelie' 'Adelie' 'Adelie' 'Adelie' 'Adelie'\n",
            " 'Adelie' 'Adelie' 'Adelie' 'Adelie' 'Adelie' 'Adelie' 'Adelie' 'Adelie'\n",
            " 'Adelie' 'Adelie' 'Adelie' 'Adelie' 'Adelie' 'Adelie' 'Adelie' 'Adelie'\n",
            " 'Adelie' 'Adelie' 'Adelie' 'Adelie' 'Adelie' 'Adelie' 'Adelie' 'Adelie'\n",
            " 'Adelie' 'Adelie' 'Adelie' 'Adelie' 'Adelie' 'Adelie' 'Adelie' 'Adelie'\n",
            " 'Gentoo' 'Gentoo' 'Gentoo' 'Gentoo' 'Gentoo' 'Gentoo' 'Gentoo' 'Gentoo'\n",
            " 'Gentoo' 'Gentoo' 'Gentoo' 'Gentoo' 'Gentoo' 'Gentoo' 'Gentoo' 'Gentoo'\n",
            " 'Gentoo' 'Gentoo' 'Gentoo' 'Gentoo' 'Gentoo' 'Gentoo' 'Gentoo' 'Gentoo'\n",
            " 'Gentoo' 'Gentoo' 'Gentoo' 'Gentoo' 'Gentoo' 'Gentoo' 'Gentoo' 'Gentoo'\n",
            " 'Gentoo' 'Gentoo' 'Gentoo' 'Gentoo' 'Gentoo' 'Gentoo' 'Gentoo' 'Gentoo'\n",
            " 'Gentoo' 'Gentoo' 'Gentoo' 'Gentoo' 'Gentoo' 'Gentoo' 'Gentoo' 'Gentoo'\n",
            " 'Gentoo' 'Gentoo' 'Gentoo' 'Gentoo' 'Gentoo' 'Gentoo' 'Gentoo' 'Gentoo'\n",
            " 'Gentoo' 'Gentoo' 'Gentoo' 'Gentoo' 'Gentoo' 'Gentoo' 'Gentoo' 'Gentoo'\n",
            " 'Gentoo' 'Gentoo' 'Gentoo' 'Gentoo' 'Gentoo' 'Gentoo' 'Gentoo' 'Gentoo'\n",
            " 'Gentoo' 'Gentoo' 'Gentoo' 'Gentoo' 'Gentoo' 'Gentoo' 'Gentoo' 'Gentoo'\n",
            " 'Gentoo' 'Gentoo' 'Gentoo' 'Gentoo' 'Gentoo' 'Gentoo' 'Gentoo' 'Gentoo'\n",
            " 'Gentoo' 'Gentoo' 'Gentoo' 'Gentoo' 'Gentoo' 'Gentoo' 'Gentoo' 'Gentoo'\n",
            " 'Gentoo' 'Gentoo' 'Gentoo' 'Gentoo' 'Gentoo' 'Gentoo' 'Gentoo' 'Gentoo'\n",
            " 'Gentoo' 'Gentoo' 'Gentoo' 'Gentoo' 'Gentoo' 'Gentoo' 'Gentoo' 'Gentoo'\n",
            " 'Gentoo' 'Gentoo' 'Gentoo' 'Gentoo' 'Gentoo' 'Gentoo' 'Gentoo' 'Gentoo'\n",
            " 'Gentoo' 'Gentoo' 'Gentoo' 'Gentoo' 'Chinstrap' 'Chinstrap' 'Chinstrap'\n",
            " 'Chinstrap' 'Chinstrap' 'Chinstrap' 'Chinstrap' 'Chinstrap' 'Chinstrap'\n",
            " 'Chinstrap' 'Chinstrap' 'Chinstrap' 'Chinstrap' 'Chinstrap' 'Chinstrap'\n",
            " 'Chinstrap' 'Chinstrap' 'Chinstrap' 'Chinstrap' 'Chinstrap' 'Chinstrap'\n",
            " 'Chinstrap' 'Chinstrap' 'Chinstrap' 'Chinstrap' 'Chinstrap' 'Chinstrap'\n",
            " 'Chinstrap' 'Chinstrap' 'Chinstrap' 'Chinstrap' 'Chinstrap' 'Chinstrap'\n",
            " 'Chinstrap' 'Chinstrap' 'Chinstrap' 'Chinstrap' 'Chinstrap' 'Chinstrap'\n",
            " 'Chinstrap' 'Chinstrap' 'Chinstrap' 'Chinstrap' 'Chinstrap' 'Chinstrap'\n",
            " 'Chinstrap' 'Chinstrap' 'Chinstrap' 'Chinstrap' 'Chinstrap' 'Chinstrap'\n",
            " 'Chinstrap' 'Chinstrap' 'Chinstrap' 'Chinstrap' 'Chinstrap' 'Chinstrap'\n",
            " 'Chinstrap' 'Chinstrap' 'Chinstrap' 'Chinstrap' 'Chinstrap' 'Chinstrap'\n",
            " 'Chinstrap' 'Chinstrap' 'Chinstrap' 'Chinstrap' 'Chinstrap']\n"
          ]
        }
      ]
    },
    {
      "cell_type": "code",
      "source": [
        "X_train, X_test, y_train, y_test = train_test_split(X, y, test_size=0.25, random_state=42)"
      ],
      "metadata": {
        "id": "2tW1uGuTR3aT"
      },
      "execution_count": 39,
      "outputs": []
    },
    {
      "cell_type": "code",
      "source": [
        "X_train.reshape(-1,1)\n",
        "y_train.reshape(-1,1)\n",
        "reg=LogisticRegression(C=0.5)\n",
        "reg.fit(X_train,y_train)"
      ],
      "metadata": {
        "colab": {
          "base_uri": "https://localhost:8080/",
          "height": 210
        },
        "id": "M_HarU2dSP_u",
        "outputId": "a3cff0dd-6c9c-48fb-c6f5-a8a6baa36426"
      },
      "execution_count": 40,
      "outputs": [
        {
          "output_type": "stream",
          "name": "stderr",
          "text": [
            "/usr/local/lib/python3.9/dist-packages/sklearn/linear_model/_logistic.py:458: ConvergenceWarning: lbfgs failed to converge (status=1):\n",
            "STOP: TOTAL NO. of ITERATIONS REACHED LIMIT.\n",
            "\n",
            "Increase the number of iterations (max_iter) or scale the data as shown in:\n",
            "    https://scikit-learn.org/stable/modules/preprocessing.html\n",
            "Please also refer to the documentation for alternative solver options:\n",
            "    https://scikit-learn.org/stable/modules/linear_model.html#logistic-regression\n",
            "  n_iter_i = _check_optimize_result(\n"
          ]
        },
        {
          "output_type": "execute_result",
          "data": {
            "text/plain": [
              "LogisticRegression(C=0.5)"
            ],
            "text/html": [
              "<style>#sk-container-id-1 {color: black;background-color: white;}#sk-container-id-1 pre{padding: 0;}#sk-container-id-1 div.sk-toggleable {background-color: white;}#sk-container-id-1 label.sk-toggleable__label {cursor: pointer;display: block;width: 100%;margin-bottom: 0;padding: 0.3em;box-sizing: border-box;text-align: center;}#sk-container-id-1 label.sk-toggleable__label-arrow:before {content: \"▸\";float: left;margin-right: 0.25em;color: #696969;}#sk-container-id-1 label.sk-toggleable__label-arrow:hover:before {color: black;}#sk-container-id-1 div.sk-estimator:hover label.sk-toggleable__label-arrow:before {color: black;}#sk-container-id-1 div.sk-toggleable__content {max-height: 0;max-width: 0;overflow: hidden;text-align: left;background-color: #f0f8ff;}#sk-container-id-1 div.sk-toggleable__content pre {margin: 0.2em;color: black;border-radius: 0.25em;background-color: #f0f8ff;}#sk-container-id-1 input.sk-toggleable__control:checked~div.sk-toggleable__content {max-height: 200px;max-width: 100%;overflow: auto;}#sk-container-id-1 input.sk-toggleable__control:checked~label.sk-toggleable__label-arrow:before {content: \"▾\";}#sk-container-id-1 div.sk-estimator input.sk-toggleable__control:checked~label.sk-toggleable__label {background-color: #d4ebff;}#sk-container-id-1 div.sk-label input.sk-toggleable__control:checked~label.sk-toggleable__label {background-color: #d4ebff;}#sk-container-id-1 input.sk-hidden--visually {border: 0;clip: rect(1px 1px 1px 1px);clip: rect(1px, 1px, 1px, 1px);height: 1px;margin: -1px;overflow: hidden;padding: 0;position: absolute;width: 1px;}#sk-container-id-1 div.sk-estimator {font-family: monospace;background-color: #f0f8ff;border: 1px dotted black;border-radius: 0.25em;box-sizing: border-box;margin-bottom: 0.5em;}#sk-container-id-1 div.sk-estimator:hover {background-color: #d4ebff;}#sk-container-id-1 div.sk-parallel-item::after {content: \"\";width: 100%;border-bottom: 1px solid gray;flex-grow: 1;}#sk-container-id-1 div.sk-label:hover label.sk-toggleable__label {background-color: #d4ebff;}#sk-container-id-1 div.sk-serial::before {content: \"\";position: absolute;border-left: 1px solid gray;box-sizing: border-box;top: 0;bottom: 0;left: 50%;z-index: 0;}#sk-container-id-1 div.sk-serial {display: flex;flex-direction: column;align-items: center;background-color: white;padding-right: 0.2em;padding-left: 0.2em;position: relative;}#sk-container-id-1 div.sk-item {position: relative;z-index: 1;}#sk-container-id-1 div.sk-parallel {display: flex;align-items: stretch;justify-content: center;background-color: white;position: relative;}#sk-container-id-1 div.sk-item::before, #sk-container-id-1 div.sk-parallel-item::before {content: \"\";position: absolute;border-left: 1px solid gray;box-sizing: border-box;top: 0;bottom: 0;left: 50%;z-index: -1;}#sk-container-id-1 div.sk-parallel-item {display: flex;flex-direction: column;z-index: 1;position: relative;background-color: white;}#sk-container-id-1 div.sk-parallel-item:first-child::after {align-self: flex-end;width: 50%;}#sk-container-id-1 div.sk-parallel-item:last-child::after {align-self: flex-start;width: 50%;}#sk-container-id-1 div.sk-parallel-item:only-child::after {width: 0;}#sk-container-id-1 div.sk-dashed-wrapped {border: 1px dashed gray;margin: 0 0.4em 0.5em 0.4em;box-sizing: border-box;padding-bottom: 0.4em;background-color: white;}#sk-container-id-1 div.sk-label label {font-family: monospace;font-weight: bold;display: inline-block;line-height: 1.2em;}#sk-container-id-1 div.sk-label-container {text-align: center;}#sk-container-id-1 div.sk-container {/* jupyter's `normalize.less` sets `[hidden] { display: none; }` but bootstrap.min.css set `[hidden] { display: none !important; }` so we also need the `!important` here to be able to override the default hidden behavior on the sphinx rendered scikit-learn.org. See: https://github.com/scikit-learn/scikit-learn/issues/21755 */display: inline-block !important;position: relative;}#sk-container-id-1 div.sk-text-repr-fallback {display: none;}</style><div id=\"sk-container-id-1\" class=\"sk-top-container\"><div class=\"sk-text-repr-fallback\"><pre>LogisticRegression(C=0.5)</pre><b>In a Jupyter environment, please rerun this cell to show the HTML representation or trust the notebook. <br />On GitHub, the HTML representation is unable to render, please try loading this page with nbviewer.org.</b></div><div class=\"sk-container\" hidden><div class=\"sk-item\"><div class=\"sk-estimator sk-toggleable\"><input class=\"sk-toggleable__control sk-hidden--visually\" id=\"sk-estimator-id-1\" type=\"checkbox\" checked><label for=\"sk-estimator-id-1\" class=\"sk-toggleable__label sk-toggleable__label-arrow\">LogisticRegression</label><div class=\"sk-toggleable__content\"><pre>LogisticRegression(C=0.5)</pre></div></div></div></div></div>"
            ]
          },
          "metadata": {},
          "execution_count": 40
        }
      ]
    },
    {
      "cell_type": "code",
      "source": [
        "reg.coef_"
      ],
      "metadata": {
        "colab": {
          "base_uri": "https://localhost:8080/"
        },
        "id": "-_vHJKdtSTs5",
        "outputId": "213ed91f-f957-4a3c-cc62-a58f154b4d41"
      },
      "execution_count": 41,
      "outputs": [
        {
          "output_type": "execute_result",
          "data": {
            "text/plain": [
              "array([[-0.30089275, -0.05950562,  0.03896634, -0.13273717, -0.0046507 ,\n",
              "         0.05604615],\n",
              "       [ 0.35266242,  0.06060824,  0.02621343, -0.05508056, -0.00387241,\n",
              "        -0.03215698],\n",
              "       [-0.05176967, -0.00110262, -0.06517977,  0.18781773,  0.00852311,\n",
              "        -0.02388917]])"
            ]
          },
          "metadata": {},
          "execution_count": 41
        }
      ]
    },
    {
      "cell_type": "code",
      "source": [
        "reg.intercept_scaling"
      ],
      "metadata": {
        "colab": {
          "base_uri": "https://localhost:8080/"
        },
        "id": "r3b2_-2FSVaB",
        "outputId": "689d3933-f2dd-4355-c86e-515c200d99ed"
      },
      "execution_count": 43,
      "outputs": [
        {
          "output_type": "execute_result",
          "data": {
            "text/plain": [
              "1"
            ]
          },
          "metadata": {},
          "execution_count": 43
        }
      ]
    },
    {
      "cell_type": "code",
      "source": [
        "reg.predict_proba(X_train)"
      ],
      "metadata": {
        "colab": {
          "base_uri": "https://localhost:8080/"
        },
        "id": "IRw55YGaSh3F",
        "outputId": "874a3179-df3f-418d-b516-1df637aebcf8"
      },
      "execution_count": 44,
      "outputs": [
        {
          "output_type": "execute_result",
          "data": {
            "text/plain": [
              "array([[1.00000000e+00, 3.13317643e-62, 3.85935372e-15],\n",
              "       [1.00000000e+00, 3.15692646e-61, 1.08829330e-20],\n",
              "       [5.87333519e-14, 5.49244027e-12, 1.00000000e+00],\n",
              "       [9.99999932e-01, 7.70529557e-27, 6.81943216e-08],\n",
              "       [1.89967195e-13, 2.32014751e-19, 1.00000000e+00],\n",
              "       [1.83368214e-17, 9.84644742e-11, 1.00000000e+00],\n",
              "       [5.40193966e-16, 9.99983520e-01, 1.64801063e-05],\n",
              "       [9.99390780e-01, 4.97815745e-28, 6.09219734e-04],\n",
              "       [9.70257894e-19, 5.88043573e-07, 9.99999412e-01],\n",
              "       [2.56231934e-13, 1.54798934e-27, 1.00000000e+00],\n",
              "       [9.99999271e-01, 4.08501304e-27, 7.28696831e-07],\n",
              "       [1.00000000e+00, 1.09451654e-61, 5.26564536e-17],\n",
              "       [1.81394191e-16, 3.31211965e-09, 9.99999997e-01],\n",
              "       [1.00000000e+00, 6.41231369e-45, 1.52365991e-11],\n",
              "       [1.00000000e+00, 1.12691328e-37, 4.07563741e-15],\n",
              "       [1.00000000e+00, 3.42319242e-63, 1.15066662e-23],\n",
              "       [1.00000000e+00, 3.10302542e-35, 7.75471698e-15],\n",
              "       [1.20615712e-15, 1.09048954e-05, 9.99989095e-01],\n",
              "       [1.00000000e+00, 2.31213332e-59, 1.01509426e-19],\n",
              "       [1.23321283e-21, 8.21896829e-17, 1.00000000e+00],\n",
              "       [3.48127234e-13, 9.91471358e-01, 8.52864152e-03],\n",
              "       [1.05727988e-12, 7.33318827e-31, 1.00000000e+00],\n",
              "       [1.94512042e-13, 2.68681917e-08, 9.99999973e-01],\n",
              "       [1.00000000e+00, 3.67433635e-32, 3.25510961e-11],\n",
              "       [1.41023748e-13, 9.99999993e-01, 6.52456027e-09],\n",
              "       [1.00000000e+00, 5.98877324e-51, 2.16446804e-15],\n",
              "       [9.99966830e-01, 1.24525362e-35, 3.31704028e-05],\n",
              "       [3.67457709e-11, 1.04236713e-20, 1.00000000e+00],\n",
              "       [1.00000000e+00, 9.15142633e-64, 1.27062367e-21],\n",
              "       [1.00000000e+00, 2.32645898e-66, 1.59463103e-23],\n",
              "       [1.11707224e-14, 4.77872792e-11, 1.00000000e+00],\n",
              "       [6.36150701e-13, 2.98961284e-15, 1.00000000e+00],\n",
              "       [9.99999990e-01, 3.19453072e-41, 1.00244254e-08],\n",
              "       [1.00000000e+00, 9.73210054e-60, 2.00042041e-23],\n",
              "       [1.00000000e+00, 1.18241860e-61, 8.11486574e-20],\n",
              "       [2.78050899e-17, 9.99999986e-01, 1.40469130e-08],\n",
              "       [3.08889922e-20, 9.99999998e-01, 2.03090822e-09],\n",
              "       [1.00000000e+00, 4.68075751e-52, 7.25549144e-18],\n",
              "       [8.90251002e-13, 3.87384205e-02, 9.61261579e-01],\n",
              "       [1.00000000e+00, 3.21595504e-65, 2.99117646e-24],\n",
              "       [9.33786582e-13, 2.19278649e-12, 1.00000000e+00],\n",
              "       [1.80634294e-16, 4.91900138e-13, 1.00000000e+00],\n",
              "       [9.99999572e-01, 4.95512866e-44, 4.28097234e-07],\n",
              "       [3.09321713e-09, 9.02091976e-25, 9.99999997e-01],\n",
              "       [2.08255354e-31, 1.00000000e+00, 3.83089753e-12],\n",
              "       [2.16180342e-20, 9.99999994e-01, 5.69757051e-09],\n",
              "       [6.08608547e-15, 9.99843171e-01, 1.56829458e-04],\n",
              "       [4.25671788e-15, 5.84734229e-17, 1.00000000e+00],\n",
              "       [1.06186827e-13, 4.19571252e-27, 1.00000000e+00],\n",
              "       [1.00000000e+00, 3.51039005e-42, 4.46135216e-15],\n",
              "       [9.99999999e-01, 1.60187969e-47, 1.18036802e-09],\n",
              "       [1.92355885e-18, 2.16423752e-20, 1.00000000e+00],\n",
              "       [1.00000000e+00, 1.43316360e-40, 3.39511583e-12],\n",
              "       [1.04294952e-18, 1.71744704e-09, 9.99999998e-01],\n",
              "       [9.99999821e-01, 9.49524787e-40, 1.79272850e-07],\n",
              "       [2.65658474e-12, 1.34927084e-25, 1.00000000e+00],\n",
              "       [1.00000000e+00, 7.68272335e-49, 6.56544413e-19],\n",
              "       [1.00000000e+00, 2.50308489e-61, 2.67239308e-19],\n",
              "       [1.00000000e+00, 1.88270998e-57, 1.09739573e-20],\n",
              "       [1.00000000e+00, 3.47675430e-27, 1.05688644e-10],\n",
              "       [1.00000000e+00, 1.14671270e-33, 1.13617003e-12],\n",
              "       [1.00000000e+00, 1.40134443e-48, 2.86309080e-13],\n",
              "       [1.77372565e-20, 3.38821691e-08, 9.99999966e-01],\n",
              "       [1.79801658e-11, 2.85503462e-32, 1.00000000e+00],\n",
              "       [9.99995550e-01, 7.62684998e-32, 4.45016499e-06],\n",
              "       [9.98798076e-01, 3.56879779e-26, 1.20192395e-03],\n",
              "       [1.69579365e-13, 1.29526647e-12, 1.00000000e+00],\n",
              "       [1.00000000e+00, 1.79003306e-43, 8.60390144e-13],\n",
              "       [2.33554140e-16, 9.99999702e-01, 2.97767731e-07],\n",
              "       [3.90795612e-11, 7.72944974e-30, 1.00000000e+00],\n",
              "       [2.12145554e-17, 9.99379265e-01, 6.20735245e-04],\n",
              "       [1.77009379e-17, 3.00093470e-22, 1.00000000e+00],\n",
              "       [1.97996803e-20, 1.09074517e-11, 1.00000000e+00],\n",
              "       [2.73772096e-25, 1.00000000e+00, 1.64926505e-11],\n",
              "       [6.26331367e-22, 5.02372388e-09, 9.99999995e-01],\n",
              "       [8.95684370e-03, 4.37738058e-21, 9.91043156e-01],\n",
              "       [7.12117701e-19, 1.82301889e-17, 1.00000000e+00],\n",
              "       [9.99442456e-01, 3.77177689e-30, 5.57543585e-04],\n",
              "       [1.00000000e+00, 1.83423238e-57, 5.06506105e-22],\n",
              "       [6.80890491e-23, 2.36816945e-15, 1.00000000e+00],\n",
              "       [1.33737685e-20, 9.99999806e-01, 1.94247398e-07],\n",
              "       [6.59753342e-10, 5.72411412e-25, 9.99999999e-01],\n",
              "       [1.00000000e+00, 4.78606910e-36, 7.33674761e-13],\n",
              "       [2.33783903e-17, 7.43376097e-12, 1.00000000e+00],\n",
              "       [5.27672577e-26, 1.00000000e+00, 1.69659165e-15],\n",
              "       [9.99999978e-01, 2.26548406e-34, 2.20797568e-08],\n",
              "       [6.39044362e-24, 1.00000000e+00, 6.28753484e-12],\n",
              "       [1.97104114e-28, 1.00000000e+00, 1.28500293e-14],\n",
              "       [1.38454390e-22, 9.99998640e-01, 1.36049140e-06],\n",
              "       [8.86422427e-23, 9.99999971e-01, 2.86403392e-08],\n",
              "       [7.79086430e-06, 8.52469151e-25, 9.99992209e-01],\n",
              "       [1.94936247e-15, 1.25327495e-23, 1.00000000e+00],\n",
              "       [5.09433675e-21, 2.75013966e-18, 1.00000000e+00],\n",
              "       [4.07187732e-03, 5.92571954e-25, 9.95928123e-01],\n",
              "       [9.03639573e-12, 1.09214104e-12, 1.00000000e+00],\n",
              "       [1.00000000e+00, 4.45334429e-67, 3.97992120e-24],\n",
              "       [9.99999540e-01, 1.20667098e-34, 4.60074728e-07],\n",
              "       [1.49240873e-18, 8.00925703e-30, 1.00000000e+00],\n",
              "       [2.13112696e-21, 1.94231167e-21, 1.00000000e+00],\n",
              "       [1.00000000e+00, 3.56122475e-34, 3.49566345e-13],\n",
              "       [8.09851819e-24, 4.61072132e-13, 1.00000000e+00],\n",
              "       [1.87737936e-18, 9.99999998e-01, 2.10006167e-09],\n",
              "       [9.99880124e-01, 2.93284812e-31, 1.19876089e-04],\n",
              "       [1.00000000e+00, 6.05871949e-47, 1.36276171e-14],\n",
              "       [2.38656989e-13, 9.99881511e-01, 1.18488949e-04],\n",
              "       [1.00000000e+00, 1.11791044e-59, 2.52426106e-19],\n",
              "       [1.00000000e+00, 3.76435703e-44, 1.95152028e-10],\n",
              "       [1.61922605e-15, 9.99958976e-01, 4.10243012e-05],\n",
              "       [9.99999999e-01, 2.01949503e-37, 5.88485935e-10],\n",
              "       [1.49251949e-15, 1.20251622e-24, 1.00000000e+00],\n",
              "       [1.24349122e-14, 5.51249349e-22, 1.00000000e+00],\n",
              "       [9.85240510e-01, 1.40664279e-29, 1.47594901e-02],\n",
              "       [2.88433378e-09, 1.12116974e-22, 9.99999997e-01],\n",
              "       [1.31748726e-19, 3.13743801e-14, 1.00000000e+00],\n",
              "       [1.00000000e+00, 9.59316507e-56, 1.93884365e-22],\n",
              "       [1.19477479e-24, 9.99999927e-01, 7.26014450e-08],\n",
              "       [1.00000000e+00, 4.95736971e-49, 1.00357309e-13],\n",
              "       [1.47560648e-27, 1.00000000e+00, 8.68133952e-11],\n",
              "       [1.00000000e+00, 1.88721179e-43, 1.10578922e-13],\n",
              "       [6.43515637e-12, 4.04374408e-24, 1.00000000e+00],\n",
              "       [1.00000000e+00, 3.16665898e-48, 1.02552071e-15],\n",
              "       [4.28239961e-09, 4.56953210e-29, 9.99999996e-01],\n",
              "       [1.00000000e+00, 1.19028616e-64, 4.21038829e-25],\n",
              "       [1.00000000e+00, 1.89948116e-57, 1.95216749e-15],\n",
              "       [1.00000000e+00, 1.23138353e-60, 3.55462365e-25],\n",
              "       [1.25527977e-06, 5.68855838e-24, 9.99998745e-01],\n",
              "       [1.00000000e+00, 3.90340246e-28, 2.90906333e-11],\n",
              "       [1.04015729e-16, 1.49268660e-11, 1.00000000e+00],\n",
              "       [9.99999984e-01, 3.00752467e-30, 1.63234976e-08],\n",
              "       [1.01429202e-15, 9.99999143e-01, 8.57451821e-07],\n",
              "       [1.00000000e+00, 4.18526103e-53, 7.13994255e-14],\n",
              "       [9.99997392e-01, 6.62996378e-40, 2.60756452e-06],\n",
              "       [1.39361275e-17, 9.99999995e-01, 4.90980478e-09],\n",
              "       [1.98425042e-04, 1.36913313e-19, 9.99801575e-01],\n",
              "       [4.24217540e-08, 5.46567647e-16, 9.99999958e-01],\n",
              "       [9.99998496e-01, 2.61880727e-32, 1.50445778e-06],\n",
              "       [1.00000000e+00, 9.15878283e-56, 3.41063035e-16],\n",
              "       [1.00000000e+00, 1.50062263e-42, 1.63162131e-13],\n",
              "       [1.31781627e-18, 5.19044339e-08, 9.99999948e-01],\n",
              "       [3.47161464e-12, 4.97017979e-19, 1.00000000e+00],\n",
              "       [1.00000000e+00, 1.59719843e-29, 8.82511159e-11],\n",
              "       [1.00000000e+00, 1.47827079e-60, 1.67025512e-21],\n",
              "       [1.15568649e-29, 1.00000000e+00, 3.34047700e-15],\n",
              "       [9.99999994e-01, 7.10427559e-28, 6.11794983e-09],\n",
              "       [1.96717208e-15, 9.99954544e-01, 4.54564655e-05],\n",
              "       [1.00000000e+00, 1.05078357e-66, 3.40393941e-23],\n",
              "       [1.00000000e+00, 5.14496011e-68, 1.71014573e-23],\n",
              "       [3.64055579e-27, 1.00000000e+00, 1.79933460e-13],\n",
              "       [1.80934842e-17, 9.99999989e-01, 1.06036770e-08],\n",
              "       [6.58719131e-23, 9.99999997e-01, 3.37283702e-09],\n",
              "       [1.00000000e+00, 1.48388138e-39, 2.01097086e-11],\n",
              "       [4.89584620e-13, 2.58529315e-14, 1.00000000e+00],\n",
              "       [6.42474413e-04, 1.48256407e-15, 9.99357526e-01],\n",
              "       [2.16023937e-18, 9.97301878e-01, 2.69812208e-03],\n",
              "       [1.25256631e-11, 2.87301391e-15, 1.00000000e+00],\n",
              "       [9.29011808e-16, 2.30354463e-20, 1.00000000e+00],\n",
              "       [9.99999979e-01, 1.85070549e-38, 2.13441088e-08],\n",
              "       [9.94849534e-12, 4.88970245e-28, 1.00000000e+00],\n",
              "       [1.00000000e+00, 6.33686151e-41, 3.06100276e-18],\n",
              "       [1.00000000e+00, 1.89557366e-57, 2.87583429e-17],\n",
              "       [1.54084727e-19, 1.05552898e-22, 1.00000000e+00],\n",
              "       [1.00000000e+00, 6.03074554e-50, 2.58935051e-11],\n",
              "       [9.99999138e-01, 1.74857877e-25, 8.61952904e-07],\n",
              "       [1.03644039e-15, 1.82989404e-11, 1.00000000e+00],\n",
              "       [1.00000000e+00, 4.34178511e-55, 3.59765009e-23],\n",
              "       [1.00000000e+00, 8.01574071e-59, 1.39949544e-21],\n",
              "       [5.10531003e-15, 9.88215600e-01, 1.17843998e-02],\n",
              "       [1.00000000e+00, 5.28305352e-65, 1.06714072e-22],\n",
              "       [1.09245832e-30, 1.00000000e+00, 1.11519863e-15],\n",
              "       [3.91846909e-12, 7.96656581e-21, 1.00000000e+00],\n",
              "       [3.57249541e-22, 9.99984671e-01, 1.53289301e-05],\n",
              "       [1.00000000e+00, 2.94341272e-60, 8.21301133e-23],\n",
              "       [3.65794934e-14, 9.91968622e-01, 8.03137789e-03],\n",
              "       [1.22002065e-13, 7.44069939e-14, 1.00000000e+00],\n",
              "       [1.67742136e-05, 2.85829056e-25, 9.99983226e-01],\n",
              "       [7.74916568e-27, 1.00000000e+00, 5.37434419e-14],\n",
              "       [1.00000000e+00, 5.28804589e-29, 4.95278106e-10],\n",
              "       [1.00000000e+00, 1.93304326e-50, 4.40330831e-17],\n",
              "       [9.99999032e-01, 2.61672335e-29, 9.67752971e-07],\n",
              "       [1.00000000e+00, 1.17489920e-31, 2.94675586e-12],\n",
              "       [1.00000000e+00, 1.08723345e-65, 1.24771420e-22],\n",
              "       [1.00000000e+00, 3.18808973e-50, 2.48317070e-21],\n",
              "       [1.00000000e+00, 1.69858257e-63, 4.07898370e-16],\n",
              "       [2.04104481e-09, 2.95534262e-30, 9.99999998e-01],\n",
              "       [1.00000000e+00, 5.80722860e-57, 1.70957226e-22],\n",
              "       [1.29214702e-24, 9.99978449e-01, 2.15511030e-05],\n",
              "       [4.07258211e-13, 9.99992489e-01, 7.51092141e-06],\n",
              "       [2.15349699e-12, 1.95786041e-16, 1.00000000e+00],\n",
              "       [3.67376710e-18, 1.00000000e+00, 1.62459669e-12],\n",
              "       [7.89188744e-14, 1.69944377e-12, 1.00000000e+00],\n",
              "       [1.73689162e-13, 5.59166822e-20, 1.00000000e+00],\n",
              "       [1.42078398e-07, 2.58208058e-13, 9.99999858e-01],\n",
              "       [1.60974406e-25, 1.00000000e+00, 5.94429895e-14],\n",
              "       [3.70424618e-20, 1.18922289e-13, 1.00000000e+00],\n",
              "       [3.82641307e-29, 1.00000000e+00, 4.43284845e-15],\n",
              "       [5.86156528e-23, 1.00000000e+00, 5.69741285e-16],\n",
              "       [6.20384614e-26, 2.76866956e-14, 1.00000000e+00],\n",
              "       [1.47128585e-13, 7.88030753e-22, 1.00000000e+00],\n",
              "       [1.82060044e-08, 5.11598171e-28, 9.99999982e-01],\n",
              "       [1.00000000e+00, 7.89189072e-55, 5.94282782e-13],\n",
              "       [9.73677840e-20, 1.36187486e-22, 1.00000000e+00],\n",
              "       [4.99456612e-06, 4.98373594e-18, 9.99995005e-01],\n",
              "       [1.04261225e-21, 6.32953630e-13, 1.00000000e+00],\n",
              "       [1.00000000e+00, 3.17142519e-38, 6.35915999e-13],\n",
              "       [1.00000000e+00, 4.03080589e-52, 2.14481105e-13],\n",
              "       [1.00000000e+00, 1.61738299e-67, 2.46781316e-22],\n",
              "       [1.00000000e+00, 1.75735069e-53, 1.52491472e-14],\n",
              "       [1.00000000e+00, 1.72733961e-45, 5.94904717e-17],\n",
              "       [7.91951771e-14, 1.81460168e-20, 1.00000000e+00],\n",
              "       [1.00000000e+00, 3.62130771e-58, 2.73811507e-20],\n",
              "       [5.18135716e-26, 8.59108699e-16, 1.00000000e+00],\n",
              "       [9.99999593e-01, 4.02784964e-41, 4.07016993e-07],\n",
              "       [1.00000000e+00, 2.66196737e-53, 1.96370891e-18],\n",
              "       [2.50917325e-16, 3.97363932e-07, 9.99999603e-01],\n",
              "       [1.71952807e-21, 1.67126428e-17, 1.00000000e+00],\n",
              "       [1.00000000e+00, 5.19364414e-64, 1.55596461e-20],\n",
              "       [1.00000000e+00, 8.78007110e-43, 8.59725035e-12],\n",
              "       [5.33359391e-25, 3.26364650e-12, 1.00000000e+00],\n",
              "       [6.86687928e-03, 1.46954210e-21, 9.93133121e-01],\n",
              "       [4.33311435e-30, 1.00000000e+00, 9.78897350e-15],\n",
              "       [1.00000000e+00, 5.18972467e-30, 4.58868935e-10],\n",
              "       [2.24549340e-20, 1.00000000e+00, 3.06075243e-12],\n",
              "       [1.82216553e-29, 1.00000000e+00, 1.11475950e-12],\n",
              "       [1.43759760e-20, 3.97607056e-16, 1.00000000e+00],\n",
              "       [1.00000000e+00, 4.77092620e-53, 8.38239505e-22],\n",
              "       [1.00000000e+00, 9.56300989e-54, 8.54313151e-19],\n",
              "       [2.45478474e-05, 1.57386376e-21, 9.99975452e-01],\n",
              "       [1.92022191e-12, 4.72211045e-24, 1.00000000e+00],\n",
              "       [3.87708212e-32, 1.00000000e+00, 1.19379005e-11],\n",
              "       [2.26797716e-13, 3.00176699e-25, 1.00000000e+00],\n",
              "       [8.12744614e-17, 2.22185963e-33, 1.00000000e+00],\n",
              "       [1.00000000e+00, 5.09713761e-52, 2.25608626e-22],\n",
              "       [1.00000000e+00, 2.40066764e-54, 8.32502550e-19],\n",
              "       [7.37277367e-19, 6.00958505e-17, 1.00000000e+00],\n",
              "       [3.82317492e-17, 8.08993371e-11, 1.00000000e+00],\n",
              "       [1.00000000e+00, 3.26939985e-62, 2.96592308e-22],\n",
              "       [3.08087908e-24, 9.93197231e-01, 6.80276910e-03],\n",
              "       [3.10203427e-03, 1.06946456e-23, 9.96897966e-01],\n",
              "       [1.87539460e-12, 9.99950768e-01, 4.92323310e-05],\n",
              "       [6.99469008e-12, 5.00277099e-23, 1.00000000e+00],\n",
              "       [1.41529280e-17, 9.99999979e-01, 2.08154649e-08],\n",
              "       [9.38299249e-21, 5.09409624e-13, 1.00000000e+00],\n",
              "       [4.46714746e-21, 1.00000000e+00, 7.85576359e-12],\n",
              "       [9.99991107e-01, 1.84696944e-25, 8.89343300e-06],\n",
              "       [1.00000000e+00, 4.63856861e-31, 1.17762977e-10],\n",
              "       [9.93937906e-01, 2.38010482e-24, 6.06209406e-03],\n",
              "       [9.99999996e-01, 2.99950964e-39, 3.59971011e-09],\n",
              "       [1.00000000e+00, 2.74064254e-43, 1.75067426e-14],\n",
              "       [2.80079088e-27, 1.00000000e+00, 1.02524197e-15],\n",
              "       [8.93236547e-10, 1.17043493e-14, 9.99999999e-01],\n",
              "       [9.99999999e-01, 2.44662864e-33, 1.27642844e-09],\n",
              "       [7.06104274e-32, 1.00000000e+00, 8.20023964e-15],\n",
              "       [1.00000000e+00, 9.29198156e-63, 2.54121908e-24],\n",
              "       [6.69970684e-10, 3.59162013e-22, 9.99999999e-01],\n",
              "       [1.00000000e+00, 1.63148564e-47, 1.04694983e-13],\n",
              "       [9.99999998e-01, 2.04462085e-37, 1.55981675e-09],\n",
              "       [7.51806679e-19, 1.27870785e-07, 9.99999872e-01],\n",
              "       [1.00000000e+00, 2.32917312e-39, 5.03990909e-16]])"
            ]
          },
          "metadata": {},
          "execution_count": 44
        }
      ]
    },
    {
      "cell_type": "code",
      "source": [
        "y_predict=reg.predict(X_test)\n",
        "print(y_predict)"
      ],
      "metadata": {
        "colab": {
          "base_uri": "https://localhost:8080/"
        },
        "id": "j3lVLPh7SniK",
        "outputId": "09023798-d10a-4425-ad2a-0395c6f91433"
      },
      "execution_count": 45,
      "outputs": [
        {
          "output_type": "stream",
          "name": "stdout",
          "text": [
            "['Gentoo' 'Gentoo' 'Gentoo' 'Gentoo' 'Chinstrap' 'Chinstrap' 'Chinstrap'\n",
            " 'Gentoo' 'Adelie' 'Gentoo' 'Chinstrap' 'Adelie' 'Adelie' 'Adelie'\n",
            " 'Chinstrap' 'Adelie' 'Adelie' 'Gentoo' 'Chinstrap' 'Adelie' 'Adelie'\n",
            " 'Adelie' 'Gentoo' 'Adelie' 'Gentoo' 'Gentoo' 'Adelie' 'Gentoo' 'Adelie'\n",
            " 'Gentoo' 'Adelie' 'Adelie' 'Gentoo' 'Adelie' 'Adelie' 'Adelie'\n",
            " 'Chinstrap' 'Gentoo' 'Adelie' 'Gentoo' 'Chinstrap' 'Chinstrap'\n",
            " 'Chinstrap' 'Adelie' 'Adelie' 'Adelie' 'Gentoo' 'Adelie' 'Adelie'\n",
            " 'Gentoo' 'Adelie' 'Gentoo' 'Chinstrap' 'Adelie' 'Adelie' 'Gentoo'\n",
            " 'Adelie' 'Gentoo' 'Gentoo' 'Gentoo' 'Gentoo' 'Adelie' 'Chinstrap'\n",
            " 'Adelie' 'Chinstrap' 'Gentoo' 'Adelie' 'Adelie' 'Adelie' 'Adelie'\n",
            " 'Gentoo' 'Adelie' 'Adelie' 'Chinstrap' 'Chinstrap' 'Chinstrap' 'Adelie'\n",
            " 'Adelie' 'Adelie' 'Gentoo' 'Adelie' 'Chinstrap' 'Gentoo' 'Adelie'\n",
            " 'Gentoo' 'Gentoo']\n"
          ]
        }
      ]
    },
    {
      "cell_type": "code",
      "source": [
        "reg.score(X_test, y_test)"
      ],
      "metadata": {
        "colab": {
          "base_uri": "https://localhost:8080/"
        },
        "id": "HYtpZQV6SuT8",
        "outputId": "1dbb75ab-8e95-4124-e7b6-5b03e2ce3aff"
      },
      "execution_count": 46,
      "outputs": [
        {
          "output_type": "execute_result",
          "data": {
            "text/plain": [
              "1.0"
            ]
          },
          "metadata": {},
          "execution_count": 46
        }
      ]
    },
    {
      "cell_type": "code",
      "source": [
        "confusion_matrix(y_test,y_predict)"
      ],
      "metadata": {
        "colab": {
          "base_uri": "https://localhost:8080/"
        },
        "id": "N5hY95p2S1x8",
        "outputId": "3ba195d8-4615-425c-ef8d-d59abe5ad940"
      },
      "execution_count": 47,
      "outputs": [
        {
          "output_type": "execute_result",
          "data": {
            "text/plain": [
              "array([[40,  0,  0],\n",
              "       [ 0, 17,  0],\n",
              "       [ 0,  0, 29]])"
            ]
          },
          "metadata": {},
          "execution_count": 47
        }
      ]
    },
    {
      "cell_type": "code",
      "source": [
        "cm=confusion_matrix(y_test,y_predict)\n",
        "fig, ax = plt.subplots(figsize=(8, 8))\n",
        "ax.imshow(cm)\n",
        "ax.grid(False)\n",
        "ax.xaxis.set(ticks=(0, 1), ticklabels=('Predicted 0s', 'Predicted 1s'))\n",
        "ax.yaxis.set(ticks=(0, 1), ticklabels=('Actual 0s', 'Actual 1s'))\n",
        "ax.set_ylim(1.5, -0.5)\n",
        "for i in range(2):\n",
        "    for j in range(2):\n",
        "        ax.text(j, i, cm[i, j], ha='center', va='center', color='red')\n",
        "plt.show()"
      ],
      "metadata": {
        "colab": {
          "base_uri": "https://localhost:8080/",
          "height": 345
        },
        "id": "amdSVM-SS8-e",
        "outputId": "2cd812eb-898c-46ce-cbdb-a5f576621c38"
      },
      "execution_count": 48,
      "outputs": [
        {
          "output_type": "display_data",
          "data": {
            "text/plain": [
              "<Figure size 576x576 with 1 Axes>"
            ],
            "image/png": "[encoded data removed]"
          },
          "metadata": {
            "needs_background": "light"
          }
        }
      ]
    },
    {
      "cell_type": "code",
      "source": [
        "print(classification_report(y_test, y_predict))"
      ],
      "metadata": {
        "colab": {
          "base_uri": "https://localhost:8080/"
        },
        "id": "3urltS-XTFIM",
        "outputId": "8809f4f9-d577-42c6-b60a-c83e784ca93f"
      },
      "execution_count": 49,
      "outputs": [
        {
          "output_type": "stream",
          "name": "stdout",
          "text": [
            "              precision    recall  f1-score   support\n",
            "\n",
            "      Adelie       1.00      1.00      1.00        40\n",
            "   Chinstrap       1.00      1.00      1.00        17\n",
            "      Gentoo       1.00      1.00      1.00        29\n",
            "\n",
            "    accuracy                           1.00        86\n",
            "   macro avg       1.00      1.00      1.00        86\n",
            "weighted avg       1.00      1.00      1.00        86\n",
            "\n"
          ]
        }
      ]
    }
  ]
}